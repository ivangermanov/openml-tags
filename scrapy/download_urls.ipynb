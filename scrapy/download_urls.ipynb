{
 "cells": [
  {
   "cell_type": "code",
   "id": "initial_id",
   "metadata": {
    "collapsed": true,
    "ExecuteTime": {
     "end_time": "2024-04-14T18:29:59.031137Z",
     "start_time": "2024-04-14T18:29:40.567283Z"
    }
   },
   "source": [
    "import openml\n",
    "import pandas as pd\n",
    "\n",
    "datasets = openml.datasets.list_datasets()\n",
    "print(openml.datasets.list_datasets()[531])\n",
    "\n",
    "ids = list(datasets.keys())\n",
    "print(\"Number of datasets: \", len(ids))\n",
    "\n",
    "# Removing non-dataset entries \n",
    "ids.remove(4537)\n",
    "ids.remove(4546)\n",
    "ids.remove(4562)\n",
    "\n",
    "# Fetching dataset\n",
    "datasets = openml.datasets.get_datasets(ids, download_data=False, download_qualities=False)"
   ],
   "execution_count": 2,
   "outputs": []
  },
  {
   "cell_type": "code",
   "source": [
    "df = pd.DataFrame([dataset.__dict__ for dataset in datasets])\n",
    "# Add the OpenML URL to the dataframe\n",
    "df['openml_url'] = [dataset.openml_url for dataset in datasets]"
   ],
   "metadata": {
    "collapsed": false,
    "ExecuteTime": {
     "end_time": "2024-04-14T18:29:59.058791Z",
     "start_time": "2024-04-14T18:29:59.032066Z"
    }
   },
   "id": "f01d78e8c56f2f0",
   "execution_count": 3,
   "outputs": []
  },
  {
   "cell_type": "code",
   "source": [
    "# filter out only datasets that have an original_data_url\n",
    "df = df[df['original_data_url'].notna()]\n",
    "df"
   ],
   "metadata": {
    "collapsed": false,
    "ExecuteTime": {
     "end_time": "2024-04-14T18:29:59.077087Z",
     "start_time": "2024-04-14T18:29:59.059504Z"
    }
   },
   "id": "e1c2af0fdfbc871",
   "execution_count": 4,
   "outputs": []
  },
  {
   "cell_type": "code",
   "source": [
    "# leave in only the columns for dataset_id and original_data_url\n",
    "df = df[['dataset_id', 'original_data_url']]\n",
    "df"
   ],
   "metadata": {
    "collapsed": false,
    "ExecuteTime": {
     "end_time": "2024-04-14T18:29:59.081800Z",
     "start_time": "2024-04-14T18:29:59.078281Z"
    }
   },
   "id": "914097d35620b416",
   "execution_count": 5,
   "outputs": []
  },
  {
   "cell_type": "code",
   "source": [
    "# Fix broken links to archive.ics.uci\n",
    "df.loc[df['original_data_url'] == 'https://archive.ics.uci.edu/ml/datasets/Chess+(King-Rook+vs.+King-Pawn)', 'original_data_url'] = 'https://archive.ics.uci.edu/dataset/22/chess+king+rook+vs+king+pawn'\n",
    "df.loc[df['original_data_url'] == 'https://archive.ics.uci.edu/ml/datasets/Molecular+Biology+(Splice-junction+Gene+Sequences)', 'original_data_url'] = 'https://archive.ics.uci.edu/dataset/39/molecular+biology+splice+junction+gene+sequences'\n",
    "df.loc[df['original_data_url'] == 'https://archive.ics.uci.edu/ml/datasets/Tic-Tac-Toe+Endgame', 'original_data_url'] = 'https://archive.ics.uci.edu/dataset/29/tic+tac+toe+endgame'\n",
    "df.loc[df['original_data_url'] == 'https://archive.ics.uci.edu/ml/datasets/Connectionist+Bench+(Vowel+Recognition+-+Deterding+Data)', 'original_data_url'] = 'https://archive.ics.uci.edu/dataset/176/connectionist+bench+vowel+recognition+deterding+data'\n",
    "df.loc[df['original_data_url'] == 'http://archive.ics.uci.edu/ml/datasets/Smartphone-Based+Recognition+of+Human+Activities+and+Postural+Transitions', 'original_data_url'] = 'https://archive.ics.uci.edu/dataset/286/smartphone+based+recognition+of+human+activities+and+postural+transitions'\n",
    "df.loc[df['original_data_url'] == 'http://sci2s.ugr.es/keel/dataset.php?cod=63, https://archive.ics.uci.edu/ml/datasets/LED+Display+Domain', 'original_data_url'] = 'https://archive.ics.uci.edu/ml/datasets/LED+Display+Domain'\n",
    "df.loc[df['original_data_url'] == 'https://archive.ics.uci.edu/ml/datasets/Census-Income+%28KDD%29', 'original_data_url'] = 'https://archive.ics.uci.edu/dataset/372/census+income+kdd'\n",
    "df.loc[df['original_data_url'] == 'https://archive.ics.uci.edu/ml/datasets/Beijing+PM2.5+Data', 'original_data_url'] = 'https://archive.ics.uci.edu/dataset/435/beijing+pm2.5+data'\n",
    "df.loc[df['original_data_url'] == 'https://archive.ics.uci.edu/ml/datasets/Estimation+of+obesity+levels+based+on+eating+habits+and+physical+condition+', 'original_data_url'] = 'https://archive.ics.uci.edu/dataset/417/estimation+of+obesity+levels+based+on+eating+habits+and+physical+condition'\n",
    "df.loc[df['original_data_url'] == 'https://archive.ics.uci.edu/ml/datasets/CNNpred%3A+CNN-based+stock+market+prediction+using+a+diverse+set+of+variables', 'original_data_url'] = 'https://archive.ics.uci.edu/dataset/372/cnnpred+cnn+based+stock+market+prediction+using+a+diverse+set+of+variables'\n",
    "df.loc[df['original_data_url'] == 'https://archive.ics.uci.edu/ml/datasets/haberman\\'s+survival', 'original_data_url'] = 'https://archive.ics.uci.edu/dataset/43/haberman+s+survival'\n",
    "# https://archive.ics.uci.edu/ml/machine-learning-databases/thyroid-disease/ to https://archive.ics.uci.edu/dataset/102/thyroid+disease\n",
    "df.loc[df['original_data_url'] == 'https://archive.ics.uci.edu/ml/machine-learning-databases/thyroid-disease/', 'original_data_url'] = 'https://archive.ics.uci.edu/dataset/102/thyroid+disease'\n",
    "# https://archive.ics.uci.edu/ml/datasets/Post-Operative+Patient to https://archive.ics.uci.edu/dataset/82/post+operative+patient\n",
    "df.loc[df['original_data_url'] == 'https://archive.ics.uci.edu/ml/datasets/Post-Operative+Patient', 'original_data_url'] = 'https://archive.ics.uci.edu/dataset/82/post+operative+patient'\n",
    "# https://archive.ics.uci.edu/ml/datasets/MONK's+Problems to https://archive.ics.uci.edu/dataset/70/monk+s+problems\n",
    "df.loc[df['original_data_url'] == 'https://archive.ics.uci.edu/ml/datasets/MONK\\'s+Problems', 'original_data_url'] = 'https://archive.ics.uci.edu/dataset/70/monk+s+problems'\n",
    "# archive.ics.uci.edu/ml/datasets/IDA2016Challenge to https://archive.ics.uci.edu/dataset/414/ida2016challenge\n",
    "df.loc[df['original_data_url'] == 'archive.ics.uci.edu/ml/datasets/IDA2016Challenge', 'original_data_url'] = 'https://archive.ics.uci.edu/dataset/414/ida2016challenge'\n",
    "# http://archive.ics.uci.edu/ml/datasets/Optical+Interconnection+Network+Optical+Interconnection+Network to http://archive.ics.uci.edu/dataset/449/optical+interconnection+network\n",
    "df.loc[df['original_data_url'] == 'http://archive.ics.uci.edu/ml/datasets/Optical+Interconnection+Network+', 'original_data_url'] = 'http://archive.ics.uci.edu/dataset/449/optical+interconnection+network'\n",
    "# https://archive.ics.uci.edu/ml/datasets/Pen-Based+Recognition+of+Handwritten+Digits to https://archive.ics.uci.edu/dataset/81/pen+based+recognition+of+handwritten+digits\n",
    "df.loc[df['original_data_url'] == 'https://archive.ics.uci.edu/ml/datasets/Pen-Based+Recognition+of+Handwritten+Digits', 'original_data_url'] = 'https://archive.ics.uci.edu/dataset/81/pen+based+recognition+of+handwritten+digits'\n",
    "# https://archive.ics.uci.edu/ml/datasets/Electrical+Grid+Stability+Simulated+Data+ to https://archive.ics.uci.edu/ml/datasets/Electrical+Grid+Stability+Simulated+Data\n",
    "df.loc[df['original_data_url'] == 'https://archive.ics.uci.edu/ml/datasets/Electrical+Grid+Stability+Simulated+Data+', 'original_data_url'] = 'https://archive.ics.uci.edu/dataset/471/electrical+grid+stability+simulated+data'\n",
    "# https://archive.ics.uci.edu/ml/datasets/airfoil+self-noise to https://archive.ics.uci.edu/dataset/291/airfoil+self+noise\n",
    "df.loc[df['original_data_url'] == 'https://archive.ics.uci.edu/ml/datasets/airfoil+self-noise', 'original_data_url'] = 'https://archive.ics.uci.edu/dataset/291/airfoil+self+noise'"
   ],
   "metadata": {
    "collapsed": false,
    "is_executing": true,
    "ExecuteTime": {
     "end_time": "2024-04-14T18:29:59.090018Z",
     "start_time": "2024-04-14T18:29:59.082447Z"
    }
   },
   "id": "33bb278650054b0f",
   "execution_count": 6,
   "outputs": []
  },
  {
   "cell_type": "code",
   "source": [
    "import os\n",
    "if not os.path.exists('./datasets'):\n",
    "    os.makedirs('./datasets')\n",
    "df[df['original_data_url'].str.contains('archive.ics.uci.edu')].to_json('./datasets/archive_ics_uci_edu.json', orient='records')\n",
    "df[df['original_data_url'].str.contains('kaggle')].to_json('./datasets/kaggle.json', orient='records')\n",
    "df[df['original_data_url'].str.contains\n",
    "('ebi.ac.uk')].to_json('./datasets/ebi_ac_uk.json', orient='records')"
   ],
   "metadata": {
    "collapsed": false,
    "is_executing": true,
    "ExecuteTime": {
     "end_time": "2024-04-14T18:29:59.097339Z",
     "start_time": "2024-04-14T18:29:59.090627Z"
    }
   },
   "id": "ad8e351f720fe86a",
   "execution_count": 7,
   "outputs": []
  },
  {
   "cell_type": "code",
   "source": "df[df['original_data_url'].str.contains('archive.ics.uci.edu')]",
   "metadata": {
    "collapsed": false,
    "ExecuteTime": {
     "end_time": "2024-04-14T18:29:59.101527Z",
     "start_time": "2024-04-14T18:29:59.097922Z"
    }
   },
   "id": "ba8b4ef04aaeeea7",
   "execution_count": 8,
   "outputs": []
  },
  {
   "metadata": {
    "ExecuteTime": {
     "end_time": "2024-04-14T18:29:59.107003Z",
     "start_time": "2024-04-14T18:29:59.102105Z"
    }
   },
   "cell_type": "code",
   "source": "df.drop_duplicates(subset='original_data_url')[df['original_data_url'].str.contains('archive.ics.uci.edu')]",
   "id": "79094c9d90ced21e",
   "execution_count": 9,
   "outputs": []
  },
  {
   "cell_type": "code",
   "source": [
    "df[df['original_data_url'].str.contains('kaggle')]"
   ],
   "metadata": {
    "collapsed": false,
    "ExecuteTime": {
     "end_time": "2024-04-14T18:29:59.111582Z",
     "start_time": "2024-04-14T18:29:59.107587Z"
    }
   },
   "id": "14d97aa429bea089",
   "execution_count": 10,
   "outputs": []
  },
  {
   "cell_type": "code",
   "source": [
    "df[df['original_data_url'].str.contains('ebi.ac.uk')]"
   ],
   "metadata": {
    "collapsed": false,
    "ExecuteTime": {
     "end_time": "2024-04-14T18:29:59.116520Z",
     "start_time": "2024-04-14T18:29:59.113108Z"
    }
   },
   "id": "f2782cd26c3afc47",
   "execution_count": 11,
   "outputs": []
  },
  {
   "cell_type": "code",
   "source": [
    "df.drop_duplicates(subset='original_data_url')['original_data_url']"
   ],
   "metadata": {
    "collapsed": false,
    "is_executing": true,
    "ExecuteTime": {
     "end_time": "2024-04-14T18:29:59.119809Z",
     "start_time": "2024-04-14T18:29:59.116968Z"
    }
   },
   "id": "2957aab3683c4cc1",
   "execution_count": 12,
   "outputs": []
  },
  {
   "metadata": {
    "ExecuteTime": {
     "end_time": "2024-04-14T18:29:59.122348Z",
     "start_time": "2024-04-14T18:29:59.120353Z"
    }
   },
   "cell_type": "code",
   "source": "os.getcwd()",
   "id": "4954d2ae410f2721",
   "execution_count": 13,
   "outputs": []
  },
  {
   "cell_type": "code",
   "source": [
    "import json\n",
    "with open('./openml_tags/openml_tags/spiders/data/archive_ics_uci_edu.json') as f:\n",
    "    data = json.load(f)\n",
    "    \n",
    "print(len(data))\n",
    "\n",
    "with open('./datasets/archive_ics_uci_edu.json') as f:\n",
    "    data = json.load(f)\n",
    "\n",
    "print(len(data))"
   ],
   "metadata": {
    "collapsed": false,
    "ExecuteTime": {
     "end_time": "2024-04-14T18:29:59.126912Z",
     "start_time": "2024-04-14T18:29:59.123060Z"
    }
   },
   "id": "abfe28cb68c6e9cd",
   "execution_count": 14,
   "outputs": []
  },
  {
   "metadata": {
    "ExecuteTime": {
     "end_time": "2024-04-14T18:38:07.836378Z",
     "start_time": "2024-04-14T18:38:07.816145Z"
    }
   },
   "cell_type": "code",
   "source": [
    "# same but for ebi\n",
    "with open('./openml_tags/openml_tags/spiders/data/ebi_ac_uk.json') as f:\n",
    "    data = json.load(f)\n",
    "    \n",
    "print(len(data))\n",
    "\n",
    "with open('./datasets/ebi_ac_uk.json') as f:\n",
    "    data = json.load(f)\n",
    "\n",
    "print(len(data))"
   ],
   "id": "554220c956e3d977",
   "execution_count": 16,
   "outputs": []
  }
 ],
 "metadata": {
  "kernelspec": {
   "display_name": "Python 3",
   "language": "python",
   "name": "python3"
  },
  "language_info": {
   "codemirror_mode": {
    "name": "ipython",
    "version": 2
   },
   "file_extension": ".py",
   "mimetype": "text/x-python",
   "name": "python",
   "nbconvert_exporter": "python",
   "pygments_lexer": "ipython2",
   "version": "2.7.6"
  }
 },
 "nbformat": 4,
 "nbformat_minor": 5
}
