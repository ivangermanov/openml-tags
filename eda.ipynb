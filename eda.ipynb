{
 "cells": [
  {
   "cell_type": "code",
   "execution_count": 11,
   "id": "initial_id",
   "metadata": {
    "collapsed": true,
    "ExecuteTime": {
     "end_time": "2024-03-15T16:48:00.255931Z",
     "start_time": "2024-03-15T16:48:00.252462Z"
    }
   },
   "outputs": [],
   "source": [
    "import openml\n",
    "import pandas as pd"
   ]
  },
  {
   "cell_type": "code",
   "execution_count": 12,
   "outputs": [
    {
     "name": "stderr",
     "output_type": "stream",
     "text": [
      "/var/folders/cl/69z7wmcn5xx7cb7wc_xvd8fw0000gn/T/ipykernel_59319/3289773090.py:1: FutureWarning: Support for `output_format` of 'dict' will be removed in 0.15 and pandas dataframes will be returned instead. To ensure your code will continue to work, use `output_format`='dataframe'.\n",
      "  datasets = openml.datasets.list_datasets()\n"
     ]
    }
   ],
   "source": [
    "datasets = openml.datasets.list_datasets()"
   ],
   "metadata": {
    "collapsed": false,
    "ExecuteTime": {
     "end_time": "2024-03-15T16:48:01.645620Z",
     "start_time": "2024-03-15T16:48:00.268982Z"
    }
   },
   "id": "bcbfbd068d15e4df"
  },
  {
   "cell_type": "markdown",
   "source": [],
   "metadata": {
    "collapsed": false
   },
   "id": "55610521e733f5ff"
  },
  {
   "cell_type": "code",
   "execution_count": 13,
   "outputs": [
    {
     "name": "stderr",
     "output_type": "stream",
     "text": [
      "/var/folders/cl/69z7wmcn5xx7cb7wc_xvd8fw0000gn/T/ipykernel_59319/1330030242.py:1: FutureWarning: Support for `output_format` of 'dict' will be removed in 0.15 and pandas dataframes will be returned instead. To ensure your code will continue to work, use `output_format`='dataframe'.\n",
      "  openml.datasets.list_datasets()[531]\n"
     ]
    },
    {
     "data": {
      "text/plain": "{'did': 531,\n 'name': 'boston',\n 'version': 1,\n 'uploader': '2',\n 'status': 'active',\n 'format': 'ARFF',\n 'MaxNominalAttDistinctValues': 9.0,\n 'NumberOfClasses': 0.0,\n 'NumberOfFeatures': 14.0,\n 'NumberOfInstances': 506.0,\n 'NumberOfInstancesWithMissingValues': 0.0,\n 'NumberOfMissingValues': 0.0,\n 'NumberOfNumericFeatures': 12.0,\n 'NumberOfSymbolicFeatures': 2.0}"
     },
     "execution_count": 13,
     "metadata": {},
     "output_type": "execute_result"
    }
   ],
   "source": [
    "openml.datasets.list_datasets()[531]"
   ],
   "metadata": {
    "collapsed": false,
    "ExecuteTime": {
     "end_time": "2024-03-15T16:48:03.052077Z",
     "start_time": "2024-03-15T16:48:01.646725Z"
    }
   },
   "id": "1d620ef22ba54e79"
  },
  {
   "cell_type": "code",
   "execution_count": 14,
   "outputs": [
    {
     "data": {
      "text/plain": "5443"
     },
     "execution_count": 14,
     "metadata": {},
     "output_type": "execute_result"
    }
   ],
   "source": [
    "# dataset_ids is ordered_dict, map to variable with only ids\n",
    "ids = list(datasets.keys())\n",
    "len(ids)"
   ],
   "metadata": {
    "collapsed": false,
    "ExecuteTime": {
     "end_time": "2024-03-15T16:48:03.055463Z",
     "start_time": "2024-03-15T16:48:03.052793Z"
    }
   },
   "id": "273640f993c25271"
  },
  {
   "cell_type": "code",
   "execution_count": 15,
   "outputs": [],
   "source": [
    "# remove 4537, 4546, 4562, because it is not a dataset\n",
    "ids.remove(4537)\n",
    "ids.remove(4546)\n",
    "ids.remove(4562)"
   ],
   "metadata": {
    "collapsed": false,
    "ExecuteTime": {
     "end_time": "2024-03-15T16:48:03.058510Z",
     "start_time": "2024-03-15T16:48:03.056640Z"
    }
   },
   "id": "cde5f5dce80b18b2"
  },
  {
   "cell_type": "code",
   "execution_count": 16,
   "outputs": [
    {
     "name": "stderr",
     "output_type": "stream",
     "text": [
      "/Users/ivang/miniconda3/envs/openml-tags/lib/python3.12/site-packages/openml/datasets/functions.py:447: FutureWarning: Starting from Version 0.15 `download_data`, `download_qualities`, and `download_features_meta_data` will all be ``False`` instead of ``True`` by default to enable lazy loading. To disable this message until version 0.15 explicitly set `download_data`, `download_qualities`, and `download_features_meta_data` to a bool while calling `get_dataset`.\n",
      "  get_dataset(dataset_id, download_data, download_qualities=download_qualities),\n"
     ]
    },
    {
     "data": {
      "text/plain": "5440"
     },
     "execution_count": 16,
     "metadata": {},
     "output_type": "execute_result"
    }
   ],
   "source": [
    "datasets = openml.datasets.get_datasets(ids, download_data=False, download_qualities=False)\n",
    "len(datasets)"
   ],
   "metadata": {
    "collapsed": false,
    "ExecuteTime": {
     "end_time": "2024-03-15T16:48:09.154589Z",
     "start_time": "2024-03-15T16:48:03.059099Z"
    }
   },
   "id": "3537414e2037f583"
  },
  {
   "cell_type": "code",
   "outputs": [
    {
     "data": {
      "text/plain": "'public'"
     },
     "execution_count": 53,
     "metadata": {},
     "output_type": "execute_result"
    }
   ],
   "source": [
    "datasets[0]\n"
   ],
   "metadata": {
    "collapsed": false,
    "ExecuteTime": {
     "end_time": "2024-03-15T17:03:05.925356Z",
     "start_time": "2024-03-15T17:03:05.922393Z"
    }
   },
   "id": "ca4875ecdb018ce4",
   "execution_count": 53
  },
  {
   "cell_type": "code",
   "outputs": [
    {
     "data": {
      "text/plain": "  ignore_attribute  dataset_id        name  version  \\\n0             None           2      anneal        1   \n1             None           3    kr-vs-kp        1   \n2             None           4       labor        1   \n3             None           5  arrhythmia        1   \n4             None           6      letter        1   \n\n                                         description cache_format format  \\\n0  **Author**: Unknown. Donated by David Sterling...       pickle   ARFF   \n1  Author: Alen Shapiro\\nSource: [UCI](https://ar...       pickle   ARFF   \n2  **Author**: Unknown\\n**Source**: Collective Ba...       pickle   ARFF   \n3  **Author**: H. Altay Guvenir, Burak Acar, Hald...       pickle   ARFF   \n4  **Author**: David J. Slate  \\n**Source**: [UCI...       pickle   ARFF   \n\n                                             creator  \\\n0                     [David Sterling, Wray Buntine]   \n1                                       Alen Shapiro   \n2      Collective Bargaining Review of Labour Canada   \n3  [H. Altay Guvenir, Burak Acar, Haldun Muderris...   \n4                                     David J. Slate   \n\n                       contributor collection_date  ...  \\\n0  David Sterling and Wray Buntine            1990  ...   \n1                        Rob Holte      1989-08-01  ...   \n2                      Stan Matwin      1988-11-01  ...   \n3                             None      1998-01-01  ...   \n4                             None      1991-01-01  ...   \n\n                                           data_file  \\\n0  /Users/ivang/.openml/org/openml/www/datasets/2...   \n1                                               None   \n2                                               None   \n3                                               None   \n4                                               None   \n\n                                        parquet_file _dataset  \\\n0  /Users/ivang/.openml/org/openml/www/datasets/2...     None   \n1                                               None     None   \n2                                               None     None   \n3                                               None     None   \n4                                               None     None   \n\n                                      _parquet_url  \\\n0  http://openml1.win.tue.nl/dataset2/dataset_2.pq   \n1  http://openml1.win.tue.nl/dataset3/dataset_3.pq   \n2  http://openml1.win.tue.nl/dataset4/dataset_4.pq   \n3  http://openml1.win.tue.nl/dataset5/dataset_5.pq   \n4  http://openml1.win.tue.nl/dataset6/dataset_6.pq   \n\n                                           _features  \\\n0  {0: [0 - family (nominal)], 1: [1 - product-ty...   \n1  {0: [0 - bkblk (nominal)], 1: [1 - bknwy (nomi...   \n2  {0: [0 - duration (numeric)], 1: [1 - wage-inc...   \n3  {0: [0 - age (numeric)], 1: [1 - sex (nominal)...   \n4  {0: [0 - x-box (numeric)], 1: [1 - y-box (nume...   \n\n                                          _qualities _no_qualities_found  \\\n0  {'AutoCorrelation': 0.6064659977703456, 'CfsSu...               False   \n1                                               None               False   \n2                                               None               False   \n3                                               None               False   \n4                                               None               False   \n\n                                    data_pickle_file data_feather_file  \\\n0  /Users/ivang/.openml/org/openml/www/datasets/2...              None   \n1                                               None              None   \n2                                               None              None   \n3                                               None              None   \n4                                               None              None   \n\n  feather_attribute_file  \n0                   None  \n1                   None  \n2                   None  \n3                   None  \n4                   None  \n\n[5 rows x 34 columns]",
      "text/html": "<div>\n<style scoped>\n    .dataframe tbody tr th:only-of-type {\n        vertical-align: middle;\n    }\n\n    .dataframe tbody tr th {\n        vertical-align: top;\n    }\n\n    .dataframe thead th {\n        text-align: right;\n    }\n</style>\n<table border=\"1\" class=\"dataframe\">\n  <thead>\n    <tr style=\"text-align: right;\">\n      <th></th>\n      <th>ignore_attribute</th>\n      <th>dataset_id</th>\n      <th>name</th>\n      <th>version</th>\n      <th>description</th>\n      <th>cache_format</th>\n      <th>format</th>\n      <th>creator</th>\n      <th>contributor</th>\n      <th>collection_date</th>\n      <th>...</th>\n      <th>data_file</th>\n      <th>parquet_file</th>\n      <th>_dataset</th>\n      <th>_parquet_url</th>\n      <th>_features</th>\n      <th>_qualities</th>\n      <th>_no_qualities_found</th>\n      <th>data_pickle_file</th>\n      <th>data_feather_file</th>\n      <th>feather_attribute_file</th>\n    </tr>\n  </thead>\n  <tbody>\n    <tr>\n      <th>0</th>\n      <td>None</td>\n      <td>2</td>\n      <td>anneal</td>\n      <td>1</td>\n      <td>**Author**: Unknown. Donated by David Sterling...</td>\n      <td>pickle</td>\n      <td>ARFF</td>\n      <td>[David Sterling, Wray Buntine]</td>\n      <td>David Sterling and Wray Buntine</td>\n      <td>1990</td>\n      <td>...</td>\n      <td>/Users/ivang/.openml/org/openml/www/datasets/2...</td>\n      <td>/Users/ivang/.openml/org/openml/www/datasets/2...</td>\n      <td>None</td>\n      <td>http://openml1.win.tue.nl/dataset2/dataset_2.pq</td>\n      <td>{0: [0 - family (nominal)], 1: [1 - product-ty...</td>\n      <td>{'AutoCorrelation': 0.6064659977703456, 'CfsSu...</td>\n      <td>False</td>\n      <td>/Users/ivang/.openml/org/openml/www/datasets/2...</td>\n      <td>None</td>\n      <td>None</td>\n    </tr>\n    <tr>\n      <th>1</th>\n      <td>None</td>\n      <td>3</td>\n      <td>kr-vs-kp</td>\n      <td>1</td>\n      <td>Author: Alen Shapiro\\nSource: [UCI](https://ar...</td>\n      <td>pickle</td>\n      <td>ARFF</td>\n      <td>Alen Shapiro</td>\n      <td>Rob Holte</td>\n      <td>1989-08-01</td>\n      <td>...</td>\n      <td>None</td>\n      <td>None</td>\n      <td>None</td>\n      <td>http://openml1.win.tue.nl/dataset3/dataset_3.pq</td>\n      <td>{0: [0 - bkblk (nominal)], 1: [1 - bknwy (nomi...</td>\n      <td>None</td>\n      <td>False</td>\n      <td>None</td>\n      <td>None</td>\n      <td>None</td>\n    </tr>\n    <tr>\n      <th>2</th>\n      <td>None</td>\n      <td>4</td>\n      <td>labor</td>\n      <td>1</td>\n      <td>**Author**: Unknown\\n**Source**: Collective Ba...</td>\n      <td>pickle</td>\n      <td>ARFF</td>\n      <td>Collective Bargaining Review of Labour Canada</td>\n      <td>Stan Matwin</td>\n      <td>1988-11-01</td>\n      <td>...</td>\n      <td>None</td>\n      <td>None</td>\n      <td>None</td>\n      <td>http://openml1.win.tue.nl/dataset4/dataset_4.pq</td>\n      <td>{0: [0 - duration (numeric)], 1: [1 - wage-inc...</td>\n      <td>None</td>\n      <td>False</td>\n      <td>None</td>\n      <td>None</td>\n      <td>None</td>\n    </tr>\n    <tr>\n      <th>3</th>\n      <td>None</td>\n      <td>5</td>\n      <td>arrhythmia</td>\n      <td>1</td>\n      <td>**Author**: H. Altay Guvenir, Burak Acar, Hald...</td>\n      <td>pickle</td>\n      <td>ARFF</td>\n      <td>[H. Altay Guvenir, Burak Acar, Haldun Muderris...</td>\n      <td>None</td>\n      <td>1998-01-01</td>\n      <td>...</td>\n      <td>None</td>\n      <td>None</td>\n      <td>None</td>\n      <td>http://openml1.win.tue.nl/dataset5/dataset_5.pq</td>\n      <td>{0: [0 - age (numeric)], 1: [1 - sex (nominal)...</td>\n      <td>None</td>\n      <td>False</td>\n      <td>None</td>\n      <td>None</td>\n      <td>None</td>\n    </tr>\n    <tr>\n      <th>4</th>\n      <td>None</td>\n      <td>6</td>\n      <td>letter</td>\n      <td>1</td>\n      <td>**Author**: David J. Slate  \\n**Source**: [UCI...</td>\n      <td>pickle</td>\n      <td>ARFF</td>\n      <td>David J. Slate</td>\n      <td>None</td>\n      <td>1991-01-01</td>\n      <td>...</td>\n      <td>None</td>\n      <td>None</td>\n      <td>None</td>\n      <td>http://openml1.win.tue.nl/dataset6/dataset_6.pq</td>\n      <td>{0: [0 - x-box (numeric)], 1: [1 - y-box (nume...</td>\n      <td>None</td>\n      <td>False</td>\n      <td>None</td>\n      <td>None</td>\n      <td>None</td>\n    </tr>\n  </tbody>\n</table>\n<p>5 rows × 34 columns</p>\n</div>"
     },
     "execution_count": 54,
     "metadata": {},
     "output_type": "execute_result"
    }
   ],
   "source": [
    "# turn datasets into pandas dataframe with the columns above\n",
    "df = pd.DataFrame([dataset.__dict__ for dataset in datasets])\n",
    "df.head()"
   ],
   "metadata": {
    "collapsed": false,
    "ExecuteTime": {
     "end_time": "2024-03-15T19:16:09.570703Z",
     "start_time": "2024-03-15T19:16:09.536504Z"
    }
   },
   "id": "8ed9131b9c5bf59e",
   "execution_count": 54
  },
  {
   "cell_type": "code",
   "execution_count": 20,
   "outputs": [
    {
     "data": {
      "text/plain": "5175"
     },
     "execution_count": 20,
     "metadata": {},
     "output_type": "execute_result"
    }
   ],
   "source": [
    "# get all datasets with non-empty description\n",
    "datasets = [dataset for dataset in datasets if dataset.description]\n",
    "len(datasets)"
   ],
   "metadata": {
    "collapsed": false,
    "ExecuteTime": {
     "end_time": "2024-03-15T16:48:09.176705Z",
     "start_time": "2024-03-15T16:48:09.173522Z"
    }
   },
   "id": "a763059765a7365c"
  },
  {
   "cell_type": "code",
   "execution_count": 21,
   "outputs": [
    {
     "data": {
      "text/plain": "4666"
     },
     "execution_count": 21,
     "metadata": {},
     "output_type": "execute_result"
    }
   ],
   "source": [
    "# remove datasets with description length < 100\n",
    "datasets = [dataset for dataset in datasets if len(dataset.description) >= 100]\n",
    "len(datasets)"
   ],
   "metadata": {
    "collapsed": false,
    "ExecuteTime": {
     "end_time": "2024-03-15T16:48:09.182546Z",
     "start_time": "2024-03-15T16:48:09.178347Z"
    }
   },
   "id": "bf044b14b71f54fb"
  },
  {
   "cell_type": "code",
   "execution_count": 22,
   "outputs": [
    {
     "data": {
      "text/plain": "OpenML Dataset\n==============\nName.........: anneal\nVersion......: 1\nFormat.......: ARFF\nUpload Date..: 2014-04-06 23:19:24\nLicence......: Public\nDownload URL.: https://api.openml.org/data/v1/download/1666876/anneal.arff\nOpenML URL...: https://www.openml.org/d/2\n# of features: 39"
     },
     "execution_count": 22,
     "metadata": {},
     "output_type": "execute_result"
    }
   ],
   "source": [
    "datasets[0]"
   ],
   "metadata": {
    "collapsed": false,
    "ExecuteTime": {
     "end_time": "2024-03-15T16:48:09.185442Z",
     "start_time": "2024-03-15T16:48:09.183306Z"
    }
   },
   "id": "99867c78ed26b528"
  },
  {
   "cell_type": "code",
   "execution_count": 23,
   "outputs": [
    {
     "data": {
      "text/plain": "3744"
     },
     "execution_count": 23,
     "metadata": {},
     "output_type": "execute_result"
    }
   ],
   "source": [
    "data = [dataset.description for dataset in datasets]\n",
    "\n",
    "# remove all datasets with identical descriptions\n",
    "data = list(set(data))\n",
    "\n",
    "len(data)"
   ],
   "metadata": {
    "collapsed": false,
    "ExecuteTime": {
     "end_time": "2024-03-15T16:48:09.202300Z",
     "start_time": "2024-03-15T16:48:09.186032Z"
    }
   },
   "id": "ee2538ed45cbc1a6"
  },
  {
   "cell_type": "code",
   "execution_count": 24,
   "outputs": [
    {
     "data": {
      "text/plain": "<Figure size 465x300 with 1 Axes>",
      "image/png": "[encoded data removed]"
     },
     "metadata": {},
     "output_type": "display_data"
    }
   ],
   "source": [
    "import matplotlib\n",
    "import matplotlib.pyplot as plt\n",
    "# matplotlib.use(\"pgf\")\n",
    "# # matplotlib.rcParams.update({\n",
    "#     # \"pgf.texsystem\": \"pdflatex\",\n",
    "#     'font.family': 'serif',\n",
    "#     # 'text.usetex': True,\n",
    "#     # 'pgf.rcfonts': False,\n",
    "# })\n",
    "\n",
    "plt.hist([len(d) for d in data], bins=100, color='C0')\n",
    "plt.xlabel('Length of description')\n",
    "plt.ylabel('Number of datasets')\n",
    "# set figure size to smaller\n",
    "plt.gcf().set_size_inches(4.65, 3)\n",
    "\n",
    "plt.subplots_adjust(left=0.15, bottom=0.15, right=0.95, top=0.95)\n",
    "# adjust just bottom, not top left or right\n",
    "# plt.subplots_adjust(bottom=0.15)\n",
    "\n",
    "# plt.show()\n",
    "# save fig as pdf\n",
    "# plt.savefig('description_length_histogram.pdf')\n",
    "\n",
    "# import tikzplotlib\n",
    "# tikzplotlib.save(\"description_length_histogram.tex\")"
   ],
   "metadata": {
    "collapsed": false,
    "ExecuteTime": {
     "end_time": "2024-03-15T16:48:09.609320Z",
     "start_time": "2024-03-15T16:48:09.203049Z"
    }
   },
   "id": "958eb9c019b2ecc1"
  }
 ],
 "metadata": {
  "kernelspec": {
   "display_name": "Python 3",
   "language": "python",
   "name": "python3"
  },
  "language_info": {
   "codemirror_mode": {
    "name": "ipython",
    "version": 2
   },
   "file_extension": ".py",
   "mimetype": "text/x-python",
   "name": "python",
   "nbconvert_exporter": "python",
   "pygments_lexer": "ipython2",
   "version": "2.7.6"
  }
 },
 "nbformat": 4,
 "nbformat_minor": 5
}
