{
 "cells": [
  {
   "cell_type": "code",
   "execution_count": 10,
   "metadata": {},
   "outputs": [],
   "source": [
    "%load_ext autoreload\n",
    "%autoreload 2"
   ]
  },
  {
   "cell_type": "code",
   "execution_count": 11,
   "metadata": {},
   "outputs": [],
   "source": [
    "import random\n",
    "from collections import Counter\n",
    "import matplotlib.pyplot as plt\n",
    "from openai import OpenAI\n",
    "from tqdm import tqdm\n",
    "from collections import defaultdict\n",
    "from scipy import stats\n",
    "import json\n",
    "import pandas as pd\n",
    "import numpy as np"
   ]
  },
  {
   "cell_type": "code",
   "execution_count": 12,
   "metadata": {},
   "outputs": [
    {
     "data": {
      "text/plain": [
       "True"
      ]
     },
     "execution_count": 12,
     "metadata": {},
     "output_type": "execute_result"
    }
   ],
   "source": [
    "from dotenv import load_dotenv\n",
    "\n",
    "load_dotenv()"
   ]
  },
  {
   "cell_type": "code",
   "execution_count": 13,
   "metadata": {},
   "outputs": [
    {
     "name": "stdout",
     "output_type": "stream",
     "text": [
      "/Users/ivang/PycharmProjects/pythonProject/\n",
      "/Users/ivang/PycharmProjects/pythonProject/notebooks\n"
     ]
    }
   ],
   "source": [
    "import sys\n",
    "from pathlib import Path\n",
    "import os\n",
    "\n",
    "project_root = os.getenv('PROJECT_ROOT')\n",
    "sys.path.append(str(project_root))\n",
    "print(project_root)\n",
    "print(os.getcwd())"
   ]
  },
  {
   "cell_type": "code",
   "execution_count": 14,
   "metadata": {},
   "outputs": [],
   "source": [
    "def construct_stage_1(document: str, tags: list):\n",
    "    return f\"\"\"Intruder Detection\n",
    "Please read the following document carefully:\n",
    "\"{document}\"\n",
    "\n",
    "Now, examine the list of tags below. One of these tags is an 'intruder' that doesn't belong. Please identify this intruder tag:\n",
    "{', '.join(tags)}\n",
    "---\n",
    "Give your answer in JSON format {{\"intruder\": \"...\"}}\n",
    "\"\"\""
   ]
  },
  {
   "cell_type": "code",
   "execution_count": 15,
   "metadata": {},
   "outputs": [],
   "source": [
    "def construct_stage_2(document: str, true_tags: list):\n",
    "    return f\"\"\"Tag Quality Assessment\n",
    "Now that you've identified the intruder, here are the predicted tags for this document:\n",
    "{', '.join(true_tags)}\n",
    "And here is the document again:\n",
    "\"{document}\"\n",
    "Please rate each tag on its relevance using the 1-5 scales.\n",
    "\n",
    "Relevance measures how well each tag represents the main themes of the document.\n",
    "\n",
    "1 - Not relevant at all 2 - Slightly relevant 3 - Moderately relevant 4 - Very relevant 5 - Extremely relevant\n",
    "---\n",
    "Please rate each tag on its generality using the 1-5 scales.\n",
    "\n",
    "Generality measures how general or specific the tag is to this particular document.\n",
    "\n",
    "1 - Not general at all, specific to this document 2 - Slightly general 3 - Moderately general 4 - Very general 5 - Highly general, could apply to many documents Not Applicable\n",
    "---\n",
    "Please rate the coverage using the 1-5 scales.\n",
    "\n",
    "Coverage measures how well the set of tags covers the range of themes within the document.\n",
    "\n",
    "1 - Poor coverage, misses major themes, 2 - Limited coverage, 3 - Moderate coverage, 4 - Good coverage, 5 - Excellent coverage, captures all major themes\n",
    "---\n",
    "If you selected any rating other than 5: Excellent coverage, please suggest additional tags that would improve the coverage of the document's themes.\n",
    "---\n",
    "Give your answer in JSON format {{\"relevance\": {{\"keyword\": relevance_score}}, \"generality\": {{\"keyword\": generality_score}}, \"coverage\": coverage_score, \"additional_tags\": [...]}}, where \"keyword\" is a string corresponding to the specific keyword, and score is the score you'd give (number).\"\"\""
   ]
  },
  {
   "cell_type": "code",
   "execution_count": 16,
   "metadata": {},
   "outputs": [],
   "source": [
    "def append_to_json(file_path, new_data):\n",
    "    \"\"\"Append new data to a JSON array stored in a file.\"\"\"\n",
    "    if os.path.exists(file_path):\n",
    "        with open(file_path, 'r+') as file:\n",
    "            # Load existing data\n",
    "            try:\n",
    "                data = json.load(file)\n",
    "            except json.JSONDecodeError:\n",
    "                data = []\n",
    "            # Append new data\n",
    "            data.append(new_data)\n",
    "            # Move the file pointer to the beginning\n",
    "            file.seek(0)\n",
    "            # Write the updated data\n",
    "            json.dump(data, file, indent=2)\n",
    "            # Truncate the file to the current size\n",
    "            file.truncate()\n",
    "    else:\n",
    "        with open(file_path, 'w') as file:\n",
    "            # Write new data in a list\n",
    "            json.dump([new_data], file, indent=2)"
   ]
  },
  {
   "cell_type": "code",
   "execution_count": 17,
   "metadata": {},
   "outputs": [],
   "source": [
    "# from tenacity import retry, stop_after_attempt, wait_exponential, retry_if_exception_type \n",
    "\n",
    "# client = OpenAI()\n",
    "\n",
    "# output_file = 'gpt_evaluation_results.json'\n",
    "\n",
    "# @retry(stop=stop_after_attempt(5), wait=wait_exponential(multiplier=1, min=4, max=10))\n",
    "# def make_openai_request(messages, model=\"gpt-4o-mini\"):\n",
    "#     return client.chat.completions.create(\n",
    "#         model=model,\n",
    "#         response_format={\"type\": \"json_object\"},\n",
    "#         messages=messages\n",
    "#     )\n",
    "\n",
    "# def process_entry(entry):\n",
    "#     document = entry['sequence'].split(\"Keywords:\")[0]\n",
    "#     true_tags = entry['labels'] + entry['overarching_labels'] + entry['keywords_labels']\n",
    "#     lowest_confidence_tag = entry['lowest_confidence_label']\n",
    "#     tags = true_tags + [lowest_confidence_tag]\n",
    "#     random.shuffle(tags)\n",
    "    \n",
    "#     stage_1 = construct_stage_1(document, tags)\n",
    "#     stage_2 = construct_stage_2(document, true_tags)\n",
    "    \n",
    "#     messages = [\n",
    "#         {\"role\": \"system\", \"content\": \"You are a helpful assistant designed to output JSON.\"},\n",
    "#         {\"role\": \"user\", \"content\": stage_1}\n",
    "#     ]\n",
    "    \n",
    "#     response_1 = make_openai_request(messages)\n",
    "    \n",
    "#     result_1 = json.loads(response_1.choices[0].message.content)\n",
    "    \n",
    "#     messages.append({\"role\": \"assistant\", \"content\": response_1.choices[0].message.content})\n",
    "#     messages.append({\"role\": \"user\", \"content\": stage_2})\n",
    "    \n",
    "#     response_2 = make_openai_request(messages)\n",
    "    \n",
    "#     result_2 = json.loads(response_2.choices[0].message.content)\n",
    "    \n",
    "#     return {\n",
    "#         \"document\": document,\n",
    "#         \"true_tags\": true_tags,\n",
    "#         \"lowest_confidence_tag\": lowest_confidence_tag,\n",
    "#         \"stage_1_result\": result_1,\n",
    "#         \"stage_2_result\": result_2\n",
    "#     }\n",
    "# for entry in tqdm(human_evaluation_all, desc=\"Processing entries\"):\n",
    "# for entry in tqdm(not_found_entries, desc=\"Processing entries\"):\n",
    "#     try:\n",
    "#         result_data = process_entry(entry)\n",
    "#         append_to_json(output_file, result_data)\n",
    "#     except Exception as e:\n",
    "#         print(f\"Error processing entry: {e}\")\n",
    "#         continue\n",
    "\n",
    "# print(f\"Results saved to {output_file}\")"
   ]
  },
  {
   "cell_type": "code",
   "execution_count": 18,
   "metadata": {},
   "outputs": [],
   "source": [
    "# not_found_entries = []\n",
    "# with open(\"gpt_evaluation_results.json\", \"r\") as f:\n",
    "#     gpt_evaluation_results = json.load(f)\n",
    "#     for entry in human_evaluation_all:\n",
    "#         found_entry = False\n",
    "#         for entry2 in gpt_evaluation_results:\n",
    "#             # if entry2['document'].contains(entry['sequence']):\n",
    "#             # if contains\n",
    "#             if entry2['document'] in entry['sequence']:\n",
    "#                 found_entry = True\n",
    "#                 break\n",
    "#         if not found_entry:\n",
    "#             not_found_entries.append(entry)\n",
    "\n",
    "# len(not_found_entries)\n",
    "        "
   ]
  },
  {
   "cell_type": "markdown",
   "metadata": {},
   "source": [
    "# GPT evaluation results baseline"
   ]
  },
  {
   "cell_type": "code",
   "execution_count": 19,
   "metadata": {},
   "outputs": [],
   "source": [
    "with open(f\"./human_evaluation_baseline_all.json\", \"r\") as f:\n",
    "    human_evaluation_baseline_all = json.load(f)"
   ]
  },
  {
   "cell_type": "code",
   "execution_count": 20,
   "metadata": {},
   "outputs": [],
   "source": [
    "# from tenacity import retry, stop_after_attempt, wait_exponential\n",
    "\n",
    "# client = OpenAI()\n",
    "\n",
    "# output_file = 'gpt_evaluation_results_baseline.json'\n",
    "\n",
    "# @retry(stop=stop_after_attempt(5), wait=wait_exponential(multiplier=1, min=4, max=10))\n",
    "# def make_openai_request(messages, model=\"gpt-4o-mini\"):\n",
    "#     return client.chat.completions.create(\n",
    "#         model=model,\n",
    "#         response_format={\"type\": \"json_object\"},\n",
    "#         messages=messages\n",
    "#     )\n",
    "\n",
    "# def process_entry(entry):\n",
    "#     document = entry['sequence'].split(\"Keywords:\")[0]\n",
    "#     true_tags = entry['labels']\n",
    "#     lowest_confidence_tag = entry['lowest_confidence_label']\n",
    "#     tags = true_tags + [lowest_confidence_tag]\n",
    "#     random.shuffle(tags)\n",
    "    \n",
    "#     stage_1 = construct_stage_1(document, tags)\n",
    "#     stage_2 = construct_stage_2(document, true_tags)\n",
    "#     messages = [\n",
    "#         {\"role\": \"system\", \"content\": \"You are a helpful assistant designed to output JSON.\"},\n",
    "#         {\"role\": \"user\", \"content\": stage_1}\n",
    "#     ]\n",
    "    \n",
    "#     response_1 = make_openai_request(messages)\n",
    "    \n",
    "#     result_1 = json.loads(response_1.choices[0].message.content)\n",
    "    \n",
    "#     messages.append({\"role\": \"assistant\", \"content\": response_1.choices[0].message.content})\n",
    "#     messages.append({\"role\": \"user\", \"content\": stage_2})\n",
    "    \n",
    "#     response_2 = make_openai_request(messages)\n",
    "    \n",
    "#     result_2 = json.loads(response_2.choices[0].message.content)\n",
    "    \n",
    "#     return {\n",
    "#         \"document\": document,\n",
    "#         \"true_tags\": true_tags,\n",
    "#         \"lowest_confidence_tag\": lowest_confidence_tag,\n",
    "#         \"stage_1_result\": result_1,\n",
    "#         \"stage_2_result\": result_2\n",
    "#     }\n",
    "\n",
    "# for entry in tqdm(human_evaluation_baseline_all, desc=\"Processing entries\"):\n",
    "#     try:\n",
    "#         result_data = process_entry(entry)\n",
    "#         append_to_json(output_file, result_data)\n",
    "#     except Exception as e:\n",
    "#         print(f\"Error processing entry: {e}\")\n",
    "#         continue\n",
    "\n",
    "# print(f\"Results saved to {output_file}\")"
   ]
  },
  {
   "cell_type": "markdown",
   "metadata": {},
   "source": [
    "# GPT evaluation of human-generated tags"
   ]
  },
  {
   "cell_type": "code",
   "execution_count": 21,
   "metadata": {},
   "outputs": [],
   "source": [
    "human_generated_tags = [\n",
    "    {\n",
    "        \"sequence\": \"\"\"League of Legends Solo Queue Ranked Games\\n\\nContext: League of Legends is a multiplayer online battle arena where two teams, blue and red, face off. There are three lanes, a jungle, and five roles. The goal is to take down the enemy Nexus to win the game.\\n\\nContent: This dataset contains statistics of ranked games from a Platinum Elo. Each game is unique and can be identified by its gameId, which can be used to fetch more attributes from the Riot API. Each game has features from different time frames, from ten minutes to the end of the game. For example, game one at ten minutes, game one at twelve minutes, game one at fourteen minutes, and so on. In total, there are over two hundred forty thousand game frames. There are fifty-five features collected for the Blue team, including kills, deaths, gold, experience, and level. It is up to the user to do some feature engineering to get more insights.\\n\\nThe column hasWon is the target value if you are doing classification to predict the game outcome. Otherwise, you can use the gameDuration attribute if you want to predict the game duration. Attributes starting with \"is\" are boolean categorical values, either zero or one.\\n\\nFeatures: gameId, gameDuration, hasWon, frame, gold difference, experience difference, champion level difference, is first tower, is first blood, killed fire drake, killed water drake, killed air drake, killed earth drake, killed elder drake, lost fire drake, lost water drake, lost air drake, lost earth drake, lost elder drake, killed Baron Nashor, lost Baron Nashor, killed Rift Herald, lost Rift Herald, destroyed top inhibitor, destroyed mid inhibitor, destroyed bot inhibitor, lost top inhibitor, lost mid inhibitor, lost bot inhibitor, destroyed top Nexus turret, destroyed mid Nexus turret, destroyed bot Nexus turret, lost top Nexus turret, lost mid Nexus turret, lost bot Nexus turret, destroyed top base turret, destroyed mid base turret, destroyed bot base turret, lost top base turret, lost mid base turret, lost bot base turret, destroyed top inner turret, destroyed mid inner turret, destroyed bot inner turret, lost top inner turret, lost mid inner turret, lost bot inner turret, destroyed top outer turret, destroyed mid outer turret, destroyed bot outer turret, lost top outer turret, lost mid outer turret, lost bot outer turret, kills, deaths, assists, wards placed, wards destroyed, wards lost\\n\\nKeywords: League of Legends, ranked games, solo queue, game statistics, feature engineering, game outcome prediction, game duration prediction.\"\"\",\n",
    "        \"labels\": [\n",
    "            \"League of Legends\",\n",
    "            \"Video Games\",\n",
    "            \"Multiplayer\",\n",
    "            \"Game Data\",\n",
    "            \"Riot API\",\n",
    "            \"Battle Arena\",\n",
    "        ],\n",
    "        \"lowest_confidence_label\": \"Chess\",\n",
    "    },\n",
    "    {\n",
    "        \"sequence\": \"\"\"FOREX USD/JPY Minute High\\n\\nTags: finance, forex, forex high, forex minute\\n\\nSource: Dukascopy Historical Data Feed\\n\\nData Description\\n\\nThis dataset contains historical price data of the FOREX USD/JPY from Dukascopy. Each instance, or row, represents one candlestick of one minute. The dataset spans from January first to December thirteenth and does not include weekends, as the FOREX market is not traded on weekends. The timezone of the feature Timestamp is Europe/Amsterdam.\\n\\nThe class attribute is the direction of the mean of the High Bid and the High Ask of the following minute, relative to the High Bid and High Ask mean of the current minute. This means the class attribute is True when the mean High price is going up in the following minute, and the class attribute is False when the mean High price is going down or stays the same in the following minute.\\n\\nNote that this is a hypothetical task, meant for scientific purposes only. Realistic trade strategies can only be applied to predictions on Close attributes, which are also available.\\n\\nAttributes\\n\\nTimestamp: The time of the current data point in Europe/Amsterdam\\nBid Open: The bid price at the start of this time interval\\nBid High: The highest bid price during this time interval\\nBid Low: The lowest bid price during this time interval\\nBid Close: The bid price at the end of this time interval\\nBid Volume: The number of times the Bid Price changed within this time interval\\nAsk Open: The ask price at the start of this time interval\\nAsk High: The highest ask price during this time interval\\nAsk Low: The lowest ask price during this time interval\\nAsk Close: The ask price at the end of this time interval\\nAsk Volume: The number of times the Ask Price changed within this time interval\\nClass: Whether the average price will go up during the next interval\\n\\nKeywords: FOREX, USD/JPY, historical data, candlestick, finance, trading\"\"\",\n",
    "        \"labels\": [\n",
    "            \"Historical Price Data\",\n",
    "            \"Forex\",\n",
    "            \"USD/JPY\",\n",
    "            \"Currency Pairs\",\n",
    "            \"Yearly Data\",\n",
    "            \"Finance\",\n",
    "            \"Minute High\"\n",
    "        ],\n",
    "        \"lowest_confidence_label\": \"Species\",\n",
    "    },\n",
    "    {\n",
    "        \"sequence\": \"\"\"Lung Dataset, a microarray dataset, consists of 203 instances and 5 classes. This dataset is a classification of human lung carcinomas by mRNA expression profiling, which reveals distinct adenocarcinoma subclasses. The dataset is a comprehensive collection of gene expression profiles, providing valuable insights into the molecular mechanisms underlying lung cancer.\\n\\nThe dataset features a wide range of gene expression profiles, including those related to immune response, cell signaling, and metabolism. These profiles are essential for understanding the complex biology of lung cancer and for identifying potential therapeutic targets.\\n\\nThe dataset is a valuable resource for researchers and clinicians, providing a comprehensive understanding of lung cancer biology and facilitating the development of personalized treatment strategies.\\n\\nKeywords: Lung Cancer, Gene Expression, Microarray, mRNA Profiling, Adenocarcinoma Subclasses.\"\"\",\n",
    "        \"labels\": [\n",
    "            \"Lung Cancer\",\n",
    "            \"Cancer\",\n",
    "            \"Oncology\",\n",
    "            \"mRNA Expression Profiling\",\n",
    "            \"Biology\",\n",
    "            \"Carcinomas\",\n",
    "            \"Gene Expression Profiles\"\n",
    "        ],\n",
    "        \"lowest_confidence_label\": \"Breast Cancer\",\n",
    "    }\n",
    "]"
   ]
  },
  {
   "cell_type": "code",
   "execution_count": 22,
   "metadata": {},
   "outputs": [],
   "source": [
    "# from tenacity import retry, stop_after_attempt, wait_exponential\n",
    "\n",
    "# client = OpenAI()\n",
    "\n",
    "# output_file = 'gpt_evaluation_results_human.json'\n",
    "\n",
    "# @retry(stop=stop_after_attempt(5), wait=wait_exponential(multiplier=1, min=4, max=10))\n",
    "# def make_openai_request(messages, model=\"gpt-4o-mini\"):\n",
    "#     return client.chat.completions.create(\n",
    "#         model=model,\n",
    "#         response_format={\"type\": \"json_object\"},\n",
    "#         messages=messages\n",
    "#     )\n",
    "\n",
    "# def process_entry(entry):\n",
    "#     document = entry['sequence']\n",
    "#     true_tags = entry['labels']\n",
    "#     lowest_confidence_tag = entry['lowest_confidence_label']\n",
    "#     tags = true_tags + [lowest_confidence_tag]\n",
    "#     random.shuffle(tags)\n",
    "    \n",
    "#     stage_1 = construct_stage_1(document, tags)\n",
    "#     stage_2 = construct_stage_2(document, true_tags)\n",
    "#     messages = [\n",
    "#         {\"role\": \"system\", \"content\": \"You are a helpful assistant designed to output JSON.\"},\n",
    "#         {\"role\": \"user\", \"content\": stage_1}\n",
    "#     ]\n",
    "    \n",
    "#     response_1 = make_openai_request(messages)\n",
    "    \n",
    "#     result_1 = json.loads(response_1.choices[0].message.content)\n",
    "    \n",
    "#     messages.append({\"role\": \"assistant\", \"content\": response_1.choices[0].message.content})\n",
    "#     messages.append({\"role\": \"user\", \"content\": stage_2})\n",
    "    \n",
    "#     response_2 = make_openai_request(messages)\n",
    "    \n",
    "#     result_2 = json.loads(response_2.choices[0].message.content)\n",
    "    \n",
    "#     return {\n",
    "#         \"document\": document,\n",
    "#         \"true_tags\": true_tags,\n",
    "#         \"lowest_confidence_tag\": lowest_confidence_tag,\n",
    "#         \"stage_1_result\": result_1,\n",
    "#         \"stage_2_result\": result_2\n",
    "#     }\n",
    "\n",
    "# for entry in tqdm(human_generated_tags, desc=\"Processing entries\"):\n",
    "#     try:\n",
    "#         result_data = process_entry(entry)\n",
    "#         append_to_json(output_file, result_data)\n",
    "#     except Exception as e:\n",
    "#         print(f\"Error processing entry: {e}\")\n",
    "#         continue\n",
    "\n",
    "# print(f\"Results saved to {output_file}\")"
   ]
  },
  {
   "cell_type": "markdown",
   "metadata": {},
   "source": [
    "# Results"
   ]
  },
  {
   "cell_type": "markdown",
   "metadata": {},
   "source": [
    "Choose which dataset to load (default or baseline)"
   ]
  },
  {
   "cell_type": "code",
   "execution_count": 23,
   "metadata": {},
   "outputs": [],
   "source": [
    "# These two have the same end format\n",
    "# dataset_to_use = \"gpt_evaluation_results_baseline.json\" # based on human_evaluation_baseline_all\n",
    "dataset_to_use = \"gpt_evaluation_results.json\" # based on human_evaluation_all\n",
    "# dataset_to_use = \"gpt_evaluation_results_human.json\" # based on human_generated_tags\n",
    "\n",
    "with open(dataset_to_use, 'r') as f:\n",
    "    results = json.load(f)"
   ]
  },
  {
   "cell_type": "code",
   "execution_count": 24,
   "metadata": {},
   "outputs": [],
   "source": [
    "# human_evaluation_all and human_evaluation have the same format, but not human_evaluation_baseline_all\n",
    "human_evaluation_to_use = \"human_evaluation_all.json\"\n",
    "# human_evaluation_to_use = \"human_evaluation_baseline_all.json\" # this one won't work, since it doesn't have labels, overarching_labels, and keywords_labels, so just don't use it\n",
    "# human_evaluation_to_use = \"human_evaluation.json\" # contains only the datasets that are/were to be rated by humans (subset of human_evaluation_all)\n",
    "\n",
    "with open(human_evaluation_to_use, \"r\") as f:\n",
    "    human_evaluation = json.load(f)"
   ]
  },
  {
   "cell_type": "code",
   "execution_count": 27,
   "metadata": {},
   "outputs": [
    {
     "data": {
      "text/plain": [
       "[{'document': 'League of Legends Solo Queue Ranked Games\\n\\nContext: League of Legends is a multiplayer online battle arena where two teams, blue and red, face off. There are three lanes, a jungle, and five roles. The goal is to take down the enemy Nexus to win the game.\\n\\nContent: This dataset contains statistics of ranked games from a Platinum Elo. Each game is unique and can be identified by its gameId, which can be used to fetch more attributes from the Riot API. Each game has features from different time frames, from ten minutes to the end of the game. For example, game one at ten minutes, game one at twelve minutes, game one at fourteen minutes, and so on. In total, there are over two hundred forty thousand game frames. There are fifty-five features collected for the Blue team, including kills, deaths, gold, experience, and level. It is up to the user to do some feature engineering to get more insights.\\n\\nThe column hasWon is the target value if you are doing classification to predict the game outcome. Otherwise, you can use the gameDuration attribute if you want to predict the game duration. Attributes starting with \"is\" are boolean categorical values, either zero or one.\\n\\nFeatures: gameId, gameDuration, hasWon, frame, gold difference, experience difference, champion level difference, is first tower, is first blood, killed fire drake, killed water drake, killed air drake, killed earth drake, killed elder drake, lost fire drake, lost water drake, lost air drake, lost earth drake, lost elder drake, killed Baron Nashor, lost Baron Nashor, killed Rift Herald, lost Rift Herald, destroyed top inhibitor, destroyed mid inhibitor, destroyed bot inhibitor, lost top inhibitor, lost mid inhibitor, lost bot inhibitor, destroyed top Nexus turret, destroyed mid Nexus turret, destroyed bot Nexus turret, lost top Nexus turret, lost mid Nexus turret, lost bot Nexus turret, destroyed top base turret, destroyed mid base turret, destroyed bot base turret, lost top base turret, lost mid base turret, lost bot base turret, destroyed top inner turret, destroyed mid inner turret, destroyed bot inner turret, lost top inner turret, lost mid inner turret, lost bot inner turret, destroyed top outer turret, destroyed mid outer turret, destroyed bot outer turret, lost top outer turret, lost mid outer turret, lost bot outer turret, kills, deaths, assists, wards placed, wards destroyed, wards lost\\n\\nKeywords: League of Legends, ranked games, solo queue, game statistics, feature engineering, game outcome prediction, game duration prediction.',\n",
       "  'true_tags': ['League of Legends',\n",
       "   'Video Games',\n",
       "   'Multiplayer',\n",
       "   'Game Data',\n",
       "   'Riot API',\n",
       "   'Battle Arena'],\n",
       "  'lowest_confidence_tag': 'Chess',\n",
       "  'stage_1_result': {'intruder': 'Chess'},\n",
       "  'stage_2_result': {'relevance': {'League of Legends': 5,\n",
       "    'Video Games': 4,\n",
       "    'Multiplayer': 4,\n",
       "    'Game Data': 5,\n",
       "    'Riot API': 4,\n",
       "    'Battle Arena': 5},\n",
       "   'generality': {'League of Legends': 2,\n",
       "    'Video Games': 4,\n",
       "    'Multiplayer': 3,\n",
       "    'Game Data': 2,\n",
       "    'Riot API': 2,\n",
       "    'Battle Arena': 3},\n",
       "   'coverage': 4,\n",
       "   'additional_tags': ['Competitive Gaming',\n",
       "    'Elo Rating',\n",
       "    'Game Statistics',\n",
       "    'Esports']}},\n",
       " {'document': 'FOREX USD/JPY Minute High\\n\\nTags: finance, forex, forex high, forex minute\\n\\nSource: Dukascopy Historical Data Feed\\n\\nData Description\\n\\nThis dataset contains historical price data of the FOREX USD/JPY from Dukascopy. Each instance, or row, represents one candlestick of one minute. The dataset spans from January first to December thirteenth and does not include weekends, as the FOREX market is not traded on weekends. The timezone of the feature Timestamp is Europe/Amsterdam.\\n\\nThe class attribute is the direction of the mean of the High Bid and the High Ask of the following minute, relative to the High Bid and High Ask mean of the current minute. This means the class attribute is True when the mean High price is going up in the following minute, and the class attribute is False when the mean High price is going down or stays the same in the following minute.\\n\\nNote that this is a hypothetical task, meant for scientific purposes only. Realistic trade strategies can only be applied to predictions on Close attributes, which are also available.\\n\\nAttributes\\n\\nTimestamp: The time of the current data point in Europe/Amsterdam\\nBid Open: The bid price at the start of this time interval\\nBid High: The highest bid price during this time interval\\nBid Low: The lowest bid price during this time interval\\nBid Close: The bid price at the end of this time interval\\nBid Volume: The number of times the Bid Price changed within this time interval\\nAsk Open: The ask price at the start of this time interval\\nAsk High: The highest ask price during this time interval\\nAsk Low: The lowest ask price during this time interval\\nAsk Close: The ask price at the end of this time interval\\nAsk Volume: The number of times the Ask Price changed within this time interval\\nClass: Whether the average price will go up during the next interval\\n\\nKeywords: FOREX, USD/JPY, historical data, candlestick, finance, trading',\n",
       "  'true_tags': ['Historical Price Data',\n",
       "   'Forex',\n",
       "   'USD/JPY',\n",
       "   'Currency Pairs',\n",
       "   'Yearly Data',\n",
       "   'Finance',\n",
       "   'Minute High'],\n",
       "  'lowest_confidence_tag': 'Species',\n",
       "  'stage_1_result': {'intruder': 'Species'},\n",
       "  'stage_2_result': {'relevance': {'Historical Price Data': 5,\n",
       "    'Forex': 5,\n",
       "    'USD/JPY': 5,\n",
       "    'Currency Pairs': 4,\n",
       "    'Yearly Data': 2,\n",
       "    'Finance': 4,\n",
       "    'Minute High': 3},\n",
       "   'generality': {'Historical Price Data': 3,\n",
       "    'Forex': 3,\n",
       "    'USD/JPY': 2,\n",
       "    'Currency Pairs': 4,\n",
       "    'Yearly Data': 4,\n",
       "    'Finance': 4,\n",
       "    'Minute High': 2},\n",
       "   'coverage': 3,\n",
       "   'additional_tags': ['Time Series Analysis',\n",
       "    'Trading Patterns',\n",
       "    'Market Data',\n",
       "    'Forex Candlestick']}},\n",
       " {'document': 'Lung Dataset, a microarray dataset, consists of 203 instances and 5 classes. This dataset is a classification of human lung carcinomas by mRNA expression profiling, which reveals distinct adenocarcinoma subclasses. The dataset is a comprehensive collection of gene expression profiles, providing valuable insights into the molecular mechanisms underlying lung cancer.\\n\\nThe dataset features a wide range of gene expression profiles, including those related to immune response, cell signaling, and metabolism. These profiles are essential for understanding the complex biology of lung cancer and for identifying potential therapeutic targets.\\n\\nThe dataset is a valuable resource for researchers and clinicians, providing a comprehensive understanding of lung cancer biology and facilitating the development of personalized treatment strategies.\\n\\nKeywords: Lung Cancer, Gene Expression, Microarray, mRNA Profiling, Adenocarcinoma Subclasses',\n",
       "  'true_tags': ['Lung Cancer',\n",
       "   'Cancer',\n",
       "   'Oncology',\n",
       "   'mRNA Expression Profiling',\n",
       "   'Biology',\n",
       "   'Carcinomas',\n",
       "   'Gene Expression Profiles'],\n",
       "  'lowest_confidence_tag': 'Breast Cancer',\n",
       "  'stage_1_result': {'intruder': 'Breast Cancer'},\n",
       "  'stage_2_result': {'relevance': {'Lung Cancer': 5,\n",
       "    'Cancer': 5,\n",
       "    'Oncology': 4,\n",
       "    'mRNA Expression Profiling': 4,\n",
       "    'Biology': 4,\n",
       "    'Carcinomas': 5,\n",
       "    'Gene Expression Profiles': 5},\n",
       "   'generality': {'Lung Cancer': 2,\n",
       "    'Cancer': 3,\n",
       "    'Oncology': 3,\n",
       "    'mRNA Expression Profiling': 2,\n",
       "    'Biology': 3,\n",
       "    'Carcinomas': 2,\n",
       "    'Gene Expression Profiles': 2},\n",
       "   'coverage': 4,\n",
       "   'additional_tags': ['Personalized Treatment',\n",
       "    'Therapeutic Targets',\n",
       "    'Immune Response',\n",
       "    'Cell Signaling',\n",
       "    'Metabolism',\n",
       "    'Adenocarcinoma Subclasses']}}]"
      ]
     },
     "execution_count": 27,
     "metadata": {},
     "output_type": "execute_result"
    }
   ],
   "source": [
    "# leave only those in data that are in human_evaluation\n",
    "new_data = []\n",
    "for i in range(len(results)):\n",
    "    for j in range(len(human_evaluation)):\n",
    "        if results[i]['document'] in human_evaluation[j]['sequence'] or human_evaluation[j]['sequence'] in results[i]['document']:\n",
    "            new_data.append(results[i])\n",
    "            break\n",
    "\n",
    "results = new_data\n",
    "results"
   ]
  },
  {
   "cell_type": "code",
   "execution_count": 28,
   "metadata": {},
   "outputs": [
    {
     "data": {
      "image/png": "[encoded data removed]",
      "text/plain": [
       "<Figure size 1000x700 with 1 Axes>"
      ]
     },
     "metadata": {},
     "output_type": "display_data"
    }
   ],
   "source": [
    "correct_detections = sum(1 for entry in results if entry['stage_1_result']['intruder'] == entry['lowest_confidence_tag'])\n",
    "total_entries = len(results)\n",
    "incorrect_detections = total_entries - correct_detections\n",
    "\n",
    "plt.figure(figsize=(10, 7))\n",
    "plt.pie([correct_detections, incorrect_detections], \n",
    "        labels=['Correct', 'Incorrect'], \n",
    "        autopct='%1.1f%%',\n",
    "        colors=['#66b3ff', '#ff9999'])\n",
    "plt.title('Accuracy of Intruder Detection')\n",
    "plt.axis('equal')\n",
    "plt.show()"
   ]
  },
  {
   "cell_type": "code",
   "execution_count": 29,
   "metadata": {},
   "outputs": [
    {
     "ename": "ValueError",
     "evalue": "not enough values to unpack (expected 2, got 0)",
     "output_type": "error",
     "traceback": [
      "\u001b[0;31m---------------------------------------------------------------------------\u001b[0m",
      "\u001b[0;31mValueError\u001b[0m                                Traceback (most recent call last)",
      "Cell \u001b[0;32mIn[29], line 20\u001b[0m\n\u001b[1;32m     17\u001b[0m top_n_tags \u001b[38;5;241m=\u001b[39m sorted_misidentifications[:N]\n\u001b[1;32m     19\u001b[0m \u001b[38;5;66;03m# Prepare data for plotting\u001b[39;00m\n\u001b[0;32m---> 20\u001b[0m tags, counts \u001b[38;5;241m=\u001b[39m \u001b[38;5;28mzip\u001b[39m(\u001b[38;5;241m*\u001b[39mtop_n_tags)\n\u001b[1;32m     21\u001b[0m \u001b[38;5;66;03m# Create the bar chart\u001b[39;00m\n\u001b[1;32m     22\u001b[0m plt\u001b[38;5;241m.\u001b[39mfigure(figsize\u001b[38;5;241m=\u001b[39m(\u001b[38;5;241m15\u001b[39m, \u001b[38;5;241m8\u001b[39m))\n",
      "\u001b[0;31mValueError\u001b[0m: not enough values to unpack (expected 2, got 0)"
     ]
    }
   ],
   "source": [
    "# Initialize a dictionary to count misidentifications\n",
    "misidentifications = defaultdict(int)\n",
    "\n",
    "# Count misidentifications\n",
    "for entry in results:\n",
    "    predicted_intruder = entry['lowest_confidence_tag']\n",
    "    actual_intruder = entry['stage_1_result']['intruder']\n",
    "    \n",
    "    if predicted_intruder != actual_intruder:\n",
    "        misidentifications[predicted_intruder] += 1\n",
    "\n",
    "# Sort tags by number of misidentifications\n",
    "sorted_misidentifications = sorted(misidentifications.items(), key=lambda x: x[1], reverse=True)\n",
    "\n",
    "# Select top N tags\n",
    "N = min(20, len(sorted_misidentifications))\n",
    "top_n_tags = sorted_misidentifications[:N]\n",
    "\n",
    "# Prepare data for plotting\n",
    "tags, counts = zip(*top_n_tags)\n",
    "# Create the bar chart\n",
    "plt.figure(figsize=(15, 8))\n",
    "plt.bar(range(N), counts)\n",
    "plt.title(f'Top {N} Most Frequently Misidentified Tags')\n",
    "plt.xlabel('Tag')\n",
    "plt.ylabel('Number of Misidentifications')\n",
    "plt.xticks(range(N), tags, rotation=90)\n",
    "\n",
    "# Add value labels on top of each bar\n",
    "for i, count in enumerate(counts):\n",
    "    plt.text(i, count, str(count), ha='center', va='bottom')\n",
    "\n",
    "plt.tight_layout()\n",
    "plt.show()"
   ]
  },
  {
   "cell_type": "code",
   "execution_count": 30,
   "metadata": {},
   "outputs": [
    {
     "name": "stdout",
     "output_type": "stream",
     "text": [
      "Number of tags | Occurrences | Percentage of correct identifications\n",
      "------------------------------------------------------------\n",
      "             6 |           1 |  100.0%\n",
      "             7 |           2 |  100.0%\n",
      "\n",
      "Correlations between number of true tags and percentage of correct identifications:\n",
      "Up to  3 tags: Insufficient data\n",
      "Up to  5 tags: Insufficient data\n",
      "Up to  7 tags: r = nan\n",
      "Up to 10 tags: r = nan\n",
      "Up to 15 tags: r = nan\n",
      "Up to 25 tags: r = nan\n",
      "Up to  7 tags: r = nan\n",
      "\n",
      "Overall correlation: r = nan\n"
     ]
    },
    {
     "name": "stderr",
     "output_type": "stream",
     "text": [
      "/Users/ivang/miniconda3/envs/openml-tags/lib/python3.10/site-packages/numpy/lib/function_base.py:2897: RuntimeWarning: invalid value encountered in divide\n",
      "  c /= stddev[:, None]\n",
      "/Users/ivang/miniconda3/envs/openml-tags/lib/python3.10/site-packages/numpy/lib/function_base.py:2898: RuntimeWarning: invalid value encountered in divide\n",
      "  c /= stddev[None, :]\n"
     ]
    }
   ],
   "source": [
    "from collections import defaultdict\n",
    "import numpy as np\n",
    "\n",
    "# Initialize dictionaries to store counts\n",
    "total_counts = defaultdict(int)\n",
    "correct_counts = defaultdict(int)\n",
    "\n",
    "# Process the data\n",
    "for entry in results:\n",
    "    num_true_tags = len(entry['true_tags'])\n",
    "    total_counts[num_true_tags] += 1\n",
    "    \n",
    "    if entry['lowest_confidence_tag'] == entry['stage_1_result']['intruder']:\n",
    "        correct_counts[num_true_tags] += 1\n",
    "\n",
    "# Calculate percentages\n",
    "percentages = {k: (correct_counts[k] / total_counts[k]) * 100 if total_counts[k] > 0 else 0 \n",
    "               for k in total_counts.keys()}\n",
    "\n",
    "# Print statistics\n",
    "print(\"Number of tags | Occurrences | Percentage of correct identifications\")\n",
    "print(\"-\" * 60)\n",
    "for num_tags in sorted(total_counts.keys()):\n",
    "    occurrences = total_counts[num_tags]\n",
    "    percentage = percentages[num_tags]\n",
    "    print(f\"{num_tags:14d} | {occurrences:11d} | {percentage:6.1f}%\")\n",
    "\n",
    "# Function to calculate correlation for a given range\n",
    "def calculate_correlation(data, max_tags):\n",
    "    filtered_data = {k: v for k, v in data.items() if k <= max_tags}\n",
    "    x = list(filtered_data.keys())\n",
    "    y = list(filtered_data.values())\n",
    "    if len(x) > 1:  # Need at least two points for correlation\n",
    "        return np.corrcoef(x, y)[0, 1]\n",
    "    else:\n",
    "        return None\n",
    "\n",
    "# Calculate correlations for different ranges\n",
    "ranges = [3, 5, 7, 10, 15, 25, max(percentages.keys())]\n",
    "correlations = {}\n",
    "\n",
    "for r in ranges:\n",
    "    corr = calculate_correlation(percentages, r)\n",
    "    correlations[r] = corr\n",
    "\n",
    "# Print correlations\n",
    "print(\"\\nCorrelations between number of true tags and percentage of correct identifications:\")\n",
    "for r in ranges:\n",
    "    corr = correlations[r]\n",
    "    if corr is not None:\n",
    "        print(f\"Up to {r:2d} tags: r = {corr:.3f}\")\n",
    "    else:\n",
    "        print(f\"Up to {r:2d} tags: Insufficient data\")\n",
    "\n",
    "# Calculate overall correlation\n",
    "x = list(percentages.keys())\n",
    "y = list(percentages.values())\n",
    "overall_correlation = np.corrcoef(x, y)[0, 1]\n",
    "\n",
    "print(f\"\\nOverall correlation: r = {overall_correlation:.3f}\")"
   ]
  },
  {
   "cell_type": "code",
   "execution_count": 31,
   "metadata": {},
   "outputs": [
    {
     "data": {
      "image/png": "[encoded data removed]",
      "text/plain": [
       "<Figure size 1200x600 with 1 Axes>"
      ]
     },
     "metadata": {},
     "output_type": "display_data"
    }
   ],
   "source": [
    "# Initialize dictionaries to store counts\n",
    "total_counts = defaultdict(int)\n",
    "correct_counts = defaultdict(int)\n",
    "\n",
    "# Process the data\n",
    "for entry in results:\n",
    "    num_true_tags = len(entry['true_tags'])\n",
    "    total_counts[num_true_tags] += 1\n",
    "    \n",
    "    if entry['lowest_confidence_tag'] == entry['stage_1_result']['intruder']:\n",
    "        correct_counts[num_true_tags] += 1\n",
    "\n",
    "# Calculate percentages\n",
    "percentages = {k: (correct_counts[k] / total_counts[k]) * 100 if total_counts[k] > 0 else 0 \n",
    "               for k in total_counts.keys()}\n",
    "\n",
    "# Prepare data for plotting\n",
    "x = list(percentages.keys())\n",
    "y = list(percentages.values())\n",
    "\n",
    "# Create the scatter plot\n",
    "plt.figure(figsize=(12, 6))\n",
    "plt.scatter(x, y, color='blue', alpha=0.6)\n",
    "\n",
    "# Add labels and title\n",
    "plt.xlabel('Number of True Tags')\n",
    "plt.ylabel('Percentage of Correct Identifications')\n",
    "plt.title('Correlation between Number of Tags and Correct Intruder Identification')\n",
    "\n",
    "# Add a trend line\n",
    "z = np.polyfit(x, y, 1)\n",
    "p = np.poly1d(z)\n",
    "plt.plot(x, p(x), \"r--\", alpha=0.8)\n",
    "\n",
    "# Add text box with correlation coefficient\n",
    "correlation = np.corrcoef(x, y)[0, 1]\n",
    "plt.text(0.05, 0.95, f'Correlation: {correlation:.3f}', transform=plt.gca().transAxes, \n",
    "         verticalalignment='top', bbox=dict(boxstyle='round', facecolor='white', alpha=0.8))\n",
    "\n",
    "# Add data labels\n",
    "for i, txt in enumerate(total_counts.values()):\n",
    "    plt.annotate(f\"n={txt}\", (x[i], y[i]), xytext=(5, 5), textcoords='offset points')\n",
    "\n",
    "plt.tight_layout()\n",
    "plt.show()"
   ]
  },
  {
   "cell_type": "code",
   "execution_count": 32,
   "metadata": {},
   "outputs": [
    {
     "name": "stdout",
     "output_type": "stream",
     "text": [
      "Correlation between relevance and generality: -0.976\n",
      "Spearman Correlation between relevance and generality: -1.000\n",
      "P-value: 0.139\n",
      "Spearman P-value: 0.000\n"
     ]
    },
    {
     "data": {
      "image/png": "[encoded data removed]",
      "text/plain": [
       "<Figure size 1000x600 with 1 Axes>"
      ]
     },
     "metadata": {},
     "output_type": "display_data"
    }
   ],
   "source": [
    "# Lists to store relevance and generality scores\n",
    "relevance_scores = []\n",
    "generality_scores = []\n",
    "\n",
    "# Extract relevance and generality scores\n",
    "for entry in results:\n",
    "    if 'stage_2_result' in entry and 'relevance' in entry['stage_2_result'] and 'generality' in entry['stage_2_result']:\n",
    "        relevance = entry['stage_2_result']['relevance']\n",
    "        generality = entry['stage_2_result']['generality']\n",
    "        \n",
    "        # Calculate average scores for each entry\n",
    "        avg_relevance = sum(relevance.values()) / len(relevance)\n",
    "        avg_generality = sum(generality.values()) / len(generality)\n",
    "        \n",
    "        relevance_scores.append(avg_relevance)\n",
    "        generality_scores.append(avg_generality)\n",
    "\n",
    "# Calculate correlation\n",
    "correlation, p_value = stats.pearsonr(relevance_scores, generality_scores)\n",
    "\n",
    "# Calculate spearman correlation\n",
    "spearman_correlation, spearman_p_value = stats.spearmanr(relevance_scores, generality_scores)\n",
    "\n",
    "print(f\"Correlation between relevance and generality: {correlation:.3f}\")\n",
    "print(f\"Spearman Correlation between relevance and generality: {spearman_correlation:.3f}\")\n",
    "print(f\"P-value: {p_value:.3f}\")\n",
    "print(f\"Spearman P-value: {spearman_p_value:.3f}\")\n",
    "\n",
    "plt.figure(figsize=(10, 6))\n",
    "plt.scatter(relevance_scores, generality_scores, alpha=0.5)\n",
    "plt.xlabel('Average Relevance Score')\n",
    "plt.ylabel('Average Generality Score')\n",
    "plt.title('Relevance vs Generality')\n",
    "\n",
    "# Add trend line\n",
    "z = np.polyfit(relevance_scores, generality_scores, 1)\n",
    "p = np.poly1d(z)\n",
    "plt.plot(relevance_scores, p(relevance_scores), \"r--\", alpha=0.8)\n",
    "\n",
    "# Add correlation coefficient to plot\n",
    "plt.text(0.05, 0.95, f'Correlation: {correlation:.3f}', transform=plt.gca().transAxes, \n",
    "         verticalalignment='top', bbox=dict(boxstyle='round', facecolor='white', alpha=0.8))\n",
    "\n",
    "# Add spearman correlation coefficient to plot\n",
    "plt.text(0.05, 0.90, f'Spearman Correlation: {spearman_correlation:.3f}', transform=plt.gca().transAxes, \n",
    "         verticalalignment='top', bbox=dict(boxstyle='round', facecolor='white', alpha=0.8))\n",
    "\n",
    "plt.tight_layout()\n",
    "plt.show()"
   ]
  },
  {
   "cell_type": "code",
   "execution_count": 33,
   "metadata": {},
   "outputs": [
    {
     "data": {
      "application/vnd.plotly.v1+json": {
       "config": {
        "plotlyServerURL": "https://plot.ly"
       },
       "data": [
        {
         "name": "Avg Relevance",
         "type": "bar",
         "x": [
          "League of Legends",
          "Game Data",
          "Battle Arena",
          "Historical Price Data",
          "Forex",
          "USD/JPY",
          "Lung Cancer",
          "Cancer",
          "Carcinomas",
          "Gene Expression Profiles",
          "Video Games",
          "Multiplayer",
          "Riot API",
          "Currency Pairs",
          "Finance",
          "Oncology",
          "mRNA Expression Profiling",
          "Biology",
          "Minute High",
          "Yearly Data"
         ],
         "xaxis": "x",
         "y": [
          5,
          5,
          5,
          5,
          5,
          5,
          5,
          5,
          5,
          5,
          4,
          4,
          4,
          4,
          4,
          4,
          4,
          4,
          3,
          2
         ],
         "yaxis": "y"
        },
        {
         "name": "Avg Generality",
         "type": "bar",
         "x": [
          "Video Games",
          "Currency Pairs",
          "Yearly Data",
          "Finance",
          "Multiplayer",
          "Battle Arena",
          "Historical Price Data",
          "Forex",
          "Cancer",
          "Oncology",
          "Biology",
          "League of Legends",
          "Game Data",
          "Riot API",
          "USD/JPY",
          "Minute High",
          "Lung Cancer",
          "mRNA Expression Profiling",
          "Carcinomas",
          "Gene Expression Profiles"
         ],
         "xaxis": "x2",
         "y": [
          4,
          4,
          4,
          4,
          3,
          3,
          3,
          3,
          3,
          3,
          3,
          2,
          2,
          2,
          2,
          2,
          2,
          2,
          2,
          2
         ],
         "yaxis": "y2"
        },
        {
         "name": "Relevance Distribution",
         "nbinsx": 20,
         "type": "histogram",
         "x": [
          5,
          4,
          4,
          5,
          4,
          5,
          5,
          5,
          5,
          4,
          2,
          4,
          3,
          5,
          5,
          4,
          4,
          4,
          5,
          5
         ],
         "xaxis": "x3",
         "yaxis": "y3"
        },
        {
         "name": "Generality Distribution",
         "nbinsx": 20,
         "type": "histogram",
         "x": [
          2,
          4,
          3,
          2,
          2,
          3,
          3,
          3,
          2,
          4,
          4,
          4,
          2,
          2,
          3,
          3,
          2,
          3,
          2,
          2
         ],
         "xaxis": "x4",
         "yaxis": "y4"
        },
        {
         "name": "Coverage Distribution",
         "nbinsx": 5,
         "type": "histogram",
         "x": [
          4,
          3,
          4
         ],
         "xaxis": "x5",
         "yaxis": "y5"
        },
        {
         "line": {
          "color": "red",
          "dash": "solid"
         },
         "mode": "lines",
         "name": "Mean",
         "type": "scatter",
         "x": [
          null
         ],
         "xaxis": "x3",
         "y": [
          null
         ],
         "yaxis": "y3"
        },
        {
         "line": {
          "color": "green",
          "dash": "dash"
         },
         "mode": "lines",
         "name": "±1 Std Dev",
         "type": "scatter",
         "x": [
          null
         ],
         "xaxis": "x3",
         "y": [
          null
         ],
         "yaxis": "y3"
        }
       ],
       "layout": {
        "annotations": [
         {
          "font": {
           "size": 16
          },
          "showarrow": false,
          "text": "Average Relevance Score per Tag",
          "x": 0.225,
          "xanchor": "center",
          "xref": "paper",
          "y": 1,
          "yanchor": "bottom",
          "yref": "paper"
         },
         {
          "font": {
           "size": 16
          },
          "showarrow": false,
          "text": "Average Generality Score per Tag",
          "x": 0.775,
          "xanchor": "center",
          "xref": "paper",
          "y": 1,
          "yanchor": "bottom",
          "yref": "paper"
         },
         {
          "font": {
           "size": 16
          },
          "showarrow": false,
          "text": "Overall Distribution of Relevance Scores",
          "x": 0.225,
          "xanchor": "center",
          "xref": "paper",
          "y": 0.6111111111111112,
          "yanchor": "bottom",
          "yref": "paper"
         },
         {
          "font": {
           "size": 16
          },
          "showarrow": false,
          "text": "Overall Distribution of Generality Scores",
          "x": 0.775,
          "xanchor": "center",
          "xref": "paper",
          "y": 0.6111111111111112,
          "yanchor": "bottom",
          "yref": "paper"
         },
         {
          "font": {
           "size": 16
          },
          "showarrow": false,
          "text": "Overall Distribution of Coverage Scores",
          "x": 0.225,
          "xanchor": "center",
          "xref": "paper",
          "y": 0.22222222222222224,
          "yanchor": "bottom",
          "yref": "paper"
         },
         {
          "showarrow": false,
          "text": "Mean: 4.35<br>Std Dev: 0.79",
          "x": 0.5,
          "xref": "x3",
          "y": 1.05,
          "yref": "paper"
         },
         {
          "showarrow": false,
          "text": "Mean: 2.75<br>Std Dev: 0.77",
          "x": 0.5,
          "xref": "x4",
          "y": 1.05,
          "yref": "paper"
         }
        ],
        "height": 1200,
        "shapes": [
         {
          "line": {
           "color": "red",
           "dash": "solid"
          },
          "type": "line",
          "x0": 4.35,
          "x1": 4.35,
          "xref": "x3",
          "y0": 0,
          "y1": 1,
          "yref": "y3 domain"
         },
         {
          "line": {
           "color": "green",
           "dash": "dash"
          },
          "type": "line",
          "x0": 3.5578510241122565,
          "x1": 3.5578510241122565,
          "xref": "x3",
          "y0": 0,
          "y1": 1,
          "yref": "y3 domain"
         },
         {
          "line": {
           "color": "green",
           "dash": "dash"
          },
          "type": "line",
          "x0": 5.142148975887743,
          "x1": 5.142148975887743,
          "xref": "x3",
          "y0": 0,
          "y1": 1,
          "yref": "y3 domain"
         },
         {
          "line": {
           "color": "red",
           "dash": "solid"
          },
          "type": "line",
          "x0": 2.75,
          "x1": 2.75,
          "xref": "x4",
          "y0": 0,
          "y1": 1,
          "yref": "y4 domain"
         },
         {
          "line": {
           "color": "green",
           "dash": "dash"
          },
          "type": "line",
          "x0": 1.9835145141622053,
          "x1": 1.9835145141622053,
          "xref": "x4",
          "y0": 0,
          "y1": 1,
          "yref": "y4 domain"
         },
         {
          "line": {
           "color": "green",
           "dash": "dash"
          },
          "type": "line",
          "x0": 3.5164854858377947,
          "x1": 3.5164854858377947,
          "xref": "x4",
          "y0": 0,
          "y1": 1,
          "yref": "y4 domain"
         },
         {
          "line": {
           "color": "red",
           "dash": "solid"
          },
          "type": "line",
          "x0": 3.6666666666666665,
          "x1": 3.6666666666666665,
          "xref": "x5",
          "y0": 0,
          "y1": 1,
          "yref": "y5 domain"
         },
         {
          "line": {
           "color": "red",
           "dash": "solid"
          },
          "type": "line",
          "x0": 3.6666666666666665,
          "x1": 3.6666666666666665,
          "xref": "x5",
          "y0": 0,
          "y1": 1,
          "yref": "y5 domain"
         },
         {
          "line": {
           "color": "green",
           "dash": "dash"
          },
          "type": "line",
          "x0": 3.1952621458756347,
          "x1": 3.1952621458756347,
          "xref": "x5",
          "y0": 0,
          "y1": 1,
          "yref": "y5 domain"
         },
         {
          "line": {
           "color": "green",
           "dash": "dash"
          },
          "type": "line",
          "x0": 4.138071187457698,
          "x1": 4.138071187457698,
          "xref": "x5",
          "y0": 0,
          "y1": 1,
          "yref": "y5 domain"
         }
        ],
        "showlegend": false,
        "template": {
         "data": {
          "bar": [
           {
            "error_x": {
             "color": "#2a3f5f"
            },
            "error_y": {
             "color": "#2a3f5f"
            },
            "marker": {
             "line": {
              "color": "#E5ECF6",
              "width": 0.5
             },
             "pattern": {
              "fillmode": "overlay",
              "size": 10,
              "solidity": 0.2
             }
            },
            "type": "bar"
           }
          ],
          "barpolar": [
           {
            "marker": {
             "line": {
              "color": "#E5ECF6",
              "width": 0.5
             },
             "pattern": {
              "fillmode": "overlay",
              "size": 10,
              "solidity": 0.2
             }
            },
            "type": "barpolar"
           }
          ],
          "carpet": [
           {
            "aaxis": {
             "endlinecolor": "#2a3f5f",
             "gridcolor": "white",
             "linecolor": "white",
             "minorgridcolor": "white",
             "startlinecolor": "#2a3f5f"
            },
            "baxis": {
             "endlinecolor": "#2a3f5f",
             "gridcolor": "white",
             "linecolor": "white",
             "minorgridcolor": "white",
             "startlinecolor": "#2a3f5f"
            },
            "type": "carpet"
           }
          ],
          "choropleth": [
           {
            "colorbar": {
             "outlinewidth": 0,
             "ticks": ""
            },
            "type": "choropleth"
           }
          ],
          "contour": [
           {
            "colorbar": {
             "outlinewidth": 0,
             "ticks": ""
            },
            "colorscale": [
             [
              0,
              "#0d0887"
             ],
             [
              0.1111111111111111,
              "#46039f"
             ],
             [
              0.2222222222222222,
              "#7201a8"
             ],
             [
              0.3333333333333333,
              "#9c179e"
             ],
             [
              0.4444444444444444,
              "#bd3786"
             ],
             [
              0.5555555555555556,
              "#d8576b"
             ],
             [
              0.6666666666666666,
              "#ed7953"
             ],
             [
              0.7777777777777778,
              "#fb9f3a"
             ],
             [
              0.8888888888888888,
              "#fdca26"
             ],
             [
              1,
              "#f0f921"
             ]
            ],
            "type": "contour"
           }
          ],
          "contourcarpet": [
           {
            "colorbar": {
             "outlinewidth": 0,
             "ticks": ""
            },
            "type": "contourcarpet"
           }
          ],
          "heatmap": [
           {
            "colorbar": {
             "outlinewidth": 0,
             "ticks": ""
            },
            "colorscale": [
             [
              0,
              "#0d0887"
             ],
             [
              0.1111111111111111,
              "#46039f"
             ],
             [
              0.2222222222222222,
              "#7201a8"
             ],
             [
              0.3333333333333333,
              "#9c179e"
             ],
             [
              0.4444444444444444,
              "#bd3786"
             ],
             [
              0.5555555555555556,
              "#d8576b"
             ],
             [
              0.6666666666666666,
              "#ed7953"
             ],
             [
              0.7777777777777778,
              "#fb9f3a"
             ],
             [
              0.8888888888888888,
              "#fdca26"
             ],
             [
              1,
              "#f0f921"
             ]
            ],
            "type": "heatmap"
           }
          ],
          "heatmapgl": [
           {
            "colorbar": {
             "outlinewidth": 0,
             "ticks": ""
            },
            "colorscale": [
             [
              0,
              "#0d0887"
             ],
             [
              0.1111111111111111,
              "#46039f"
             ],
             [
              0.2222222222222222,
              "#7201a8"
             ],
             [
              0.3333333333333333,
              "#9c179e"
             ],
             [
              0.4444444444444444,
              "#bd3786"
             ],
             [
              0.5555555555555556,
              "#d8576b"
             ],
             [
              0.6666666666666666,
              "#ed7953"
             ],
             [
              0.7777777777777778,
              "#fb9f3a"
             ],
             [
              0.8888888888888888,
              "#fdca26"
             ],
             [
              1,
              "#f0f921"
             ]
            ],
            "type": "heatmapgl"
           }
          ],
          "histogram": [
           {
            "marker": {
             "pattern": {
              "fillmode": "overlay",
              "size": 10,
              "solidity": 0.2
             }
            },
            "type": "histogram"
           }
          ],
          "histogram2d": [
           {
            "colorbar": {
             "outlinewidth": 0,
             "ticks": ""
            },
            "colorscale": [
             [
              0,
              "#0d0887"
             ],
             [
              0.1111111111111111,
              "#46039f"
             ],
             [
              0.2222222222222222,
              "#7201a8"
             ],
             [
              0.3333333333333333,
              "#9c179e"
             ],
             [
              0.4444444444444444,
              "#bd3786"
             ],
             [
              0.5555555555555556,
              "#d8576b"
             ],
             [
              0.6666666666666666,
              "#ed7953"
             ],
             [
              0.7777777777777778,
              "#fb9f3a"
             ],
             [
              0.8888888888888888,
              "#fdca26"
             ],
             [
              1,
              "#f0f921"
             ]
            ],
            "type": "histogram2d"
           }
          ],
          "histogram2dcontour": [
           {
            "colorbar": {
             "outlinewidth": 0,
             "ticks": ""
            },
            "colorscale": [
             [
              0,
              "#0d0887"
             ],
             [
              0.1111111111111111,
              "#46039f"
             ],
             [
              0.2222222222222222,
              "#7201a8"
             ],
             [
              0.3333333333333333,
              "#9c179e"
             ],
             [
              0.4444444444444444,
              "#bd3786"
             ],
             [
              0.5555555555555556,
              "#d8576b"
             ],
             [
              0.6666666666666666,
              "#ed7953"
             ],
             [
              0.7777777777777778,
              "#fb9f3a"
             ],
             [
              0.8888888888888888,
              "#fdca26"
             ],
             [
              1,
              "#f0f921"
             ]
            ],
            "type": "histogram2dcontour"
           }
          ],
          "mesh3d": [
           {
            "colorbar": {
             "outlinewidth": 0,
             "ticks": ""
            },
            "type": "mesh3d"
           }
          ],
          "parcoords": [
           {
            "line": {
             "colorbar": {
              "outlinewidth": 0,
              "ticks": ""
             }
            },
            "type": "parcoords"
           }
          ],
          "pie": [
           {
            "automargin": true,
            "type": "pie"
           }
          ],
          "scatter": [
           {
            "fillpattern": {
             "fillmode": "overlay",
             "size": 10,
             "solidity": 0.2
            },
            "type": "scatter"
           }
          ],
          "scatter3d": [
           {
            "line": {
             "colorbar": {
              "outlinewidth": 0,
              "ticks": ""
             }
            },
            "marker": {
             "colorbar": {
              "outlinewidth": 0,
              "ticks": ""
             }
            },
            "type": "scatter3d"
           }
          ],
          "scattercarpet": [
           {
            "marker": {
             "colorbar": {
              "outlinewidth": 0,
              "ticks": ""
             }
            },
            "type": "scattercarpet"
           }
          ],
          "scattergeo": [
           {
            "marker": {
             "colorbar": {
              "outlinewidth": 0,
              "ticks": ""
             }
            },
            "type": "scattergeo"
           }
          ],
          "scattergl": [
           {
            "marker": {
             "colorbar": {
              "outlinewidth": 0,
              "ticks": ""
             }
            },
            "type": "scattergl"
           }
          ],
          "scattermapbox": [
           {
            "marker": {
             "colorbar": {
              "outlinewidth": 0,
              "ticks": ""
             }
            },
            "type": "scattermapbox"
           }
          ],
          "scatterpolar": [
           {
            "marker": {
             "colorbar": {
              "outlinewidth": 0,
              "ticks": ""
             }
            },
            "type": "scatterpolar"
           }
          ],
          "scatterpolargl": [
           {
            "marker": {
             "colorbar": {
              "outlinewidth": 0,
              "ticks": ""
             }
            },
            "type": "scatterpolargl"
           }
          ],
          "scatterternary": [
           {
            "marker": {
             "colorbar": {
              "outlinewidth": 0,
              "ticks": ""
             }
            },
            "type": "scatterternary"
           }
          ],
          "surface": [
           {
            "colorbar": {
             "outlinewidth": 0,
             "ticks": ""
            },
            "colorscale": [
             [
              0,
              "#0d0887"
             ],
             [
              0.1111111111111111,
              "#46039f"
             ],
             [
              0.2222222222222222,
              "#7201a8"
             ],
             [
              0.3333333333333333,
              "#9c179e"
             ],
             [
              0.4444444444444444,
              "#bd3786"
             ],
             [
              0.5555555555555556,
              "#d8576b"
             ],
             [
              0.6666666666666666,
              "#ed7953"
             ],
             [
              0.7777777777777778,
              "#fb9f3a"
             ],
             [
              0.8888888888888888,
              "#fdca26"
             ],
             [
              1,
              "#f0f921"
             ]
            ],
            "type": "surface"
           }
          ],
          "table": [
           {
            "cells": {
             "fill": {
              "color": "#EBF0F8"
             },
             "line": {
              "color": "white"
             }
            },
            "header": {
             "fill": {
              "color": "#C8D4E3"
             },
             "line": {
              "color": "white"
             }
            },
            "type": "table"
           }
          ]
         },
         "layout": {
          "annotationdefaults": {
           "arrowcolor": "#2a3f5f",
           "arrowhead": 0,
           "arrowwidth": 1
          },
          "autotypenumbers": "strict",
          "coloraxis": {
           "colorbar": {
            "outlinewidth": 0,
            "ticks": ""
           }
          },
          "colorscale": {
           "diverging": [
            [
             0,
             "#8e0152"
            ],
            [
             0.1,
             "#c51b7d"
            ],
            [
             0.2,
             "#de77ae"
            ],
            [
             0.3,
             "#f1b6da"
            ],
            [
             0.4,
             "#fde0ef"
            ],
            [
             0.5,
             "#f7f7f7"
            ],
            [
             0.6,
             "#e6f5d0"
            ],
            [
             0.7,
             "#b8e186"
            ],
            [
             0.8,
             "#7fbc41"
            ],
            [
             0.9,
             "#4d9221"
            ],
            [
             1,
             "#276419"
            ]
           ],
           "sequential": [
            [
             0,
             "#0d0887"
            ],
            [
             0.1111111111111111,
             "#46039f"
            ],
            [
             0.2222222222222222,
             "#7201a8"
            ],
            [
             0.3333333333333333,
             "#9c179e"
            ],
            [
             0.4444444444444444,
             "#bd3786"
            ],
            [
             0.5555555555555556,
             "#d8576b"
            ],
            [
             0.6666666666666666,
             "#ed7953"
            ],
            [
             0.7777777777777778,
             "#fb9f3a"
            ],
            [
             0.8888888888888888,
             "#fdca26"
            ],
            [
             1,
             "#f0f921"
            ]
           ],
           "sequentialminus": [
            [
             0,
             "#0d0887"
            ],
            [
             0.1111111111111111,
             "#46039f"
            ],
            [
             0.2222222222222222,
             "#7201a8"
            ],
            [
             0.3333333333333333,
             "#9c179e"
            ],
            [
             0.4444444444444444,
             "#bd3786"
            ],
            [
             0.5555555555555556,
             "#d8576b"
            ],
            [
             0.6666666666666666,
             "#ed7953"
            ],
            [
             0.7777777777777778,
             "#fb9f3a"
            ],
            [
             0.8888888888888888,
             "#fdca26"
            ],
            [
             1,
             "#f0f921"
            ]
           ]
          },
          "colorway": [
           "#636efa",
           "#EF553B",
           "#00cc96",
           "#ab63fa",
           "#FFA15A",
           "#19d3f3",
           "#FF6692",
           "#B6E880",
           "#FF97FF",
           "#FECB52"
          ],
          "font": {
           "color": "#2a3f5f"
          },
          "geo": {
           "bgcolor": "white",
           "lakecolor": "white",
           "landcolor": "#E5ECF6",
           "showlakes": true,
           "showland": true,
           "subunitcolor": "white"
          },
          "hoverlabel": {
           "align": "left"
          },
          "hovermode": "closest",
          "mapbox": {
           "style": "light"
          },
          "paper_bgcolor": "white",
          "plot_bgcolor": "#E5ECF6",
          "polar": {
           "angularaxis": {
            "gridcolor": "white",
            "linecolor": "white",
            "ticks": ""
           },
           "bgcolor": "#E5ECF6",
           "radialaxis": {
            "gridcolor": "white",
            "linecolor": "white",
            "ticks": ""
           }
          },
          "scene": {
           "xaxis": {
            "backgroundcolor": "#E5ECF6",
            "gridcolor": "white",
            "gridwidth": 2,
            "linecolor": "white",
            "showbackground": true,
            "ticks": "",
            "zerolinecolor": "white"
           },
           "yaxis": {
            "backgroundcolor": "#E5ECF6",
            "gridcolor": "white",
            "gridwidth": 2,
            "linecolor": "white",
            "showbackground": true,
            "ticks": "",
            "zerolinecolor": "white"
           },
           "zaxis": {
            "backgroundcolor": "#E5ECF6",
            "gridcolor": "white",
            "gridwidth": 2,
            "linecolor": "white",
            "showbackground": true,
            "ticks": "",
            "zerolinecolor": "white"
           }
          },
          "shapedefaults": {
           "line": {
            "color": "#2a3f5f"
           }
          },
          "ternary": {
           "aaxis": {
            "gridcolor": "white",
            "linecolor": "white",
            "ticks": ""
           },
           "baxis": {
            "gridcolor": "white",
            "linecolor": "white",
            "ticks": ""
           },
           "bgcolor": "#E5ECF6",
           "caxis": {
            "gridcolor": "white",
            "linecolor": "white",
            "ticks": ""
           }
          },
          "title": {
           "x": 0.05
          },
          "xaxis": {
           "automargin": true,
           "gridcolor": "white",
           "linecolor": "white",
           "ticks": "",
           "title": {
            "standoff": 15
           },
           "zerolinecolor": "white",
           "zerolinewidth": 2
          },
          "yaxis": {
           "automargin": true,
           "gridcolor": "white",
           "linecolor": "white",
           "ticks": "",
           "title": {
            "standoff": 15
           },
           "zerolinecolor": "white",
           "zerolinewidth": 2
          }
         }
        },
        "title": {
         "text": "Tag Relevance and Generality Analysis"
        },
        "xaxis": {
         "anchor": "y",
         "domain": [
          0,
          0.45
         ],
         "title": {
          "text": "Tag"
         }
        },
        "xaxis2": {
         "anchor": "y2",
         "domain": [
          0.55,
          1
         ],
         "title": {
          "text": "Tag"
         }
        },
        "xaxis3": {
         "anchor": "y3",
         "domain": [
          0,
          0.45
         ],
         "title": {
          "text": "Score"
         }
        },
        "xaxis4": {
         "anchor": "y4",
         "domain": [
          0.55,
          1
         ],
         "title": {
          "text": "Score"
         }
        },
        "xaxis5": {
         "anchor": "y5",
         "domain": [
          0,
          0.45
         ]
        },
        "xaxis6": {
         "anchor": "y6",
         "domain": [
          0.55,
          1
         ]
        },
        "yaxis": {
         "anchor": "x",
         "domain": [
          0.7777777777777778,
          1
         ],
         "range": [
          0,
          5
         ],
         "title": {
          "text": "Average Score"
         }
        },
        "yaxis2": {
         "anchor": "x2",
         "domain": [
          0.7777777777777778,
          1
         ],
         "range": [
          0,
          5
         ],
         "title": {
          "text": "Average Score"
         }
        },
        "yaxis3": {
         "anchor": "x3",
         "domain": [
          0.3888888888888889,
          0.6111111111111112
         ],
         "title": {
          "text": "Count"
         }
        },
        "yaxis4": {
         "anchor": "x4",
         "domain": [
          0.3888888888888889,
          0.6111111111111112
         ],
         "title": {
          "text": "Count"
         }
        },
        "yaxis5": {
         "anchor": "x5",
         "domain": [
          0,
          0.22222222222222224
         ]
        },
        "yaxis6": {
         "anchor": "x6",
         "domain": [
          0,
          0.22222222222222224
         ]
        }
       }
      }
     },
     "metadata": {},
     "output_type": "display_data"
    },
    {
     "name": "stdout",
     "output_type": "stream",
     "text": [
      "\n",
      "Overall Average Relevance Score: 4.35\n",
      "Overall Average Generality Score: 2.75\n",
      "Relevance Standard Deviation: 0.79\n",
      "Generality Standard Deviation: 0.77\n"
     ]
    }
   ],
   "source": [
    "import plotly.graph_objects as go\n",
    "from plotly.subplots import make_subplots\n",
    "\n",
    "# Initialize data structures\n",
    "tag_relevance = defaultdict(list)\n",
    "tag_generality = defaultdict(list)\n",
    "all_relevance_scores = []\n",
    "all_generality_scores = []\n",
    "all_coverage_scores = []\n",
    "\n",
    "# Process the data\n",
    "for entry in results:\n",
    "    if 'stage_2_result' in entry:\n",
    "        if 'relevance' in entry['stage_2_result']:\n",
    "            relevance_scores = entry['stage_2_result']['relevance']\n",
    "            for tag, score in relevance_scores.items():\n",
    "                tag_relevance[tag].append(score)\n",
    "                all_relevance_scores.append(score)\n",
    "        if 'generality' in entry['stage_2_result']:\n",
    "            generality_scores = entry['stage_2_result']['generality']\n",
    "            for tag, score in generality_scores.items():\n",
    "                tag_generality[tag].append(score)\n",
    "                all_generality_scores.append(score)\n",
    "        if 'coverage' in entry['stage_2_result']:\n",
    "            coverage_score = entry['stage_2_result']['coverage']\n",
    "            all_coverage_scores.append(coverage_score)\n",
    "\n",
    "# Calculate average scores per tag\n",
    "avg_relevance_per_tag = {tag: sum(scores) / len(scores) for tag, scores in tag_relevance.items()}\n",
    "avg_generality_per_tag = {tag: sum(scores) / len(scores) for tag, scores in tag_generality.items()}\n",
    "avg_coverage = sum(all_coverage_scores) / len(all_coverage_scores)\n",
    "\n",
    "# Calculate means and standard deviations\n",
    "relevance_mean = np.mean(all_relevance_scores)\n",
    "generality_mean = np.mean(all_generality_scores)\n",
    "relevance_std = np.std(all_relevance_scores)\n",
    "generality_std = np.std(all_generality_scores)\n",
    "coverage_mean = np.mean(all_coverage_scores)\n",
    "coverage_std = np.std(all_coverage_scores)\n",
    "\n",
    "# Sort tags by average scores\n",
    "sorted_relevance_tags = sorted(avg_relevance_per_tag.items(), key=lambda x: x[1], reverse=True)\n",
    "sorted_generality_tags = sorted(avg_generality_per_tag.items(), key=lambda x: x[1], reverse=True)\n",
    "\n",
    "# Create subplots\n",
    "fig = make_subplots(rows=3, cols=2, subplot_titles=(\n",
    "    \"Average Relevance Score per Tag\", \"Average Generality Score per Tag\",\n",
    "    \"Overall Distribution of Relevance Scores\", \"Overall Distribution of Generality Scores\",\n",
    "    \"Overall Distribution of Coverage Scores\"\n",
    "))\n",
    "\n",
    "# Add bar charts for average scores\n",
    "fig.add_trace(go.Bar(x=[tag for tag, _ in sorted_relevance_tags], y=[score for _, score in sorted_relevance_tags], name=\"Avg Relevance\"), row=1, col=1)\n",
    "fig.add_trace(go.Bar(x=[tag for tag, _ in sorted_generality_tags], y=[score for _, score in sorted_generality_tags], name=\"Avg Generality\"), row=1, col=2)\n",
    "\n",
    "# Add histograms for overall distribution of scores\n",
    "fig.add_trace(go.Histogram(x=all_relevance_scores, nbinsx=20, name=\"Relevance Distribution\"), row=2, col=1)\n",
    "fig.add_trace(go.Histogram(x=all_generality_scores, nbinsx=20, name=\"Generality Distribution\"), row=2, col=2)\n",
    "fig.add_trace(go.Histogram(x=all_coverage_scores, nbinsx=5, name=\"Coverage Distribution\"), row=3, col=1)\n",
    "\n",
    "# Add vertical lines for mean and standard deviations on relevance histogram\n",
    "fig.add_vline(x=relevance_mean, line_dash=\"solid\", line_color=\"red\", row=2, col=1)\n",
    "fig.add_vline(x=relevance_mean - relevance_std, line_dash=\"dash\", line_color=\"green\", row=2, col=1)\n",
    "fig.add_vline(x=relevance_mean + relevance_std, line_dash=\"dash\", line_color=\"green\", row=2, col=1)\n",
    "\n",
    "# Add vertical lines for mean and standard deviations on generality histogram\n",
    "fig.add_vline(x=generality_mean, line_dash=\"solid\", line_color=\"red\", row=2, col=2)\n",
    "fig.add_vline(x=generality_mean - generality_std, line_dash=\"dash\", line_color=\"green\", row=2, col=2)\n",
    "fig.add_vline(x=generality_mean + generality_std, line_dash=\"dash\", line_color=\"green\", row=2, col=2)\n",
    "\n",
    "# Add vertical line for average coverage\n",
    "fig.add_vline(x=avg_coverage, line_dash=\"solid\", line_color=\"red\", row=3, col=1)\n",
    "fig.add_vline(x=coverage_mean, line_dash=\"solid\", line_color=\"red\", row=3, col=1)\n",
    "fig.add_vline(x=coverage_mean - coverage_std, line_dash=\"dash\", line_color=\"green\", row=3, col=1)\n",
    "fig.add_vline(x=coverage_mean + coverage_std, line_dash=\"dash\", line_color=\"green\", row=3, col=1)\n",
    "\n",
    "# Update layout\n",
    "fig.update_layout(height=1200, title_text=\"Tag Relevance and Generality Analysis\", showlegend=False)\n",
    "fig.update_xaxes(title_text=\"Tag\", row=1, col=1)\n",
    "fig.update_xaxes(title_text=\"Tag\", row=1, col=2)\n",
    "fig.update_yaxes(title_text=\"Average Score\", range=[0, 5], row=1, col=1)\n",
    "fig.update_yaxes(title_text=\"Average Score\", range=[0, 5], row=1, col=2)\n",
    "fig.update_xaxes(title_text=\"Score\", row=2, col=1)\n",
    "fig.update_xaxes(title_text=\"Score\", row=2, col=2)\n",
    "fig.update_yaxes(title_text=\"Count\", row=2, col=1)\n",
    "fig.update_yaxes(title_text=\"Count\", row=2, col=2)\n",
    "\n",
    "# Add annotations for overall averages and standard deviations\n",
    "fig.add_annotation(text=f\"Mean: {relevance_mean:.2f}<br>Std Dev: {relevance_std:.2f}\", xref=\"x3\", yref=\"paper\", x=0.5, y=1.05, showarrow=False)\n",
    "fig.add_annotation(text=f\"Mean: {generality_mean:.2f}<br>Std Dev: {generality_std:.2f}\", xref=\"x4\", yref=\"paper\", x=0.5, y=1.05, showarrow=False)\n",
    "\n",
    "# Add legend for the vertical lines\n",
    "fig.add_trace(go.Scatter(x=[None], y=[None], mode='lines', line=dict(color='red', dash='solid'), name='Mean'), row=2, col=1)\n",
    "fig.add_trace(go.Scatter(x=[None], y=[None], mode='lines', line=dict(color='green', dash='dash'), name='±1 Std Dev'), row=2, col=1)\n",
    "\n",
    "# Show the plot\n",
    "fig.show()\n",
    "\n",
    "print(f\"\\nOverall Average Relevance Score: {relevance_mean:.2f}\")\n",
    "print(f\"Overall Average Generality Score: {generality_mean:.2f}\")\n",
    "print(f\"Relevance Standard Deviation: {relevance_std:.2f}\")\n",
    "print(f\"Generality Standard Deviation: {generality_std:.2f}\")"
   ]
  },
  {
   "cell_type": "code",
   "execution_count": 35,
   "metadata": {},
   "outputs": [
    {
     "data": {
      "image/png": "[encoded data removed]",
      "text/plain": [
       "<Figure size 1200x400 with 1 Axes>"
      ]
     },
     "metadata": {},
     "output_type": "display_data"
    }
   ],
   "source": [
    "plt.figure(figsize=(12, 4))\n",
    "\n",
    "# Q-Q Plot\n",
    "plt.subplot(122)\n",
    "stats.probplot(all_relevance_scores, dist=\"norm\", plot=plt)\n",
    "plt.title('Q-Q Plot of Generality Scores')\n",
    "\n",
    "plt.tight_layout()\n",
    "plt.show()"
   ]
  },
  {
   "cell_type": "code",
   "execution_count": 34,
   "metadata": {},
   "outputs": [
    {
     "name": "stdout",
     "output_type": "stream",
     "text": [
      "Shapiro-Wilk Test - Statistic: 0.7456, p-value: 0.0001\n",
      "Anderson-Darling Test - Statistic: 2.0073\n",
      "  15.0%: 0.506\n",
      "  10.0%: 0.577\n",
      "  5.0%: 0.692\n",
      "  2.5%: 0.807\n",
      "  1.0%: 0.960\n",
      "Skewness: -1.3112\n",
      "Skewness z-score: -0.93\n",
      "Kurtosis: 1.5364\n",
      "Mean: 4.3500\n",
      "Standard Deviation: 0.7921\n",
      "Mode: 5\n",
      "Median: 4.5\n",
      "Number of unique values: 4\n",
      "Unique values: [2 3 4 5]\n"
     ]
    }
   ],
   "source": [
    "# Statistical Tests\n",
    "# Shapiro-Wilk Test\n",
    "shapiro_test = stats.shapiro(all_relevance_scores)\n",
    "print(f\"Shapiro-Wilk Test - Statistic: {shapiro_test.statistic:.4f}, p-value: {shapiro_test.pvalue:.4f}\")\n",
    "\n",
    "# Anderson-Darling Test\n",
    "anderson_test = stats.anderson(all_relevance_scores, dist='norm')\n",
    "print(f\"Anderson-Darling Test - Statistic: {anderson_test.statistic:.4f}\")\n",
    "for i in range(len(anderson_test.critical_values)):\n",
    "    sl, cv = anderson_test.significance_level[i], anderson_test.critical_values[i]\n",
    "    print(f'  {sl}%: {cv:.3f}')\n",
    "\n",
    "# Skewness and Kurtosis\n",
    "skewness = stats.skew(all_relevance_scores)\n",
    "se_skewness = np.sqrt(6/len(results))\n",
    "z_skewness = skewness / se_skewness\n",
    "kurtosis = stats.kurtosis(all_relevance_scores)\n",
    "print(f\"Skewness: {skewness:.4f}\")\n",
    "print(f\"Skewness z-score: {z_skewness:.2f}\")\n",
    "print(f\"Kurtosis: {kurtosis:.4f}\")\n",
    "\n",
    "# Calculate mean and standard deviation, and mode and median\n",
    "mean = np.mean(all_relevance_scores)\n",
    "std_dev = np.std(all_relevance_scores)\n",
    "mode = stats.mode(all_relevance_scores)\n",
    "median = np.median(all_relevance_scores)\n",
    "print(f\"Mean: {mean:.4f}\")\n",
    "print(f\"Standard Deviation: {std_dev:.4f}\")\n",
    "print(f\"Mode: {mode.mode}\")\n",
    "print(f\"Median: {median}\")\n",
    "\n",
    "# 4. Check for discrete vs continuous distribution\n",
    "unique_values = np.unique(all_relevance_scores)\n",
    "print(f\"Number of unique values: {len(unique_values)}\")\n",
    "print(f\"Unique values: {unique_values}\")"
   ]
  },
  {
   "cell_type": "code",
   "execution_count": null,
   "metadata": {},
   "outputs": [
    {
     "data": {
      "image/png": "[encoded data removed]",
      "text/plain": [
       "<Figure size 1200x400 with 1 Axes>"
      ]
     },
     "metadata": {},
     "output_type": "display_data"
    }
   ],
   "source": [
    "plt.figure(figsize=(12, 4))\n",
    "\n",
    "# Q-Q Plot\n",
    "plt.subplot(122)\n",
    "stats.probplot(all_generality_scores, dist=\"norm\", plot=plt)\n",
    "plt.title('Q-Q Plot of Generality Scores')\n",
    "\n",
    "plt.tight_layout()\n",
    "plt.show()"
   ]
  },
  {
   "cell_type": "code",
   "execution_count": null,
   "metadata": {},
   "outputs": [
    {
     "name": "stdout",
     "output_type": "stream",
     "text": [
      "Shapiro-Wilk Test - Statistic: 0.8786, p-value: 0.0000\n",
      "Anderson-Darling Test - Statistic: 2641.2348\n",
      "  15.0%: 0.576\n",
      "  10.0%: 0.656\n",
      "  5.0%: 0.787\n",
      "  2.5%: 0.918\n",
      "  1.0%: 1.092\n",
      "Skewness: -0.3544\n",
      "Skewness z-score: -10.41\n",
      "Kurtosis: -0.0169\n",
      "Mean: 3.2869\n",
      "Standard Deviation: 0.8705\n",
      "Mode: 3\n",
      "Median: 3.0\n",
      "Number of unique values: 5\n",
      "Unique values: [1 2 3 4 5]\n"
     ]
    },
    {
     "name": "stderr",
     "output_type": "stream",
     "text": [
      "/var/folders/cl/69z7wmcn5xx7cb7wc_xvd8fw0000gn/T/ipykernel_4501/1501710613.py:3: UserWarning:\n",
      "\n",
      "scipy.stats.shapiro: For N > 5000, computed p-value may not be accurate. Current N is 45916.\n",
      "\n"
     ]
    }
   ],
   "source": [
    "# Statistical Tests\n",
    "# Shapiro-Wilk Test\n",
    "shapiro_test = stats.shapiro(all_generality_scores)\n",
    "print(f\"Shapiro-Wilk Test - Statistic: {shapiro_test.statistic:.4f}, p-value: {shapiro_test.pvalue:.4f}\")\n",
    "\n",
    "# Anderson-Darling Test\n",
    "anderson_test = stats.anderson(all_generality_scores, dist='norm')\n",
    "print(f\"Anderson-Darling Test - Statistic: {anderson_test.statistic:.4f}\")\n",
    "for i in range(len(anderson_test.critical_values)):\n",
    "    sl, cv = anderson_test.significance_level[i], anderson_test.critical_values[i]\n",
    "    print(f'  {sl}%: {cv:.3f}')\n",
    "\n",
    "# Skewness and Kurtosis\n",
    "skewness = stats.skew(all_generality_scores)\n",
    "se_skewness = np.sqrt(6/len(results))\n",
    "z_skewness = skewness / se_skewness\n",
    "kurtosis = stats.kurtosis(all_generality_scores)\n",
    "print(f\"Skewness: {skewness:.4f}\")\n",
    "print(f\"Skewness z-score: {z_skewness:.2f}\")\n",
    "print(f\"Kurtosis: {kurtosis:.4f}\")\n",
    "\n",
    "# Calculate mean and standard deviation, and mode and median\n",
    "mean = np.mean(all_generality_scores)\n",
    "std_dev = np.std(all_generality_scores)\n",
    "mode = stats.mode(all_generality_scores)\n",
    "median = np.median(all_generality_scores)\n",
    "print(f\"Mean: {mean:.4f}\")\n",
    "print(f\"Standard Deviation: {std_dev:.4f}\")\n",
    "print(f\"Mode: {mode.mode}\")\n",
    "print(f\"Median: {median}\")\n",
    "\n",
    "# 4. Check for discrete vs continuous distribution\n",
    "unique_values = np.unique(all_generality_scores)\n",
    "print(f\"Number of unique values: {len(unique_values)}\")\n",
    "print(f\"Unique values: {unique_values}\")"
   ]
  },
  {
   "cell_type": "markdown",
   "metadata": {},
   "source": [
    "Only for the non-baseline datasets"
   ]
  },
  {
   "cell_type": "code",
   "execution_count": 36,
   "metadata": {},
   "outputs": [
    {
     "ename": "ValueError",
     "evalue": "x and y must have length at least 2.",
     "output_type": "error",
     "traceback": [
      "\u001b[0;31m---------------------------------------------------------------------------\u001b[0m",
      "\u001b[0;31mValueError\u001b[0m                                Traceback (most recent call last)",
      "\u001b[0;32m/var/folders/cl/69z7wmcn5xx7cb7wc_xvd8fw0000gn/T/ipykernel_19060/2365193970.py\u001b[0m in \u001b[0;36m?\u001b[0;34m()\u001b[0m\n\u001b[1;32m     37\u001b[0m \u001b[0;34m\u001b[0m\u001b[0m\n\u001b[1;32m     38\u001b[0m \u001b[0mpearson_correlation_overarching_labels\u001b[0m\u001b[0;34m,\u001b[0m \u001b[0mpearson_p_value_overarching_labels\u001b[0m \u001b[0;34m=\u001b[0m \u001b[0mstats\u001b[0m\u001b[0;34m.\u001b[0m\u001b[0mpearsonr\u001b[0m\u001b[0;34m(\u001b[0m\u001b[0mrelevance_list_overarching_labels\u001b[0m\u001b[0;34m,\u001b[0m \u001b[0mscores_list_overarching_labels\u001b[0m\u001b[0;34m)\u001b[0m\u001b[0;34m\u001b[0m\u001b[0;34m\u001b[0m\u001b[0m\n\u001b[1;32m     39\u001b[0m \u001b[0mspearman_correlation_overarching_labels\u001b[0m\u001b[0;34m,\u001b[0m \u001b[0mspearman_p_value_overarching_labels\u001b[0m \u001b[0;34m=\u001b[0m \u001b[0mstats\u001b[0m\u001b[0;34m.\u001b[0m\u001b[0mspearmanr\u001b[0m\u001b[0;34m(\u001b[0m\u001b[0mrelevance_list_overarching_labels\u001b[0m\u001b[0;34m,\u001b[0m \u001b[0mscores_list_overarching_labels\u001b[0m\u001b[0;34m)\u001b[0m\u001b[0;34m\u001b[0m\u001b[0;34m\u001b[0m\u001b[0m\n\u001b[1;32m     40\u001b[0m \u001b[0;34m\u001b[0m\u001b[0m\n\u001b[0;32m---> 41\u001b[0;31m \u001b[0mpearson_correlation_keywords\u001b[0m\u001b[0;34m,\u001b[0m \u001b[0mpearson_p_value_keywords\u001b[0m \u001b[0;34m=\u001b[0m \u001b[0mstats\u001b[0m\u001b[0;34m.\u001b[0m\u001b[0mpearsonr\u001b[0m\u001b[0;34m(\u001b[0m\u001b[0mrelevance_list_keywords\u001b[0m\u001b[0;34m,\u001b[0m \u001b[0mscores_list_keywords\u001b[0m\u001b[0;34m)\u001b[0m\u001b[0;34m\u001b[0m\u001b[0;34m\u001b[0m\u001b[0m\n\u001b[0m\u001b[1;32m     42\u001b[0m \u001b[0mspearman_correlation_keywords\u001b[0m\u001b[0;34m,\u001b[0m \u001b[0mspearman_p_value_keywords\u001b[0m \u001b[0;34m=\u001b[0m \u001b[0mstats\u001b[0m\u001b[0;34m.\u001b[0m\u001b[0mspearmanr\u001b[0m\u001b[0;34m(\u001b[0m\u001b[0mrelevance_list_keywords\u001b[0m\u001b[0;34m,\u001b[0m \u001b[0mscores_list_keywords\u001b[0m\u001b[0;34m)\u001b[0m\u001b[0;34m\u001b[0m\u001b[0;34m\u001b[0m\u001b[0m\n\u001b[1;32m     43\u001b[0m \u001b[0;34m\u001b[0m\u001b[0m\n\u001b[1;32m     44\u001b[0m \u001b[0mprint\u001b[0m\u001b[0;34m(\u001b[0m\u001b[0;34mf\"Pearson Correlation between relevance and scores: {pearson_correlation:.3f}, P-value: {pearson_p_value:.3f}\"\u001b[0m\u001b[0;34m)\u001b[0m\u001b[0;34m\u001b[0m\u001b[0;34m\u001b[0m\u001b[0m\n",
      "\u001b[0;32m~/miniconda3/envs/openml-tags/lib/python3.10/site-packages/scipy/stats/_stats_py.py\u001b[0m in \u001b[0;36m?\u001b[0;34m(x, y, alternative, method)\u001b[0m\n\u001b[1;32m   4723\u001b[0m     \u001b[0;32mif\u001b[0m \u001b[0mn\u001b[0m \u001b[0;34m!=\u001b[0m \u001b[0mlen\u001b[0m\u001b[0;34m(\u001b[0m\u001b[0my\u001b[0m\u001b[0;34m)\u001b[0m\u001b[0;34m:\u001b[0m\u001b[0;34m\u001b[0m\u001b[0;34m\u001b[0m\u001b[0m\n\u001b[1;32m   4724\u001b[0m         \u001b[0;32mraise\u001b[0m \u001b[0mValueError\u001b[0m\u001b[0;34m(\u001b[0m\u001b[0;34m'x and y must have the same length.'\u001b[0m\u001b[0;34m)\u001b[0m\u001b[0;34m\u001b[0m\u001b[0;34m\u001b[0m\u001b[0m\n\u001b[1;32m   4725\u001b[0m \u001b[0;34m\u001b[0m\u001b[0m\n\u001b[1;32m   4726\u001b[0m     \u001b[0;32mif\u001b[0m \u001b[0mn\u001b[0m \u001b[0;34m<\u001b[0m \u001b[0;36m2\u001b[0m\u001b[0;34m:\u001b[0m\u001b[0;34m\u001b[0m\u001b[0;34m\u001b[0m\u001b[0m\n\u001b[0;32m-> 4727\u001b[0;31m         \u001b[0;32mraise\u001b[0m \u001b[0mValueError\u001b[0m\u001b[0;34m(\u001b[0m\u001b[0;34m'x and y must have length at least 2.'\u001b[0m\u001b[0;34m)\u001b[0m\u001b[0;34m\u001b[0m\u001b[0;34m\u001b[0m\u001b[0m\n\u001b[0m\u001b[1;32m   4728\u001b[0m \u001b[0;34m\u001b[0m\u001b[0m\n\u001b[1;32m   4729\u001b[0m     \u001b[0mx\u001b[0m \u001b[0;34m=\u001b[0m \u001b[0mnp\u001b[0m\u001b[0;34m.\u001b[0m\u001b[0masarray\u001b[0m\u001b[0;34m(\u001b[0m\u001b[0mx\u001b[0m\u001b[0;34m)\u001b[0m\u001b[0;34m\u001b[0m\u001b[0;34m\u001b[0m\u001b[0m\n\u001b[1;32m   4730\u001b[0m     \u001b[0my\u001b[0m \u001b[0;34m=\u001b[0m \u001b[0mnp\u001b[0m\u001b[0;34m.\u001b[0m\u001b[0masarray\u001b[0m\u001b[0;34m(\u001b[0m\u001b[0my\u001b[0m\u001b[0;34m)\u001b[0m\u001b[0;34m\u001b[0m\u001b[0;34m\u001b[0m\u001b[0m\n",
      "\u001b[0;31mValueError\u001b[0m: x and y must have length at least 2."
     ]
    }
   ],
   "source": [
    "relevance_list = []\n",
    "scores_list = []\n",
    "relevance_list_labels = []\n",
    "scores_list_labels = []\n",
    "relevance_list_overarching_labels = []\n",
    "scores_list_overarching_labels = []\n",
    "relevance_list_keywords = []\n",
    "scores_list_keywords = []\n",
    "\n",
    "for result1 in results:\n",
    "    result2 = [result2 for result2 in human_evaluation if result1['document'] in result2['sequence']][0]\n",
    "    relevance_list_result1 = list(zip(result1['stage_2_result']['relevance'].keys(), result1['stage_2_result']['relevance'].values()))\n",
    "    scores_list_result2 = list(zip(result2['labels'] + result2['overarching_labels'] + result2['keywords_labels'], result2['scores'] + result2['overarching_scores'] + result2['keywords_scores']))\n",
    "    for tuple1 in relevance_list_result1:\n",
    "        label1 = tuple1[0]\n",
    "        for tuple2 in scores_list_result2:\n",
    "            label2 = tuple2[0]\n",
    "            if label1 == label2:\n",
    "                relevance = tuple1[1]\n",
    "                scores = tuple2[1]\n",
    "                relevance_list.append(relevance)\n",
    "                scores_list.append(scores)\n",
    "                if label1 in result2['labels']:\n",
    "                    relevance_list_labels.append(relevance)\n",
    "                    scores_list_labels.append(scores)\n",
    "                elif label1 in result2['overarching_labels']:\n",
    "                    relevance_list_overarching_labels.append(relevance)\n",
    "                    scores_list_overarching_labels.append(scores)\n",
    "                elif label1 in result2['keywords_labels']:\n",
    "                    relevance_list_keywords.append(relevance)\n",
    "                    scores_list_keywords.append(scores)\n",
    "pearson_correlation, pearson_p_value = stats.pearsonr(relevance_list, scores_list)\n",
    "spearman_correlation, spearman_p_value = stats.spearmanr(relevance_list, scores_list)\n",
    "                    \n",
    "pearson_correlation_labels, pearson_p_value_labels = stats.pearsonr(relevance_list_labels, scores_list_labels)\n",
    "spearman_correlation_labels, spearman_p_value_labels = stats.spearmanr(relevance_list_labels, scores_list_labels)\n",
    "\n",
    "pearson_correlation_overarching_labels, pearson_p_value_overarching_labels = stats.pearsonr(relevance_list_overarching_labels, scores_list_overarching_labels)\n",
    "spearman_correlation_overarching_labels, spearman_p_value_overarching_labels = stats.spearmanr(relevance_list_overarching_labels, scores_list_overarching_labels)\n",
    "\n",
    "pearson_correlation_keywords, pearson_p_value_keywords = stats.pearsonr(relevance_list_keywords, scores_list_keywords)\n",
    "spearman_correlation_keywords, spearman_p_value_keywords = stats.spearmanr(relevance_list_keywords, scores_list_keywords)\n",
    "\n",
    "print(f\"Pearson Correlation between relevance and scores: {pearson_correlation:.3f}, P-value: {pearson_p_value:.3f}\")\n",
    "print(f\"Spearman Correlation between relevance and scores: {spearman_correlation:.3f}, P-value: {spearman_p_value:.3f}\")\n",
    "\n",
    "print(f\"Pearson Correlation between relevance and scores for labels: {pearson_correlation_labels:.3f}, P-value: {pearson_p_value_labels:.3f}\")\n",
    "print(f\"Spearman Correlation between relevance and scores for labels: {spearman_correlation_labels:.3f}, P-value: {spearman_p_value_labels:.3f}\")\n",
    "\n",
    "print(f\"Pearson Correlation between relevance and scores for overarching labels: {pearson_correlation_overarching_labels:.3f}, P-value: {pearson_p_value_overarching_labels:.3f}\")\n",
    "print(f\"Spearman Correlation between relevance and scores for overarching labels: {spearman_correlation_overarching_labels:.3f}, P-value: {spearman_p_value_overarching_labels:.3f}\")\n",
    "\n",
    "print(f\"Pearson Correlation between relevance and scores for keywords: {pearson_correlation_keywords:.3f}, P-value: {pearson_p_value_keywords:.3f}\")\n",
    "print(f\"Spearman Correlation between relevance and scores for keywords: {spearman_correlation_keywords:.3f}, P-value: {spearman_p_value_keywords:.3f}\")"
   ]
  },
  {
   "cell_type": "code",
   "execution_count": 37,
   "metadata": {},
   "outputs": [
    {
     "name": "stderr",
     "output_type": "stream",
     "text": [
      "/Users/ivang/miniconda3/envs/openml-tags/lib/python3.10/site-packages/numpy/core/fromnumeric.py:3504: RuntimeWarning:\n",
      "\n",
      "Mean of empty slice.\n",
      "\n",
      "/Users/ivang/miniconda3/envs/openml-tags/lib/python3.10/site-packages/numpy/core/_methods.py:129: RuntimeWarning:\n",
      "\n",
      "invalid value encountered in scalar divide\n",
      "\n",
      "/Users/ivang/miniconda3/envs/openml-tags/lib/python3.10/site-packages/numpy/core/_methods.py:206: RuntimeWarning:\n",
      "\n",
      "Degrees of freedom <= 0 for slice\n",
      "\n",
      "/Users/ivang/miniconda3/envs/openml-tags/lib/python3.10/site-packages/numpy/core/_methods.py:163: RuntimeWarning:\n",
      "\n",
      "invalid value encountered in divide\n",
      "\n",
      "/Users/ivang/miniconda3/envs/openml-tags/lib/python3.10/site-packages/numpy/core/_methods.py:198: RuntimeWarning:\n",
      "\n",
      "invalid value encountered in scalar divide\n",
      "\n"
     ]
    },
    {
     "data": {
      "application/vnd.plotly.v1+json": {
       "config": {
        "plotlyServerURL": "https://plot.ly"
       },
       "data": [
        {
         "name": "Avg Relevance",
         "type": "bar",
         "x": [
          "League of Legends",
          "Historical Price Data",
          "Forex",
          "Lung Cancer",
          "Oncology"
         ],
         "xaxis": "x",
         "y": [
          5,
          5,
          5,
          5,
          4
         ],
         "yaxis": "y"
        },
        {
         "name": "Avg Generality",
         "type": "bar",
         "x": [
          "Historical Price Data",
          "Forex",
          "Oncology",
          "League of Legends",
          "Lung Cancer"
         ],
         "xaxis": "x2",
         "y": [
          3,
          3,
          3,
          2,
          2
         ],
         "yaxis": "y2"
        },
        {
         "name": "Avg Relevance",
         "type": "bar",
         "x": [
          "Cancer",
          "Biology"
         ],
         "xaxis": "x3",
         "y": [
          5,
          4
         ],
         "yaxis": "y3"
        },
        {
         "name": "Avg Generality",
         "type": "bar",
         "x": [
          "Cancer",
          "Biology"
         ],
         "xaxis": "x4",
         "y": [
          3,
          3
         ],
         "yaxis": "y4"
        },
        {
         "name": "Avg Relevance",
         "type": "bar",
         "x": [],
         "xaxis": "x5",
         "y": [],
         "yaxis": "y5"
        },
        {
         "name": "Avg Generality",
         "type": "bar",
         "x": [],
         "xaxis": "x6",
         "y": [],
         "yaxis": "y6"
        },
        {
         "name": "Relevance Distribution",
         "nbinsx": 20,
         "type": "histogram",
         "x": [
          5,
          5,
          5,
          5,
          4
         ],
         "xaxis": "x7",
         "yaxis": "y7"
        },
        {
         "name": "Generality Distribution",
         "nbinsx": 20,
         "type": "histogram",
         "x": [
          2,
          3,
          3,
          2,
          3
         ],
         "xaxis": "x8",
         "yaxis": "y8"
        },
        {
         "name": "Relevance Distribution",
         "nbinsx": 20,
         "type": "histogram",
         "x": [
          5,
          4
         ],
         "xaxis": "x9",
         "yaxis": "y9"
        },
        {
         "name": "Generality Distribution",
         "nbinsx": 20,
         "type": "histogram",
         "x": [
          3,
          3
         ],
         "xaxis": "x10",
         "yaxis": "y10"
        },
        {
         "name": "Relevance Distribution",
         "nbinsx": 20,
         "type": "histogram",
         "x": [],
         "xaxis": "x11",
         "yaxis": "y11"
        },
        {
         "name": "Generality Distribution",
         "nbinsx": 20,
         "type": "histogram",
         "x": [],
         "xaxis": "x12",
         "yaxis": "y12"
        },
        {
         "line": {
          "color": "red",
          "dash": "solid"
         },
         "mode": "lines",
         "name": "Mean",
         "type": "scatter",
         "x": [
          null
         ],
         "xaxis": "x7",
         "y": [
          null
         ],
         "yaxis": "y7"
        },
        {
         "line": {
          "color": "green",
          "dash": "dash"
         },
         "mode": "lines",
         "name": "±1 Std Dev",
         "type": "scatter",
         "x": [
          null
         ],
         "xaxis": "x7",
         "y": [
          null
         ],
         "yaxis": "y7"
        },
        {
         "line": {
          "color": "red",
          "dash": "solid"
         },
         "mode": "lines",
         "name": "Mean",
         "type": "scatter",
         "x": [
          null
         ],
         "xaxis": "x9",
         "y": [
          null
         ],
         "yaxis": "y9"
        },
        {
         "line": {
          "color": "green",
          "dash": "dash"
         },
         "mode": "lines",
         "name": "±1 Std Dev",
         "type": "scatter",
         "x": [
          null
         ],
         "xaxis": "x9",
         "y": [
          null
         ],
         "yaxis": "y9"
        },
        {
         "line": {
          "color": "red",
          "dash": "solid"
         },
         "mode": "lines",
         "name": "Mean",
         "type": "scatter",
         "x": [
          null
         ],
         "xaxis": "x11",
         "y": [
          null
         ],
         "yaxis": "y11"
        },
        {
         "line": {
          "color": "green",
          "dash": "dash"
         },
         "mode": "lines",
         "name": "±1 Std Dev",
         "type": "scatter",
         "x": [
          null
         ],
         "xaxis": "x11",
         "y": [
          null
         ],
         "yaxis": "y11"
        }
       ],
       "layout": {
        "annotations": [
         {
          "font": {
           "size": 16
          },
          "showarrow": false,
          "text": "Average Relevance Score per Tag (Labels)",
          "x": 0.225,
          "xanchor": "center",
          "xref": "paper",
          "y": 0.9999999999999999,
          "yanchor": "bottom",
          "yref": "paper"
         },
         {
          "font": {
           "size": 16
          },
          "showarrow": false,
          "text": "Average Generality Score per Tag (Labels)",
          "x": 0.775,
          "xanchor": "center",
          "xref": "paper",
          "y": 0.9999999999999999,
          "yanchor": "bottom",
          "yref": "paper"
         },
         {
          "font": {
           "size": 16
          },
          "showarrow": false,
          "text": "Average Relevance Score per Tag (Overarching Labels)",
          "x": 0.225,
          "xanchor": "center",
          "xref": "paper",
          "y": 0.8194444444444444,
          "yanchor": "bottom",
          "yref": "paper"
         },
         {
          "font": {
           "size": 16
          },
          "showarrow": false,
          "text": "Average Generality Score per Tag (Overarching Labels)",
          "x": 0.775,
          "xanchor": "center",
          "xref": "paper",
          "y": 0.8194444444444444,
          "yanchor": "bottom",
          "yref": "paper"
         },
         {
          "font": {
           "size": 16
          },
          "showarrow": false,
          "text": "Average Relevance Score per Tag (Keywords)",
          "x": 0.225,
          "xanchor": "center",
          "xref": "paper",
          "y": 0.638888888888889,
          "yanchor": "bottom",
          "yref": "paper"
         },
         {
          "font": {
           "size": 16
          },
          "showarrow": false,
          "text": "Average Generality Score per Tag (Keywords)",
          "x": 0.775,
          "xanchor": "center",
          "xref": "paper",
          "y": 0.638888888888889,
          "yanchor": "bottom",
          "yref": "paper"
         },
         {
          "font": {
           "size": 16
          },
          "showarrow": false,
          "text": "Overall Distribution of Relevance Scores (Labels)",
          "x": 0.225,
          "xanchor": "center",
          "xref": "paper",
          "y": 0.4583333333333333,
          "yanchor": "bottom",
          "yref": "paper"
         },
         {
          "font": {
           "size": 16
          },
          "showarrow": false,
          "text": "Overall Distribution of Generality Scores (Labels)",
          "x": 0.775,
          "xanchor": "center",
          "xref": "paper",
          "y": 0.4583333333333333,
          "yanchor": "bottom",
          "yref": "paper"
         },
         {
          "font": {
           "size": 16
          },
          "showarrow": false,
          "text": "Overall Distribution of Relevance Scores (Overarching Labels)",
          "x": 0.225,
          "xanchor": "center",
          "xref": "paper",
          "y": 0.2777777777777778,
          "yanchor": "bottom",
          "yref": "paper"
         },
         {
          "font": {
           "size": 16
          },
          "showarrow": false,
          "text": "Overall Distribution of Generality Scores (Overarching Labels)",
          "x": 0.775,
          "xanchor": "center",
          "xref": "paper",
          "y": 0.2777777777777778,
          "yanchor": "bottom",
          "yref": "paper"
         },
         {
          "font": {
           "size": 16
          },
          "showarrow": false,
          "text": "Overall Distribution of Relevance Scores (Keywords)",
          "x": 0.225,
          "xanchor": "center",
          "xref": "paper",
          "y": 0.09722222222222222,
          "yanchor": "bottom",
          "yref": "paper"
         },
         {
          "font": {
           "size": 16
          },
          "showarrow": false,
          "text": "Overall Distribution of Generality Scores (Keywords)",
          "x": 0.775,
          "xanchor": "center",
          "xref": "paper",
          "y": 0.09722222222222222,
          "yanchor": "bottom",
          "yref": "paper"
         },
         {
          "showarrow": false,
          "text": "Mean: 4.80<br>Std Dev: 0.40",
          "x": 0.5,
          "xref": "x7",
          "y": 1.05,
          "yref": "paper"
         },
         {
          "showarrow": false,
          "text": "Mean: 2.60<br>Std Dev: 0.49",
          "x": 0.5,
          "xref": "x8",
          "y": 1.05,
          "yref": "paper"
         },
         {
          "showarrow": false,
          "text": "Mean: 4.50<br>Std Dev: 0.50",
          "x": 0.5,
          "xref": "x9",
          "y": 1.05,
          "yref": "paper"
         },
         {
          "showarrow": false,
          "text": "Mean: 3.00<br>Std Dev: 0.00",
          "x": 0.5,
          "xref": "x10",
          "y": 1.05,
          "yref": "paper"
         },
         {
          "showarrow": false,
          "text": "Mean: nan<br>Std Dev: nan",
          "x": 0.5,
          "xref": "x11",
          "y": 1.05,
          "yref": "paper"
         },
         {
          "showarrow": false,
          "text": "Mean: nan<br>Std Dev: nan",
          "x": 0.5,
          "xref": "x12",
          "y": 1.05,
          "yref": "paper"
         }
        ],
        "height": 3600,
        "shapes": [
         {
          "line": {
           "color": "red",
           "dash": "solid"
          },
          "type": "line",
          "x0": 4.8,
          "x1": 4.8,
          "xref": "x7",
          "y0": 0,
          "y1": 1,
          "yref": "y7 domain"
         },
         {
          "line": {
           "color": "green",
           "dash": "dash"
          },
          "type": "line",
          "x0": 4.3999999999999995,
          "x1": 4.3999999999999995,
          "xref": "x7",
          "y0": 0,
          "y1": 1,
          "yref": "y7 domain"
         },
         {
          "line": {
           "color": "green",
           "dash": "dash"
          },
          "type": "line",
          "x0": 5.2,
          "x1": 5.2,
          "xref": "x7",
          "y0": 0,
          "y1": 1,
          "yref": "y7 domain"
         },
         {
          "line": {
           "color": "red",
           "dash": "solid"
          },
          "type": "line",
          "x0": 4.5,
          "x1": 4.5,
          "xref": "x9",
          "y0": 0,
          "y1": 1,
          "yref": "y9 domain"
         },
         {
          "line": {
           "color": "green",
           "dash": "dash"
          },
          "type": "line",
          "x0": 4,
          "x1": 4,
          "xref": "x9",
          "y0": 0,
          "y1": 1,
          "yref": "y9 domain"
         },
         {
          "line": {
           "color": "green",
           "dash": "dash"
          },
          "type": "line",
          "x0": 5,
          "x1": 5,
          "xref": "x9",
          "y0": 0,
          "y1": 1,
          "yref": "y9 domain"
         },
         {
          "line": {
           "color": "red",
           "dash": "solid"
          },
          "type": "line",
          "x0": null,
          "x1": null,
          "xref": "x11",
          "y0": 0,
          "y1": 1,
          "yref": "y11 domain"
         },
         {
          "line": {
           "color": "green",
           "dash": "dash"
          },
          "type": "line",
          "x0": null,
          "x1": null,
          "xref": "x11",
          "y0": 0,
          "y1": 1,
          "yref": "y11 domain"
         },
         {
          "line": {
           "color": "green",
           "dash": "dash"
          },
          "type": "line",
          "x0": null,
          "x1": null,
          "xref": "x11",
          "y0": 0,
          "y1": 1,
          "yref": "y11 domain"
         },
         {
          "line": {
           "color": "red",
           "dash": "solid"
          },
          "type": "line",
          "x0": 2.6,
          "x1": 2.6,
          "xref": "x8",
          "y0": 0,
          "y1": 1,
          "yref": "y8 domain"
         },
         {
          "line": {
           "color": "green",
           "dash": "dash"
          },
          "type": "line",
          "x0": 2.1101020514433646,
          "x1": 2.1101020514433646,
          "xref": "x8",
          "y0": 0,
          "y1": 1,
          "yref": "y8 domain"
         },
         {
          "line": {
           "color": "green",
           "dash": "dash"
          },
          "type": "line",
          "x0": 3.0898979485566356,
          "x1": 3.0898979485566356,
          "xref": "x8",
          "y0": 0,
          "y1": 1,
          "yref": "y8 domain"
         },
         {
          "line": {
           "color": "red",
           "dash": "solid"
          },
          "type": "line",
          "x0": 3,
          "x1": 3,
          "xref": "x10",
          "y0": 0,
          "y1": 1,
          "yref": "y10 domain"
         },
         {
          "line": {
           "color": "green",
           "dash": "dash"
          },
          "type": "line",
          "x0": 3,
          "x1": 3,
          "xref": "x10",
          "y0": 0,
          "y1": 1,
          "yref": "y10 domain"
         },
         {
          "line": {
           "color": "green",
           "dash": "dash"
          },
          "type": "line",
          "x0": 3,
          "x1": 3,
          "xref": "x10",
          "y0": 0,
          "y1": 1,
          "yref": "y10 domain"
         },
         {
          "line": {
           "color": "red",
           "dash": "solid"
          },
          "type": "line",
          "x0": null,
          "x1": null,
          "xref": "x12",
          "y0": 0,
          "y1": 1,
          "yref": "y12 domain"
         },
         {
          "line": {
           "color": "green",
           "dash": "dash"
          },
          "type": "line",
          "x0": null,
          "x1": null,
          "xref": "x12",
          "y0": 0,
          "y1": 1,
          "yref": "y12 domain"
         },
         {
          "line": {
           "color": "green",
           "dash": "dash"
          },
          "type": "line",
          "x0": null,
          "x1": null,
          "xref": "x12",
          "y0": 0,
          "y1": 1,
          "yref": "y12 domain"
         }
        ],
        "showlegend": false,
        "template": {
         "data": {
          "bar": [
           {
            "error_x": {
             "color": "#2a3f5f"
            },
            "error_y": {
             "color": "#2a3f5f"
            },
            "marker": {
             "line": {
              "color": "#E5ECF6",
              "width": 0.5
             },
             "pattern": {
              "fillmode": "overlay",
              "size": 10,
              "solidity": 0.2
             }
            },
            "type": "bar"
           }
          ],
          "barpolar": [
           {
            "marker": {
             "line": {
              "color": "#E5ECF6",
              "width": 0.5
             },
             "pattern": {
              "fillmode": "overlay",
              "size": 10,
              "solidity": 0.2
             }
            },
            "type": "barpolar"
           }
          ],
          "carpet": [
           {
            "aaxis": {
             "endlinecolor": "#2a3f5f",
             "gridcolor": "white",
             "linecolor": "white",
             "minorgridcolor": "white",
             "startlinecolor": "#2a3f5f"
            },
            "baxis": {
             "endlinecolor": "#2a3f5f",
             "gridcolor": "white",
             "linecolor": "white",
             "minorgridcolor": "white",
             "startlinecolor": "#2a3f5f"
            },
            "type": "carpet"
           }
          ],
          "choropleth": [
           {
            "colorbar": {
             "outlinewidth": 0,
             "ticks": ""
            },
            "type": "choropleth"
           }
          ],
          "contour": [
           {
            "colorbar": {
             "outlinewidth": 0,
             "ticks": ""
            },
            "colorscale": [
             [
              0,
              "#0d0887"
             ],
             [
              0.1111111111111111,
              "#46039f"
             ],
             [
              0.2222222222222222,
              "#7201a8"
             ],
             [
              0.3333333333333333,
              "#9c179e"
             ],
             [
              0.4444444444444444,
              "#bd3786"
             ],
             [
              0.5555555555555556,
              "#d8576b"
             ],
             [
              0.6666666666666666,
              "#ed7953"
             ],
             [
              0.7777777777777778,
              "#fb9f3a"
             ],
             [
              0.8888888888888888,
              "#fdca26"
             ],
             [
              1,
              "#f0f921"
             ]
            ],
            "type": "contour"
           }
          ],
          "contourcarpet": [
           {
            "colorbar": {
             "outlinewidth": 0,
             "ticks": ""
            },
            "type": "contourcarpet"
           }
          ],
          "heatmap": [
           {
            "colorbar": {
             "outlinewidth": 0,
             "ticks": ""
            },
            "colorscale": [
             [
              0,
              "#0d0887"
             ],
             [
              0.1111111111111111,
              "#46039f"
             ],
             [
              0.2222222222222222,
              "#7201a8"
             ],
             [
              0.3333333333333333,
              "#9c179e"
             ],
             [
              0.4444444444444444,
              "#bd3786"
             ],
             [
              0.5555555555555556,
              "#d8576b"
             ],
             [
              0.6666666666666666,
              "#ed7953"
             ],
             [
              0.7777777777777778,
              "#fb9f3a"
             ],
             [
              0.8888888888888888,
              "#fdca26"
             ],
             [
              1,
              "#f0f921"
             ]
            ],
            "type": "heatmap"
           }
          ],
          "heatmapgl": [
           {
            "colorbar": {
             "outlinewidth": 0,
             "ticks": ""
            },
            "colorscale": [
             [
              0,
              "#0d0887"
             ],
             [
              0.1111111111111111,
              "#46039f"
             ],
             [
              0.2222222222222222,
              "#7201a8"
             ],
             [
              0.3333333333333333,
              "#9c179e"
             ],
             [
              0.4444444444444444,
              "#bd3786"
             ],
             [
              0.5555555555555556,
              "#d8576b"
             ],
             [
              0.6666666666666666,
              "#ed7953"
             ],
             [
              0.7777777777777778,
              "#fb9f3a"
             ],
             [
              0.8888888888888888,
              "#fdca26"
             ],
             [
              1,
              "#f0f921"
             ]
            ],
            "type": "heatmapgl"
           }
          ],
          "histogram": [
           {
            "marker": {
             "pattern": {
              "fillmode": "overlay",
              "size": 10,
              "solidity": 0.2
             }
            },
            "type": "histogram"
           }
          ],
          "histogram2d": [
           {
            "colorbar": {
             "outlinewidth": 0,
             "ticks": ""
            },
            "colorscale": [
             [
              0,
              "#0d0887"
             ],
             [
              0.1111111111111111,
              "#46039f"
             ],
             [
              0.2222222222222222,
              "#7201a8"
             ],
             [
              0.3333333333333333,
              "#9c179e"
             ],
             [
              0.4444444444444444,
              "#bd3786"
             ],
             [
              0.5555555555555556,
              "#d8576b"
             ],
             [
              0.6666666666666666,
              "#ed7953"
             ],
             [
              0.7777777777777778,
              "#fb9f3a"
             ],
             [
              0.8888888888888888,
              "#fdca26"
             ],
             [
              1,
              "#f0f921"
             ]
            ],
            "type": "histogram2d"
           }
          ],
          "histogram2dcontour": [
           {
            "colorbar": {
             "outlinewidth": 0,
             "ticks": ""
            },
            "colorscale": [
             [
              0,
              "#0d0887"
             ],
             [
              0.1111111111111111,
              "#46039f"
             ],
             [
              0.2222222222222222,
              "#7201a8"
             ],
             [
              0.3333333333333333,
              "#9c179e"
             ],
             [
              0.4444444444444444,
              "#bd3786"
             ],
             [
              0.5555555555555556,
              "#d8576b"
             ],
             [
              0.6666666666666666,
              "#ed7953"
             ],
             [
              0.7777777777777778,
              "#fb9f3a"
             ],
             [
              0.8888888888888888,
              "#fdca26"
             ],
             [
              1,
              "#f0f921"
             ]
            ],
            "type": "histogram2dcontour"
           }
          ],
          "mesh3d": [
           {
            "colorbar": {
             "outlinewidth": 0,
             "ticks": ""
            },
            "type": "mesh3d"
           }
          ],
          "parcoords": [
           {
            "line": {
             "colorbar": {
              "outlinewidth": 0,
              "ticks": ""
             }
            },
            "type": "parcoords"
           }
          ],
          "pie": [
           {
            "automargin": true,
            "type": "pie"
           }
          ],
          "scatter": [
           {
            "fillpattern": {
             "fillmode": "overlay",
             "size": 10,
             "solidity": 0.2
            },
            "type": "scatter"
           }
          ],
          "scatter3d": [
           {
            "line": {
             "colorbar": {
              "outlinewidth": 0,
              "ticks": ""
             }
            },
            "marker": {
             "colorbar": {
              "outlinewidth": 0,
              "ticks": ""
             }
            },
            "type": "scatter3d"
           }
          ],
          "scattercarpet": [
           {
            "marker": {
             "colorbar": {
              "outlinewidth": 0,
              "ticks": ""
             }
            },
            "type": "scattercarpet"
           }
          ],
          "scattergeo": [
           {
            "marker": {
             "colorbar": {
              "outlinewidth": 0,
              "ticks": ""
             }
            },
            "type": "scattergeo"
           }
          ],
          "scattergl": [
           {
            "marker": {
             "colorbar": {
              "outlinewidth": 0,
              "ticks": ""
             }
            },
            "type": "scattergl"
           }
          ],
          "scattermapbox": [
           {
            "marker": {
             "colorbar": {
              "outlinewidth": 0,
              "ticks": ""
             }
            },
            "type": "scattermapbox"
           }
          ],
          "scatterpolar": [
           {
            "marker": {
             "colorbar": {
              "outlinewidth": 0,
              "ticks": ""
             }
            },
            "type": "scatterpolar"
           }
          ],
          "scatterpolargl": [
           {
            "marker": {
             "colorbar": {
              "outlinewidth": 0,
              "ticks": ""
             }
            },
            "type": "scatterpolargl"
           }
          ],
          "scatterternary": [
           {
            "marker": {
             "colorbar": {
              "outlinewidth": 0,
              "ticks": ""
             }
            },
            "type": "scatterternary"
           }
          ],
          "surface": [
           {
            "colorbar": {
             "outlinewidth": 0,
             "ticks": ""
            },
            "colorscale": [
             [
              0,
              "#0d0887"
             ],
             [
              0.1111111111111111,
              "#46039f"
             ],
             [
              0.2222222222222222,
              "#7201a8"
             ],
             [
              0.3333333333333333,
              "#9c179e"
             ],
             [
              0.4444444444444444,
              "#bd3786"
             ],
             [
              0.5555555555555556,
              "#d8576b"
             ],
             [
              0.6666666666666666,
              "#ed7953"
             ],
             [
              0.7777777777777778,
              "#fb9f3a"
             ],
             [
              0.8888888888888888,
              "#fdca26"
             ],
             [
              1,
              "#f0f921"
             ]
            ],
            "type": "surface"
           }
          ],
          "table": [
           {
            "cells": {
             "fill": {
              "color": "#EBF0F8"
             },
             "line": {
              "color": "white"
             }
            },
            "header": {
             "fill": {
              "color": "#C8D4E3"
             },
             "line": {
              "color": "white"
             }
            },
            "type": "table"
           }
          ]
         },
         "layout": {
          "annotationdefaults": {
           "arrowcolor": "#2a3f5f",
           "arrowhead": 0,
           "arrowwidth": 1
          },
          "autotypenumbers": "strict",
          "coloraxis": {
           "colorbar": {
            "outlinewidth": 0,
            "ticks": ""
           }
          },
          "colorscale": {
           "diverging": [
            [
             0,
             "#8e0152"
            ],
            [
             0.1,
             "#c51b7d"
            ],
            [
             0.2,
             "#de77ae"
            ],
            [
             0.3,
             "#f1b6da"
            ],
            [
             0.4,
             "#fde0ef"
            ],
            [
             0.5,
             "#f7f7f7"
            ],
            [
             0.6,
             "#e6f5d0"
            ],
            [
             0.7,
             "#b8e186"
            ],
            [
             0.8,
             "#7fbc41"
            ],
            [
             0.9,
             "#4d9221"
            ],
            [
             1,
             "#276419"
            ]
           ],
           "sequential": [
            [
             0,
             "#0d0887"
            ],
            [
             0.1111111111111111,
             "#46039f"
            ],
            [
             0.2222222222222222,
             "#7201a8"
            ],
            [
             0.3333333333333333,
             "#9c179e"
            ],
            [
             0.4444444444444444,
             "#bd3786"
            ],
            [
             0.5555555555555556,
             "#d8576b"
            ],
            [
             0.6666666666666666,
             "#ed7953"
            ],
            [
             0.7777777777777778,
             "#fb9f3a"
            ],
            [
             0.8888888888888888,
             "#fdca26"
            ],
            [
             1,
             "#f0f921"
            ]
           ],
           "sequentialminus": [
            [
             0,
             "#0d0887"
            ],
            [
             0.1111111111111111,
             "#46039f"
            ],
            [
             0.2222222222222222,
             "#7201a8"
            ],
            [
             0.3333333333333333,
             "#9c179e"
            ],
            [
             0.4444444444444444,
             "#bd3786"
            ],
            [
             0.5555555555555556,
             "#d8576b"
            ],
            [
             0.6666666666666666,
             "#ed7953"
            ],
            [
             0.7777777777777778,
             "#fb9f3a"
            ],
            [
             0.8888888888888888,
             "#fdca26"
            ],
            [
             1,
             "#f0f921"
            ]
           ]
          },
          "colorway": [
           "#636efa",
           "#EF553B",
           "#00cc96",
           "#ab63fa",
           "#FFA15A",
           "#19d3f3",
           "#FF6692",
           "#B6E880",
           "#FF97FF",
           "#FECB52"
          ],
          "font": {
           "color": "#2a3f5f"
          },
          "geo": {
           "bgcolor": "white",
           "lakecolor": "white",
           "landcolor": "#E5ECF6",
           "showlakes": true,
           "showland": true,
           "subunitcolor": "white"
          },
          "hoverlabel": {
           "align": "left"
          },
          "hovermode": "closest",
          "mapbox": {
           "style": "light"
          },
          "paper_bgcolor": "white",
          "plot_bgcolor": "#E5ECF6",
          "polar": {
           "angularaxis": {
            "gridcolor": "white",
            "linecolor": "white",
            "ticks": ""
           },
           "bgcolor": "#E5ECF6",
           "radialaxis": {
            "gridcolor": "white",
            "linecolor": "white",
            "ticks": ""
           }
          },
          "scene": {
           "xaxis": {
            "backgroundcolor": "#E5ECF6",
            "gridcolor": "white",
            "gridwidth": 2,
            "linecolor": "white",
            "showbackground": true,
            "ticks": "",
            "zerolinecolor": "white"
           },
           "yaxis": {
            "backgroundcolor": "#E5ECF6",
            "gridcolor": "white",
            "gridwidth": 2,
            "linecolor": "white",
            "showbackground": true,
            "ticks": "",
            "zerolinecolor": "white"
           },
           "zaxis": {
            "backgroundcolor": "#E5ECF6",
            "gridcolor": "white",
            "gridwidth": 2,
            "linecolor": "white",
            "showbackground": true,
            "ticks": "",
            "zerolinecolor": "white"
           }
          },
          "shapedefaults": {
           "line": {
            "color": "#2a3f5f"
           }
          },
          "ternary": {
           "aaxis": {
            "gridcolor": "white",
            "linecolor": "white",
            "ticks": ""
           },
           "baxis": {
            "gridcolor": "white",
            "linecolor": "white",
            "ticks": ""
           },
           "bgcolor": "#E5ECF6",
           "caxis": {
            "gridcolor": "white",
            "linecolor": "white",
            "ticks": ""
           }
          },
          "title": {
           "x": 0.05
          },
          "xaxis": {
           "automargin": true,
           "gridcolor": "white",
           "linecolor": "white",
           "ticks": "",
           "title": {
            "standoff": 15
           },
           "zerolinecolor": "white",
           "zerolinewidth": 2
          },
          "yaxis": {
           "automargin": true,
           "gridcolor": "white",
           "linecolor": "white",
           "ticks": "",
           "title": {
            "standoff": 15
           },
           "zerolinecolor": "white",
           "zerolinewidth": 2
          }
         }
        },
        "title": {
         "text": "Tag Relevance and Generality Analysis"
        },
        "xaxis": {
         "anchor": "y",
         "domain": [
          0,
          0.45
         ],
         "title": {
          "text": "Tag"
         }
        },
        "xaxis10": {
         "anchor": "y10",
         "domain": [
          0.55,
          1
         ],
         "title": {
          "text": "Score"
         }
        },
        "xaxis11": {
         "anchor": "y11",
         "domain": [
          0,
          0.45
         ],
         "title": {
          "text": "Score"
         }
        },
        "xaxis12": {
         "anchor": "y12",
         "domain": [
          0.55,
          1
         ],
         "title": {
          "text": "Score"
         }
        },
        "xaxis2": {
         "anchor": "y2",
         "domain": [
          0.55,
          1
         ],
         "title": {
          "text": "Tag"
         }
        },
        "xaxis3": {
         "anchor": "y3",
         "domain": [
          0,
          0.45
         ],
         "title": {
          "text": "Tag"
         }
        },
        "xaxis4": {
         "anchor": "y4",
         "domain": [
          0.55,
          1
         ],
         "title": {
          "text": "Tag"
         }
        },
        "xaxis5": {
         "anchor": "y5",
         "domain": [
          0,
          0.45
         ],
         "title": {
          "text": "Tag"
         }
        },
        "xaxis6": {
         "anchor": "y6",
         "domain": [
          0.55,
          1
         ],
         "title": {
          "text": "Tag"
         }
        },
        "xaxis7": {
         "anchor": "y7",
         "domain": [
          0,
          0.45
         ],
         "title": {
          "text": "Score"
         }
        },
        "xaxis8": {
         "anchor": "y8",
         "domain": [
          0.55,
          1
         ],
         "title": {
          "text": "Score"
         }
        },
        "xaxis9": {
         "anchor": "y9",
         "domain": [
          0,
          0.45
         ],
         "title": {
          "text": "Score"
         }
        },
        "yaxis": {
         "anchor": "x",
         "domain": [
          0.9027777777777777,
          0.9999999999999999
         ],
         "range": [
          0,
          5
         ],
         "title": {
          "text": "Average Score"
         }
        },
        "yaxis10": {
         "anchor": "x10",
         "domain": [
          0.18055555555555555,
          0.2777777777777778
         ],
         "title": {
          "text": "Count"
         }
        },
        "yaxis11": {
         "anchor": "x11",
         "domain": [
          0,
          0.09722222222222222
         ],
         "title": {
          "text": "Count"
         }
        },
        "yaxis12": {
         "anchor": "x12",
         "domain": [
          0,
          0.09722222222222222
         ],
         "title": {
          "text": "Count"
         }
        },
        "yaxis2": {
         "anchor": "x2",
         "domain": [
          0.9027777777777777,
          0.9999999999999999
         ],
         "range": [
          0,
          5
         ],
         "title": {
          "text": "Average Score"
         }
        },
        "yaxis3": {
         "anchor": "x3",
         "domain": [
          0.7222222222222222,
          0.8194444444444444
         ],
         "range": [
          0,
          5
         ],
         "title": {
          "text": "Average Score"
         }
        },
        "yaxis4": {
         "anchor": "x4",
         "domain": [
          0.7222222222222222,
          0.8194444444444444
         ],
         "range": [
          0,
          5
         ],
         "title": {
          "text": "Average Score"
         }
        },
        "yaxis5": {
         "anchor": "x5",
         "domain": [
          0.5416666666666667,
          0.638888888888889
         ],
         "range": [
          0,
          5
         ],
         "title": {
          "text": "Average Score"
         }
        },
        "yaxis6": {
         "anchor": "x6",
         "domain": [
          0.5416666666666667,
          0.638888888888889
         ],
         "range": [
          0,
          5
         ],
         "title": {
          "text": "Average Score"
         }
        },
        "yaxis7": {
         "anchor": "x7",
         "domain": [
          0.3611111111111111,
          0.4583333333333333
         ],
         "title": {
          "text": "Count"
         }
        },
        "yaxis8": {
         "anchor": "x8",
         "domain": [
          0.3611111111111111,
          0.4583333333333333
         ],
         "title": {
          "text": "Count"
         }
        },
        "yaxis9": {
         "anchor": "x9",
         "domain": [
          0.18055555555555555,
          0.2777777777777778
         ],
         "title": {
          "text": "Count"
         }
        }
       }
      }
     },
     "metadata": {},
     "output_type": "display_data"
    },
    {
     "name": "stdout",
     "output_type": "stream",
     "text": [
      "\n",
      "Overall Average Relevance Score (Labels): 4.80\n",
      "Overall Average Generality Score (Labels): 2.60\n",
      "Relevance Standard Deviation (Labels): 0.40\n",
      "Generality Standard Deviation (Labels): 0.49\n",
      "\n",
      "Overall Average Relevance Score (Overarching Labels): 4.50\n",
      "Overall Average Generality Score (Overarching Labels): 3.00\n",
      "Relevance Standard Deviation (Overarching Labels): 0.50\n",
      "Generality Standard Deviation (Overarching Labels): 0.00\n",
      "\n",
      "Overall Average Relevance Score (Keywords): nan\n",
      "Overall Average Generality Score (Keywords): nan\n",
      "Relevance Standard Deviation (Keywords): nan\n",
      "Generality Standard Deviation (Keywords): nan\n"
     ]
    }
   ],
   "source": [
    "# Initialize data structures\n",
    "tag_relevance = defaultdict(list)\n",
    "tag_generality = defaultdict(list)\n",
    "all_relevance_scores = []\n",
    "all_generality_scores = []\n",
    "\n",
    "overarching_tag_relevance = defaultdict(list)\n",
    "overarching_tag_generality = defaultdict(list)\n",
    "all_overarching_relevance_scores = []\n",
    "all_overarching_generality_scores = []\n",
    "\n",
    "keywords_tag_relevance = defaultdict(list)\n",
    "keywords_tag_generality = defaultdict(list)\n",
    "all_keywords_relevance_scores = []\n",
    "all_keywords_generality_scores = []\n",
    "\n",
    "# Process the data\n",
    "for result1 in results:\n",
    "    result2 = [result2 for result2 in human_evaluation if result1['document'] in result2['sequence']][0]\n",
    "    relevance_list_result1 = list(zip(result1['stage_2_result']['relevance'].keys(), result1['stage_2_result']['relevance'].values()))\n",
    "    generality_list_result1 = list(zip(result1['stage_2_result']['generality'].keys(), result1['stage_2_result']['generality'].values()))\n",
    "    scores_list_result2 = list(zip(result2['labels'] + result2['overarching_labels'] + result2['keywords_labels'], result2['scores'] + result2['overarching_scores'] + result2['keywords_scores']))\n",
    "    for i, tuple1 in enumerate(relevance_list_result1):\n",
    "        label1 = tuple1[0]\n",
    "        generality = generality_list_result1[i][1]\n",
    "        for tuple2 in scores_list_result2:\n",
    "            label2 = tuple2[0]\n",
    "            if label1 == label2:\n",
    "                relevance = tuple1[1]\n",
    "                scores = tuple2[1]\n",
    "                if label1 in result2['labels']:\n",
    "                    tag_relevance[label1].append(relevance)\n",
    "                    tag_generality[label1].append(generality)\n",
    "                    all_relevance_scores.append(relevance)\n",
    "                    all_generality_scores.append(generality)\n",
    "                elif label1 in result2['overarching_labels']:\n",
    "                    overarching_tag_relevance[label1].append(relevance)\n",
    "                    overarching_tag_generality[label1].append(generality)\n",
    "                    all_overarching_relevance_scores.append(relevance)\n",
    "                    all_overarching_generality_scores.append(generality)\n",
    "                elif label1 in result2['keywords_labels']:\n",
    "                    keywords_tag_relevance[label1].append(relevance)\n",
    "                    keywords_tag_generality[label1].append(generality)\n",
    "                    all_keywords_relevance_scores.append(relevance)\n",
    "                    all_keywords_generality_scores.append(generality)\n",
    "        \n",
    "# Calculate average scores per tag\n",
    "avg_relevance_per_tag = {tag: sum(scores) / len(scores) for tag, scores in tag_relevance.items()}\n",
    "avg_generality_per_tag = {tag: sum(scores) / len(scores) for tag, scores in tag_generality.items()}\n",
    "avg_overarching_relevance_per_tag = {tag: sum(scores) / len(scores) for tag, scores in overarching_tag_relevance.items()}\n",
    "avg_overarching_generality_per_tag = {tag: sum(scores) / len(scores) for tag, scores in overarching_tag_generality.items()}\n",
    "avg_keywords_relevance_per_tag = {tag: sum(scores) / len(scores) for tag, scores in keywords_tag_relevance.items()}\n",
    "avg_keywords_generality_per_tag = {tag: sum(scores) / len(scores) for tag, scores in keywords_tag_generality.items()}\n",
    "\n",
    "# Calculate means and standard deviations\n",
    "relevance_mean = np.mean(all_relevance_scores)\n",
    "generality_mean = np.mean(all_generality_scores)\n",
    "relevance_std = np.std(all_relevance_scores)\n",
    "generality_std = np.std(all_generality_scores)\n",
    "overarching_relevance_mean = np.mean(all_overarching_relevance_scores)\n",
    "overarching_generality_mean = np.mean(all_overarching_generality_scores)\n",
    "overarching_relevance_std = np.std(all_overarching_relevance_scores)\n",
    "overarching_generality_std = np.std(all_overarching_generality_scores)\n",
    "keywords_relevance_mean = np.mean(all_keywords_relevance_scores)\n",
    "keywords_generality_mean = np.mean(all_keywords_generality_scores)\n",
    "keywords_relevance_std = np.std(all_keywords_relevance_scores)\n",
    "keywords_generality_std = np.std(all_keywords_generality_scores)\n",
    "\n",
    "# Sort tags by average scores\n",
    "sorted_relevance_tags = sorted(avg_relevance_per_tag.items(), key=lambda x: x[1], reverse=True)\n",
    "sorted_generality_tags = sorted(avg_generality_per_tag.items(), key=lambda x: x[1], reverse=True)\n",
    "sorted_overarching_relevance_tags = sorted(avg_overarching_relevance_per_tag.items(), key=lambda x: x[1], reverse=True)\n",
    "sorted_overarching_generality_tags = sorted(avg_overarching_generality_per_tag.items(), key=lambda x: x[1], reverse=True)\n",
    "sorted_keywords_relevance_tags = sorted(avg_keywords_relevance_per_tag.items(), key=lambda x: x[1], reverse=True)\n",
    "sorted_keywords_generality_tags = sorted(avg_keywords_generality_per_tag.items(), key=lambda x: x[1], reverse=True)\n",
    "\n",
    "# Create subplots\n",
    "fig = make_subplots(rows=6, cols=2, subplot_titles=(\n",
    "    \"Average Relevance Score per Tag (Labels)\", \"Average Generality Score per Tag (Labels)\",\n",
    "    \"Average Relevance Score per Tag (Overarching Labels)\", \"Average Generality Score per Tag (Overarching Labels)\",\n",
    "    \"Average Relevance Score per Tag (Keywords)\", \"Average Generality Score per Tag (Keywords)\",\n",
    "    \"Overall Distribution of Relevance Scores (Labels)\", \"Overall Distribution of Generality Scores (Labels)\",\n",
    "    \"Overall Distribution of Relevance Scores (Overarching Labels)\", \"Overall Distribution of Generality Scores (Overarching Labels)\",\n",
    "    \"Overall Distribution of Relevance Scores (Keywords)\", \"Overall Distribution of Generality Scores (Keywords)\"\n",
    "))\n",
    "\n",
    "# Add bar charts for average scores\n",
    "fig.add_trace(go.Bar(x=[tag for tag, _ in sorted_relevance_tags], y=[score for _, score in sorted_relevance_tags], name=\"Avg Relevance\"), row=1, col=1)\n",
    "fig.add_trace(go.Bar(x=[tag for tag, _ in sorted_generality_tags], y=[score for _, score in sorted_generality_tags], name=\"Avg Generality\"), row=1, col=2)\n",
    "fig.add_trace(go.Bar(x=[tag for tag, _ in sorted_overarching_relevance_tags], y=[score for _, score in sorted_overarching_relevance_tags], name=\"Avg Relevance\"), row=2, col=1)\n",
    "fig.add_trace(go.Bar(x=[tag for tag, _ in sorted_overarching_generality_tags], y=[score for _, score in sorted_overarching_generality_tags], name=\"Avg Generality\"), row=2, col=2)\n",
    "fig.add_trace(go.Bar(x=[tag for tag, _ in sorted_keywords_relevance_tags], y=[score for _, score in sorted_keywords_relevance_tags], name=\"Avg Relevance\"), row=3, col=1)\n",
    "fig.add_trace(go.Bar(x=[tag for tag, _ in sorted_keywords_generality_tags], y=[score for _, score in sorted_keywords_generality_tags], name=\"Avg Generality\"), row=3, col=2)\n",
    "\n",
    "# Add histograms for overall distribution of scores\n",
    "fig.add_trace(go.Histogram(x=all_relevance_scores, nbinsx=20, name=\"Relevance Distribution\"), row=4, col=1)\n",
    "fig.add_trace(go.Histogram(x=all_generality_scores, nbinsx=20, name=\"Generality Distribution\"), row=4, col=2)\n",
    "fig.add_trace(go.Histogram(x=all_overarching_relevance_scores, nbinsx=20, name=\"Relevance Distribution\"), row=5, col=1)\n",
    "fig.add_trace(go.Histogram(x=all_overarching_generality_scores, nbinsx=20, name=\"Generality Distribution\"), row=5, col=2)\n",
    "fig.add_trace(go.Histogram(x=all_keywords_relevance_scores, nbinsx=20, name=\"Relevance Distribution\"), row=6, col=1)\n",
    "fig.add_trace(go.Histogram(x=all_keywords_generality_scores, nbinsx=20, name=\"Generality Distribution\"), row=6, col=2)\n",
    "\n",
    "# Add vertical lines for mean and standard deviations on relevance histogram\n",
    "fig.add_vline(x=relevance_mean, line_dash=\"solid\", line_color=\"red\", row=4, col=1)\n",
    "fig.add_vline(x=relevance_mean - relevance_std, line_dash=\"dash\", line_color=\"green\", row=4, col=1)\n",
    "fig.add_vline(x=relevance_mean + relevance_std, line_dash=\"dash\", line_color=\"green\", row=4, col=1)\n",
    "fig.add_vline(x=overarching_relevance_mean, line_dash=\"solid\", line_color=\"red\", row=5, col=1)\n",
    "fig.add_vline(x=overarching_relevance_mean - overarching_relevance_std, line_dash=\"dash\", line_color=\"green\", row=5, col=1)\n",
    "fig.add_vline(x=overarching_relevance_mean + overarching_relevance_std, line_dash=\"dash\", line_color=\"green\", row=5, col=1)\n",
    "fig.add_vline(x=keywords_relevance_mean, line_dash=\"solid\", line_color=\"red\", row=6, col=1)\n",
    "fig.add_vline(x=keywords_relevance_mean - keywords_relevance_std, line_dash=\"dash\", line_color=\"green\", row=6, col=1)\n",
    "fig.add_vline(x=keywords_relevance_mean + keywords_relevance_std, line_dash=\"dash\", line_color=\"green\", row=6, col=1)\n",
    "\n",
    "# Add vertical lines for mean and standard deviations on generality histogram\n",
    "fig.add_vline(x=generality_mean, line_dash=\"solid\", line_color=\"red\", row=4, col=2)\n",
    "fig.add_vline(x=generality_mean - generality_std, line_dash=\"dash\", line_color=\"green\", row=4, col=2)\n",
    "fig.add_vline(x=generality_mean + generality_std, line_dash=\"dash\", line_color=\"green\", row=4, col=2)\n",
    "fig.add_vline(x=overarching_generality_mean, line_dash=\"solid\", line_color=\"red\", row=5, col=2)\n",
    "fig.add_vline(x=overarching_generality_mean - overarching_generality_std, line_dash=\"dash\", line_color=\"green\", row=5, col=2)\n",
    "fig.add_vline(x=overarching_generality_mean + overarching_generality_std, line_dash=\"dash\", line_color=\"green\", row=5, col=2)\n",
    "fig.add_vline(x=keywords_generality_mean, line_dash=\"solid\", line_color=\"red\", row=6, col=2)\n",
    "fig.add_vline(x=keywords_generality_mean - keywords_generality_std, line_dash=\"dash\", line_color=\"green\", row=6, col=2)\n",
    "fig.add_vline(x=keywords_generality_mean + keywords_generality_std, line_dash=\"dash\", line_color=\"green\", row=6, col=2)\n",
    "\n",
    "# Update layout\n",
    "fig.update_layout(height=3600, title_text=\"Tag Relevance and Generality Analysis\", showlegend=False)\n",
    "fig.update_xaxes(title_text=\"Tag\", row=1, col=1)\n",
    "fig.update_xaxes(title_text=\"Tag\", row=1, col=2)\n",
    "fig.update_xaxes(title_text=\"Tag\", row=2, col=1)\n",
    "fig.update_xaxes(title_text=\"Tag\", row=2, col=2)\n",
    "fig.update_xaxes(title_text=\"Tag\", row=3, col=1)\n",
    "fig.update_xaxes(title_text=\"Tag\", row=3, col=2)\n",
    "fig.update_xaxes(title_text=\"Score\", row=4, col=1)\n",
    "fig.update_xaxes(title_text=\"Score\", row=4, col=2)\n",
    "fig.update_xaxes(title_text=\"Score\", row=5, col=1)\n",
    "fig.update_xaxes(title_text=\"Score\", row=5, col=2)\n",
    "fig.update_xaxes(title_text=\"Score\", row=6, col=1)\n",
    "fig.update_xaxes(title_text=\"Score\", row=6, col=2)\n",
    "fig.update_yaxes(title_text=\"Average Score\", range=[0, 5], row=1, col=1)\n",
    "fig.update_yaxes(title_text=\"Average Score\", range=[0, 5], row=1, col=2)\n",
    "fig.update_yaxes(title_text=\"Average Score\", range=[0, 5], row=2, col=1)\n",
    "fig.update_yaxes(title_text=\"Average Score\", range=[0, 5], row=2, col=2)\n",
    "fig.update_yaxes(title_text=\"Average Score\", range=[0, 5], row=3, col=1)\n",
    "fig.update_yaxes(title_text=\"Average Score\", range=[0, 5], row=3, col=2)\n",
    "fig.update_yaxes(title_text=\"Count\", row=4, col=1)\n",
    "fig.update_yaxes(title_text=\"Count\", row=4, col=2)\n",
    "fig.update_yaxes(title_text=\"Count\", row=5, col=1)\n",
    "fig.update_yaxes(title_text=\"Count\", row=5, col=2)\n",
    "fig.update_yaxes(title_text=\"Count\", row=6, col=1)\n",
    "fig.update_yaxes(title_text=\"Count\", row=6, col=2)\n",
    "\n",
    "# Add annotations for overall averages and standard deviations\n",
    "fig.add_annotation(text=f\"Mean: {relevance_mean:.2f}<br>Std Dev: {relevance_std:.2f}\", xref=\"x7\", yref=\"paper\", x=0.5, y=1.05, showarrow=False)\n",
    "fig.add_annotation(text=f\"Mean: {generality_mean:.2f}<br>Std Dev: {generality_std:.2f}\", xref=\"x8\", yref=\"paper\", x=0.5, y=1.05, showarrow=False)\n",
    "fig.add_annotation(text=f\"Mean: {overarching_relevance_mean:.2f}<br>Std Dev: {overarching_relevance_std:.2f}\", xref=\"x9\", yref=\"paper\", x=0.5, y=1.05, showarrow=False)\n",
    "fig.add_annotation(text=f\"Mean: {overarching_generality_mean:.2f}<br>Std Dev: {overarching_generality_std:.2f}\", xref=\"x10\", yref=\"paper\", x=0.5, y=1.05, showarrow=False)\n",
    "fig.add_annotation(text=f\"Mean: {keywords_relevance_mean:.2f}<br>Std Dev: {keywords_relevance_std:.2f}\", xref=\"x11\", yref=\"paper\", x=0.5, y=1.05, showarrow=False)\n",
    "fig.add_annotation(text=f\"Mean: {keywords_generality_mean:.2f}<br>Std Dev: {keywords_generality_std:.2f}\", xref=\"x12\", yref=\"paper\", x=0.5, y=1.05, showarrow=False)\n",
    "\n",
    "# Add legend for the vertical lines\n",
    "fig.add_trace(go.Scatter(x=[None], y=[None], mode='lines', line=dict(color='red', dash='solid'), name='Mean'), row=4, col=1)\n",
    "fig.add_trace(go.Scatter(x=[None], y=[None], mode='lines', line=dict(color='green', dash='dash'), name='±1 Std Dev'), row=4, col=1)\n",
    "fig.add_trace(go.Scatter(x=[None], y=[None], mode='lines', line=dict(color='red', dash='solid'), name='Mean'), row=5, col=1)\n",
    "fig.add_trace(go.Scatter(x=[None], y=[None], mode='lines', line=dict(color='green', dash='dash'), name='±1 Std Dev'), row=5, col=1)\n",
    "fig.add_trace(go.Scatter(x=[None], y=[None], mode='lines', line=dict(color='red', dash='solid'), name='Mean'), row=6, col=1)\n",
    "fig.add_trace(go.Scatter(x=[None], y=[None], mode='lines', line=dict(color='green', dash='dash'), name='±1 Std Dev'), row=6, col=1)\n",
    "\n",
    "# Show the plot\n",
    "fig.show()\n",
    "\n",
    "print(f\"\\nOverall Average Relevance Score (Labels): {relevance_mean:.2f}\")\n",
    "print(f\"Overall Average Generality Score (Labels): {generality_mean:.2f}\")\n",
    "print(f\"Relevance Standard Deviation (Labels): {relevance_std:.2f}\")\n",
    "print(f\"Generality Standard Deviation (Labels): {generality_std:.2f}\")\n",
    "\n",
    "print(f\"\\nOverall Average Relevance Score (Overarching Labels): {overarching_relevance_mean:.2f}\")\n",
    "print(f\"Overall Average Generality Score (Overarching Labels): {overarching_generality_mean:.2f}\")\n",
    "print(f\"Relevance Standard Deviation (Overarching Labels): {overarching_relevance_std:.2f}\")\n",
    "print(f\"Generality Standard Deviation (Overarching Labels): {overarching_generality_std:.2f}\")\n",
    "\n",
    "print(f\"\\nOverall Average Relevance Score (Keywords): {keywords_relevance_mean:.2f}\")\n",
    "print(f\"Overall Average Generality Score (Keywords): {keywords_generality_mean:.2f}\")\n",
    "print(f\"Relevance Standard Deviation (Keywords): {keywords_relevance_std:.2f}\")\n",
    "print(f\"Generality Standard Deviation (Keywords): {keywords_generality_std:.2f}\")"
   ]
  },
  {
   "cell_type": "code",
   "execution_count": null,
   "metadata": {},
   "outputs": [
    {
     "name": "stdout",
     "output_type": "stream",
     "text": [
      "\n",
      "Labels Metrics:\n",
      "  total_labels: 3575.0000\n",
      "  avg_labels_per_dataset: 6.4313\n",
      "  weighted_label_overlap: 0.1730\n",
      "  avg_datasets_per_label: 9.3222\n",
      "  avg_overlap_coefficient: 0.0465\n",
      "  avg_jaccard_similarity: 0.0214\n",
      "  avg_overlap_coefficient_with_overlap: 0.5120\n",
      "  avg_jaccard_similarity_with_overlap: 0.2519\n",
      "  proportion_similar_datasets: 0.0620\n",
      "  proportion_datasets_with_overlap: 0.0850\n",
      "  frequency_entropy: 6.6281\n",
      "\n",
      "Overarching_labels Metrics:\n",
      "  total_labels: 243.0000\n",
      "  avg_labels_per_dataset: 1.9108\n",
      "  weighted_label_overlap: 0.7842\n",
      "  avg_datasets_per_label: 40.7490\n",
      "  avg_overlap_coefficient: 0.1440\n",
      "  avg_jaccard_similarity: 0.0575\n",
      "  avg_overlap_coefficient_with_overlap: 0.8145\n",
      "  avg_jaccard_similarity_with_overlap: 0.4464\n",
      "  proportion_similar_datasets: 0.1246\n",
      "  proportion_datasets_with_overlap: 0.1256\n",
      "  frequency_entropy: 4.1076\n",
      "\n",
      "Keywords_labels Metrics:\n",
      "  total_labels: 1494.0000\n",
      "  avg_labels_per_dataset: 0.5234\n",
      "  weighted_label_overlap: 0.0196\n",
      "  avg_datasets_per_label: 1.8153\n",
      "  avg_overlap_coefficient: 0.0152\n",
      "  avg_jaccard_similarity: 0.0030\n",
      "  avg_overlap_coefficient_with_overlap: 0.9614\n",
      "  avg_jaccard_similarity_with_overlap: 0.7987\n",
      "  proportion_similar_datasets: 0.0023\n",
      "  proportion_datasets_with_overlap: 0.0023\n",
      "  frequency_entropy: 6.4435\n",
      "\n",
      "Category with best overlap (based on weighted label overlap): overarching_labels\n",
      "Category with best similarity (based on average Overlap Coefficient): overarching_labels\n",
      "Category with best similarity (based on average Jaccard Similarity): overarching_labels\n",
      "Category with best similarity (based on average Overlap Coefficient with overlap): keywords_labels\n",
      "Category with best similarity (based on average Jaccard Similarity with overlap): keywords_labels\n"
     ]
    }
   ],
   "source": [
    "from collections import defaultdict\n",
    "import numpy as np\n",
    "from scipy.stats import entropy\n",
    "\n",
    "def analyze_label_overlap(data):\n",
    "    categories = ['labels', 'overarching_labels', 'keywords_labels']\n",
    "    label_data = {cat: defaultdict(lambda: {'count': 0, 'datasets': set()}) for cat in categories}\n",
    "    dataset_labels = {cat: [] for cat in categories}\n",
    "\n",
    "    for idx, entry in enumerate(data):\n",
    "        for cat in categories:\n",
    "            dataset_labels[cat].append(set(entry.get(cat, [])))\n",
    "            for label in entry.get(cat, []):\n",
    "                label_data[cat][label]['count'] += 1\n",
    "                label_data[cat][label]['datasets'].add(idx)\n",
    "\n",
    "    results = {}\n",
    "    for cat in categories:\n",
    "        results[cat] = analyze_category(label_data[cat], dataset_labels[cat], len(data))\n",
    "\n",
    "    return results\n",
    "\n",
    "def analyze_category(label_data, dataset_labels, total_datasets):\n",
    "    total_labels = len(label_data)\n",
    "    \n",
    "    # Calculate the weighted overlap score\n",
    "    total_overlap_score = sum(info['count'] for info in label_data.values() if info['count'] > 1)\n",
    "    max_possible_score = total_labels * total_datasets\n",
    "    \n",
    "    weighted_overlap = (total_overlap_score / max_possible_score) * 100 if max_possible_score > 0 else 0\n",
    "    \n",
    "    # Calculate similarities for all pairs and for pairs with overlap\n",
    "    overlap_coefficients, jaccard_similarities = [], []\n",
    "    overlap_coefficients_with_overlap, jaccard_similarities_with_overlap = [], []\n",
    "    total_pairs, pairs_with_overlap = 0, 0\n",
    "\n",
    "    for i in range(len(dataset_labels)):\n",
    "        for j in range(i+1, len(dataset_labels)):\n",
    "            intersection = len(dataset_labels[i] & dataset_labels[j])\n",
    "            union = len(dataset_labels[i] | dataset_labels[j])\n",
    "            smaller_set = min(len(dataset_labels[i]), len(dataset_labels[j]))\n",
    "            \n",
    "            total_pairs += 1\n",
    "            \n",
    "            if smaller_set > 0:\n",
    "                overlap_coef = intersection / smaller_set\n",
    "                overlap_coefficients.append(overlap_coef)\n",
    "            \n",
    "            if union > 0:\n",
    "                jaccard_sim = intersection / union\n",
    "                jaccard_similarities.append(jaccard_sim)\n",
    "            \n",
    "            if intersection > 0:\n",
    "                pairs_with_overlap += 1\n",
    "                overlap_coefficients_with_overlap.append(overlap_coef)\n",
    "                jaccard_similarities_with_overlap.append(jaccard_sim)\n",
    "\n",
    "    # Calculate averages\n",
    "    avg_overlap_coefficient = np.mean(overlap_coefficients) if overlap_coefficients else 0\n",
    "    avg_jaccard_similarity = np.mean(jaccard_similarities) if jaccard_similarities else 0\n",
    "    avg_overlap_coefficient_with_overlap = np.mean(overlap_coefficients_with_overlap) if overlap_coefficients_with_overlap else 0\n",
    "    avg_jaccard_similarity_with_overlap = np.mean(jaccard_similarities_with_overlap) if jaccard_similarities_with_overlap else 0\n",
    "\n",
    "    # Calculate proportion of similar dataset pairs (Jaccard similarity > 0.1)\n",
    "    similar_pairs = sum(1 for sim in jaccard_similarities if sim > 0.1)\n",
    "    proportion_similar = similar_pairs / total_pairs if total_pairs > 0 else 0\n",
    "\n",
    "    # Calculate label frequency distribution\n",
    "    frequencies = [info['count'] for info in label_data.values()]\n",
    "    freq_entropy = entropy(frequencies) if frequencies else 0\n",
    "\n",
    "    return {\n",
    "        'total_labels': total_labels,\n",
    "        'avg_labels_per_dataset': np.mean([len(labels) for labels in dataset_labels]),\n",
    "        'weighted_label_overlap': weighted_overlap,\n",
    "        'avg_datasets_per_label': np.mean([info['count'] for info in label_data.values()]),\n",
    "        'avg_overlap_coefficient': avg_overlap_coefficient,\n",
    "        'avg_jaccard_similarity': avg_jaccard_similarity,\n",
    "        'avg_overlap_coefficient_with_overlap': avg_overlap_coefficient_with_overlap,\n",
    "        'avg_jaccard_similarity_with_overlap': avg_jaccard_similarity_with_overlap,\n",
    "        'proportion_similar_datasets': proportion_similar,\n",
    "        'proportion_datasets_with_overlap': pairs_with_overlap / total_pairs if total_pairs > 0 else 0,\n",
    "        'frequency_entropy': freq_entropy\n",
    "    }\n",
    "\n",
    "label_overlap = analyze_label_overlap(human_evaluation)\n",
    "\n",
    "# Print results\n",
    "for category, metrics in label_overlap.items():\n",
    "    print(f\"\\n{category.capitalize()} Metrics:\")\n",
    "    for metric, value in metrics.items():\n",
    "        print(f\"  {metric}: {value:.4f}\")\n",
    "\n",
    "# Determine which category provides the best overlap/similarity\n",
    "best_category_overlap = max(label_overlap, key=lambda x: label_overlap[x]['weighted_label_overlap'])\n",
    "best_category_similarity_overlap = max(label_overlap, key=lambda x: label_overlap[x]['avg_overlap_coefficient'])\n",
    "best_category_similarity_jaccard = max(label_overlap, key=lambda x: label_overlap[x]['avg_jaccard_similarity'])\n",
    "best_category_similarity_overlap_with_overlap = max(label_overlap, key=lambda x: label_overlap[x]['avg_overlap_coefficient_with_overlap'])\n",
    "best_category_similarity_jaccard_with_overlap = max(label_overlap, key=lambda x: label_overlap[x]['avg_jaccard_similarity_with_overlap'])\n",
    "\n",
    "print(f\"\\nCategory with best overlap (based on weighted label overlap): {best_category_overlap}\")\n",
    "print(f\"Category with best similarity (based on average Overlap Coefficient): {best_category_similarity_overlap}\")\n",
    "print(f\"Category with best similarity (based on average Jaccard Similarity): {best_category_similarity_jaccard}\")\n",
    "print(f\"Category with best similarity (based on average Overlap Coefficient with overlap): {best_category_similarity_overlap_with_overlap}\")\n",
    "print(f\"Category with best similarity (based on average Jaccard Similarity with overlap): {best_category_similarity_jaccard_with_overlap}\")"
   ]
  },
  {
   "cell_type": "code",
   "execution_count": 38,
   "metadata": {},
   "outputs": [
    {
     "name": "stdout",
     "output_type": "stream",
     "text": [
      "\n",
      "Labels:\n",
      "Total datasets: 5182\n",
      "Datasets with any overlap: 4980 (96.10%)\n",
      "Average overlap between datasets: 0.21 tags\n",
      "Distribution of overlaps:\n",
      "  0 common tag(s): 24567006 pairs (91.50%)\n",
      "  1 common tag(s): 870344 pairs (3.24%)\n",
      "  2 common tag(s): 499096 pairs (1.86%)\n",
      "  3 common tag(s): 418082 pairs (1.56%)\n",
      "  4 common tag(s): 252354 pairs (0.94%)\n",
      "  5 common tag(s): 121018 pairs (0.45%)\n",
      "  6 common tag(s): 52440 pairs (0.20%)\n",
      "  7 common tag(s): 26006 pairs (0.10%)\n",
      "  8 common tag(s): 16898 pairs (0.06%)\n",
      "  9 common tag(s): 10466 pairs (0.04%)\n",
      "  10 common tag(s): 6358 pairs (0.02%)\n",
      "  11 common tag(s): 3724 pairs (0.01%)\n",
      "  12 common tag(s): 1802 pairs (0.01%)\n",
      "  13 common tag(s): 774 pairs (0.00%)\n",
      "  14 common tag(s): 430 pairs (0.00%)\n",
      "  15 common tag(s): 212 pairs (0.00%)\n",
      "  16 common tag(s): 124 pairs (0.00%)\n",
      "  17 common tag(s): 108 pairs (0.00%)\n",
      "  18 common tag(s): 38 pairs (0.00%)\n",
      "  19 common tag(s): 54 pairs (0.00%)\n",
      "  20 common tag(s): 28 pairs (0.00%)\n",
      "  21 common tag(s): 98 pairs (0.00%)\n",
      "  22 common tag(s): 194 pairs (0.00%)\n",
      "  23 common tag(s): 218 pairs (0.00%)\n",
      "  24 common tag(s): 24 pairs (0.00%)\n",
      "  25 common tag(s): 6 pairs (0.00%)\n",
      "  27 common tag(s): 2 pairs (0.00%)\n",
      "  28 common tag(s): 6 pairs (0.00%)\n",
      "  29 common tag(s): 6 pairs (0.00%)\n",
      "  30 common tag(s): 4 pairs (0.00%)\n",
      "  31 common tag(s): 4 pairs (0.00%)\n",
      "  32 common tag(s): 4 pairs (0.00%)\n",
      "  33 common tag(s): 2 pairs (0.00%)\n",
      "  34 common tag(s): 2 pairs (0.00%)\n",
      "  36 common tag(s): 4 pairs (0.00%)\n",
      "  39 common tag(s): 2 pairs (0.00%)\n",
      "  41 common tag(s): 4 pairs (0.00%)\n",
      "Distribution of overlaps (excluding zero overlap):\n",
      "  1 common tag(s): 870344 pairs (38.16%)\n",
      "  2 common tag(s): 499096 pairs (21.88%)\n",
      "  3 common tag(s): 418082 pairs (18.33%)\n",
      "  4 common tag(s): 252354 pairs (11.06%)\n",
      "  5 common tag(s): 121018 pairs (5.31%)\n",
      "  6 common tag(s): 52440 pairs (2.30%)\n",
      "  7 common tag(s): 26006 pairs (1.14%)\n",
      "  8 common tag(s): 16898 pairs (0.74%)\n",
      "  9 common tag(s): 10466 pairs (0.46%)\n",
      "  10 common tag(s): 6358 pairs (0.28%)\n",
      "  11 common tag(s): 3724 pairs (0.16%)\n",
      "  12 common tag(s): 1802 pairs (0.08%)\n",
      "  13 common tag(s): 774 pairs (0.03%)\n",
      "  14 common tag(s): 430 pairs (0.02%)\n",
      "  15 common tag(s): 212 pairs (0.01%)\n",
      "  16 common tag(s): 124 pairs (0.01%)\n",
      "  17 common tag(s): 108 pairs (0.00%)\n",
      "  18 common tag(s): 38 pairs (0.00%)\n",
      "  19 common tag(s): 54 pairs (0.00%)\n",
      "  20 common tag(s): 28 pairs (0.00%)\n",
      "  21 common tag(s): 98 pairs (0.00%)\n",
      "  22 common tag(s): 194 pairs (0.01%)\n",
      "  23 common tag(s): 218 pairs (0.01%)\n",
      "  24 common tag(s): 24 pairs (0.00%)\n",
      "  25 common tag(s): 6 pairs (0.00%)\n",
      "  27 common tag(s): 2 pairs (0.00%)\n",
      "  28 common tag(s): 6 pairs (0.00%)\n",
      "  29 common tag(s): 6 pairs (0.00%)\n",
      "  30 common tag(s): 4 pairs (0.00%)\n",
      "  31 common tag(s): 4 pairs (0.00%)\n",
      "  32 common tag(s): 4 pairs (0.00%)\n",
      "  33 common tag(s): 2 pairs (0.00%)\n",
      "  34 common tag(s): 2 pairs (0.00%)\n",
      "  36 common tag(s): 4 pairs (0.00%)\n",
      "  39 common tag(s): 2 pairs (0.00%)\n",
      "  41 common tag(s): 4 pairs (0.00%)\n",
      "\n",
      "Overarching_labels:\n",
      "Total datasets: 5182\n",
      "Datasets with any overlap: 4368 (84.29%)\n",
      "Average overlap between datasets: 0.15 tags\n",
      "Distribution of overlaps:\n",
      "  0 common tag(s): 23474696 pairs (87.44%)\n",
      "  1 common tag(s): 2871640 pairs (10.70%)\n",
      "  2 common tag(s): 400144 pairs (1.49%)\n",
      "  3 common tag(s): 87100 pairs (0.32%)\n",
      "  4 common tag(s): 6460 pairs (0.02%)\n",
      "  5 common tag(s): 3406 pairs (0.01%)\n",
      "  6 common tag(s): 2770 pairs (0.01%)\n",
      "  7 common tag(s): 1232 pairs (0.00%)\n",
      "  8 common tag(s): 492 pairs (0.00%)\n",
      "  10 common tag(s): 2 pairs (0.00%)\n",
      "Distribution of overlaps (excluding zero overlap):\n",
      "  1 common tag(s): 2871640 pairs (85.13%)\n",
      "  2 common tag(s): 400144 pairs (11.86%)\n",
      "  3 common tag(s): 87100 pairs (2.58%)\n",
      "  4 common tag(s): 6460 pairs (0.19%)\n",
      "  5 common tag(s): 3406 pairs (0.10%)\n",
      "  6 common tag(s): 2770 pairs (0.08%)\n",
      "  7 common tag(s): 1232 pairs (0.04%)\n",
      "  8 common tag(s): 492 pairs (0.01%)\n",
      "  10 common tag(s): 2 pairs (0.00%)\n",
      "\n",
      "Keywords_labels:\n",
      "Total datasets: 5182\n",
      "Datasets with any overlap: 1273 (24.57%)\n",
      "Average overlap between datasets: 0.00 tags\n",
      "Distribution of overlaps:\n",
      "  0 common tag(s): 26786496 pairs (99.77%)\n",
      "  1 common tag(s): 60876 pairs (0.23%)\n",
      "  2 common tag(s): 506 pairs (0.00%)\n",
      "  3 common tag(s): 50 pairs (0.00%)\n",
      "  4 common tag(s): 14 pairs (0.00%)\n",
      "Distribution of overlaps (excluding zero overlap):\n",
      "  1 common tag(s): 60876 pairs (99.07%)\n",
      "  2 common tag(s): 506 pairs (0.82%)\n",
      "  3 common tag(s): 50 pairs (0.08%)\n",
      "  4 common tag(s): 14 pairs (0.02%)\n"
     ]
    },
    {
     "data": {
      "image/png": "[encoded data removed]",
      "text/plain": [
       "<Figure size 2000x1200 with 6 Axes>"
      ]
     },
     "metadata": {},
     "output_type": "display_data"
    }
   ],
   "source": [
    "from collections import defaultdict, Counter\n",
    "import numpy as np\n",
    "import matplotlib.pyplot as plt\n",
    "\n",
    "def analyze_dataset_overlap(data):\n",
    "    categories = ['labels', 'overarching_labels', 'keywords_labels']\n",
    "    results = {}\n",
    "\n",
    "    for cat in categories:\n",
    "        dataset_labels = [set(entry.get(cat, [])) for entry in data]\n",
    "        overlap_counts = defaultdict(Counter)\n",
    "        datasets_with_overlap = set()\n",
    "        total_overlap = 0\n",
    "        total_pairs = 0\n",
    "\n",
    "        for i in range(len(dataset_labels)):\n",
    "            for j in range(i+1, len(dataset_labels)):\n",
    "                overlap = len(dataset_labels[i] & dataset_labels[j])\n",
    "                total_overlap += overlap\n",
    "                total_pairs += 1\n",
    "                if overlap > 0:\n",
    "                    datasets_with_overlap.add(i)\n",
    "                    datasets_with_overlap.add(j)\n",
    "                overlap_counts[i][overlap] += 1\n",
    "                overlap_counts[j][overlap] += 1\n",
    "\n",
    "        # Calculate overall statistics\n",
    "        total_datasets = len(dataset_labels)\n",
    "        datasets_with_any_overlap = len(datasets_with_overlap)\n",
    "        avg_overlap = total_overlap / total_pairs if total_pairs > 0 else 0\n",
    "        \n",
    "        # Calculate distribution of overlap counts\n",
    "        max_overlap = max(max(counter.keys()) for counter in overlap_counts.values()) if overlap_counts else 0\n",
    "        distribution = [sum(counter[i] for counter in overlap_counts.values()) for i in range(max_overlap + 1)]\n",
    "        \n",
    "        # Normalize distribution\n",
    "        total_comparisons = sum(distribution)\n",
    "        distribution_percentage = [count / total_comparisons * 100 for count in distribution]\n",
    "\n",
    "        results[cat] = {\n",
    "            'total_datasets': total_datasets,\n",
    "            'datasets_with_any_overlap': datasets_with_any_overlap,\n",
    "            'percentage_datasets_with_overlap': (datasets_with_any_overlap / total_datasets) * 100,\n",
    "            'distribution': distribution,\n",
    "            'distribution_percentage': distribution_percentage,\n",
    "            'avg_overlap': avg_overlap\n",
    "        }\n",
    "\n",
    "    return results\n",
    "\n",
    "def plot_overlap_distribution(results):\n",
    "    fig, axs = plt.subplots(2, 3, figsize=(20, 12))\n",
    "    categories = ['labels', 'overarching_labels', 'keywords_labels']\n",
    "    \n",
    "    for i, cat in enumerate(categories):\n",
    "        data = results[cat]\n",
    "        \n",
    "        # Plot including zero overlap\n",
    "        axs[0, i].bar(range(len(data['distribution'])), data['distribution_percentage'])\n",
    "        axs[0, i].set_title(f'Overlap Distribution for {cat}\\n(Including Zero Overlap)')\n",
    "        axs[0, i].set_xlabel('Number of Common Tags')\n",
    "        axs[0, i].set_ylabel('Percentage of Dataset Pairs')\n",
    "        axs[0, i].set_xticks(range(len(data['distribution'])))\n",
    "        \n",
    "        # Plot excluding zero overlap\n",
    "        non_zero_distribution = data['distribution'][1:]\n",
    "        non_zero_percentage = [count / sum(non_zero_distribution) * 100 for count in non_zero_distribution]\n",
    "        axs[1, i].bar(range(1, len(non_zero_distribution) + 1), non_zero_percentage)\n",
    "        axs[1, i].set_title(f'Overlap Distribution for {cat}\\n(Excluding Zero Overlap)')\n",
    "        axs[1, i].set_xlabel('Number of Common Tags')\n",
    "        axs[1, i].set_ylabel('Percentage of Dataset Pairs\\n(Excluding Zero Overlap)')\n",
    "        axs[1, i].set_xticks(range(1, len(non_zero_distribution) + 1))\n",
    "\n",
    "    plt.tight_layout()\n",
    "    plt.show()\n",
    "\n",
    "# Analyze and print results\n",
    "overlap_results = analyze_dataset_overlap(human_evaluation)\n",
    "\n",
    "for category, results in overlap_results.items():\n",
    "    print(f\"\\n{category.capitalize()}:\")\n",
    "    print(f\"Total datasets: {results['total_datasets']}\")\n",
    "    print(f\"Datasets with any overlap: {results['datasets_with_any_overlap']} ({results['percentage_datasets_with_overlap']:.2f}%)\")\n",
    "    print(f\"Average overlap between datasets: {results['avg_overlap']:.2f} tags\")\n",
    "    print(\"Distribution of overlaps:\")\n",
    "    for i, count in enumerate(results['distribution']):\n",
    "        if count > 0:\n",
    "            print(f\"  {i} common tag(s): {count} pairs ({results['distribution_percentage'][i]:.2f}%)\")\n",
    "\n",
    "    # Print non-zero distribution\n",
    "    print(\"Distribution of overlaps (excluding zero overlap):\")\n",
    "    non_zero_distribution = results['distribution'][1:]\n",
    "    non_zero_total = sum(non_zero_distribution)\n",
    "    for i, count in enumerate(non_zero_distribution, start=1):\n",
    "        if count > 0:\n",
    "            percentage = (count / non_zero_total) * 100\n",
    "            print(f\"  {i} common tag(s): {count} pairs ({percentage:.2f}%)\")\n",
    "\n",
    "# Plot the distributions\n",
    "plot_overlap_distribution(overlap_results)"
   ]
  }
 ],
 "metadata": {
  "kernelspec": {
   "display_name": "openml-tags-octis",
   "language": "python",
   "name": "python3"
  },
  "language_info": {
   "codemirror_mode": {
    "name": "ipython",
    "version": 3
   },
   "file_extension": ".py",
   "mimetype": "text/x-python",
   "name": "python",
   "nbconvert_exporter": "python",
   "pygments_lexer": "ipython3",
   "version": "3.10.14"
  }
 },
 "nbformat": 4,
 "nbformat_minor": 2
}
