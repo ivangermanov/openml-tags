{
 "cells": [
  {
   "cell_type": "code",
   "execution_count": 1,
   "id": "initial_id",
   "metadata": {
    "ExecuteTime": {
     "end_time": "2024-03-11T10:07:45.918106Z",
     "start_time": "2024-03-11T10:07:41.305615Z"
    },
    "collapsed": true
   },
   "outputs": [],
   "source": [
    "import openml"
   ]
  },
  {
   "cell_type": "code",
   "execution_count": 2,
   "id": "bcbfbd068d15e4df",
   "metadata": {
    "ExecuteTime": {
     "end_time": "2024-03-11T10:07:47.219927Z",
     "start_time": "2024-03-11T10:07:45.918090Z"
    },
    "collapsed": false
   },
   "outputs": [],
   "source": [
    "datasets = openml.datasets.list_datasets()"
   ]
  },
  {
   "cell_type": "code",
   "execution_count": 3,
   "id": "1d620ef22ba54e79",
   "metadata": {
    "ExecuteTime": {
     "end_time": "2024-03-11T10:07:48.488338Z",
     "start_time": "2024-03-11T10:07:47.220738Z"
    },
    "collapsed": false
   },
   "outputs": [],
   "source": [
    "openml.datasets.list_datasets()[531]"
   ]
  },
  {
   "cell_type": "code",
   "execution_count": 4,
   "id": "273640f993c25271",
   "metadata": {
    "ExecuteTime": {
     "end_time": "2024-03-11T10:07:48.495450Z",
     "start_time": "2024-03-11T10:07:48.489877Z"
    },
    "collapsed": false
   },
   "outputs": [],
   "source": [
    "# dataset_ids is ordered_dict, map to variable with only ids\n",
    "ids = list(datasets.keys())\n",
    "len(ids)"
   ]
  },
  {
   "cell_type": "code",
   "execution_count": 5,
   "id": "cde5f5dce80b18b2",
   "metadata": {
    "ExecuteTime": {
     "end_time": "2024-03-11T10:07:48.496224Z",
     "start_time": "2024-03-11T10:07:48.493411Z"
    },
    "collapsed": false
   },
   "outputs": [],
   "source": [
    "# remove 4537, 4546, 4562, because it is not a dataset\n",
    "ids.remove(4537)\n",
    "ids.remove(4546)\n",
    "ids.remove(4562)"
   ]
  },
  {
   "cell_type": "code",
   "execution_count": 6,
   "id": "3537414e2037f583",
   "metadata": {
    "ExecuteTime": {
     "end_time": "2024-03-11T10:07:57.177698Z",
     "start_time": "2024-03-11T10:07:48.496339Z"
    },
    "collapsed": false
   },
   "outputs": [],
   "source": [
    "datasets = openml.datasets.get_datasets(ids, download_data=False, download_qualities=False)\n",
    "len(datasets)"
   ]
  },
  {
   "cell_type": "code",
   "execution_count": 7,
   "id": "a763059765a7365c",
   "metadata": {
    "ExecuteTime": {
     "end_time": "2024-03-11T10:07:57.229692Z",
     "start_time": "2024-03-11T10:07:57.217017Z"
    },
    "collapsed": false
   },
   "outputs": [],
   "source": [
    "# get all datasets with non-empty description\n",
    "datasets = [dataset for dataset in datasets if dataset.description]\n",
    "len(datasets)"
   ]
  },
  {
   "cell_type": "code",
   "execution_count": 8,
   "id": "bf044b14b71f54fb",
   "metadata": {
    "ExecuteTime": {
     "end_time": "2024-03-11T10:07:57.274890Z",
     "start_time": "2024-03-11T10:07:57.267784Z"
    },
    "collapsed": false
   },
   "outputs": [],
   "source": [
    "# remove datasets with description length < 100\n",
    "datasets = [dataset for dataset in datasets if len(dataset.description) >= 100]\n",
    "len(datasets)"
   ]
  },
  {
   "cell_type": "code",
   "execution_count": 9,
   "id": "99867c78ed26b528",
   "metadata": {
    "ExecuteTime": {
     "end_time": "2024-03-11T10:07:57.275757Z",
     "start_time": "2024-03-11T10:07:57.272733Z"
    },
    "collapsed": false
   },
   "outputs": [],
   "source": [
    "datasets[0]"
   ]
  },
  {
   "cell_type": "code",
   "execution_count": 10,
   "id": "ee2538ed45cbc1a6",
   "metadata": {
    "ExecuteTime": {
     "end_time": "2024-03-11T10:07:57.284812Z",
     "start_time": "2024-03-11T10:07:57.282051Z"
    },
    "collapsed": false
   },
   "outputs": [],
   "source": [
    "data = [dataset.description for dataset in datasets]\n",
    "\n",
    "# remove all datasets with identical descriptions\n",
    "data = list(set(data))\n",
    "\n",
    "len(data)"
   ]
  },
  {
   "cell_type": "code",
   "execution_count": 2,
   "id": "958eb9c019b2ecc1",
   "metadata": {
    "ExecuteTime": {
     "end_time": "2024-03-11T10:20:36.754320Z",
     "start_time": "2024-03-11T10:20:36.513826Z"
    },
    "collapsed": false
   },
   "outputs": [],
   "source": [
    "import matplotlib\n",
    "import matplotlib.pyplot as plt\n",
    "# matplotlib.use(\"pgf\")\n",
    "# # matplotlib.rcParams.update({\n",
    "#     # \"pgf.texsystem\": \"pdflatex\",\n",
    "#     'font.family': 'serif',\n",
    "#     # 'text.usetex': True,\n",
    "#     # 'pgf.rcfonts': False,\n",
    "# })\n",
    "\n",
    "plt.hist([len(d) for d in data], bins=100, color='C0')\n",
    "plt.xlabel('Length of description')\n",
    "plt.ylabel('Number of datasets')\n",
    "# set figure size to smaller\n",
    "plt.gcf().set_size_inches(4.65, 3)\n",
    "\n",
    "plt.subplots_adjust(left=0.15, bottom=0.15, right=0.95, top=0.95)\n",
    "# adjust just bottom, not top left or right\n",
    "# plt.subplots_adjust(bottom=0.15)\n",
    "\n",
    "# plt.show()\n",
    "# save fig as pdf\n",
    "# plt.savefig('description_length_histogram.pdf')\n",
    "\n",
    "# import tikzplotlib\n",
    "# tikzplotlib.save(\"description_length_histogram.tex\")"
   ]
  },
  {
   "cell_type": "code",
   "execution_count": null,
   "id": "feacfd2fe9ab444d",
   "metadata": {
    "ExecuteTime": {
     "end_time": "2024-03-11T10:07:58.287559Z",
     "start_time": "2024-03-11T10:07:58.279039Z"
    },
    "collapsed": false
   },
   "outputs": [],
   "source": [
    "import torch\n",
    "print(torch.get_num_threads())\n",
    "torch.set_num_threads(1)\n",
    "print(torch.get_num_threads())"
   ]
  },
  {
   "cell_type": "code",
   "execution_count": null,
   "id": "53cb5226a5a7b1cb",
   "metadata": {
    "ExecuteTime": {
     "start_time": "2024-03-11T10:07:58.280244Z"
    },
    "collapsed": false
   },
   "outputs": [],
   "source": [
    "from sentence_transformers import SentenceTransformer\n",
    "\n",
    "sentence_model = SentenceTransformer(\"all-mpnet-base-v2\")\n",
    "embeddings = sentence_model.encode(data, show_progress_bar=True)"
   ]
  },
  {
   "cell_type": "code",
   "execution_count": null,
   "id": "6b4e0ed73a04049",
   "metadata": {
    "ExecuteTime": {
     "start_time": "2024-03-11T10:07:58.281594Z"
    },
    "collapsed": false
   },
   "outputs": [],
   "source": [
    "from sklearn.feature_extraction.text import CountVectorizer\n",
    "from bertopic import BERTopic\n",
    "from bertopic.representation import KeyBERTInspired, MaximalMarginalRelevance\n",
    "\n",
    "# we add this to remove stopwords\n",
    "# vectorizer_model = CountVectorizer(ngram_range=(1, 2), stop_words=\"english\")\n",
    "# vectorizer_model = CountVectorizer(stop_words=\"english\")\n",
    "# model = BERTopic(vectorizer_model=vectorizer_model,\n",
    "#                  language=\"english\",\n",
    "#                  calculate_probabilities=True,\n",
    "#                  verbose=True)\n",
    "representation_model = KeyBERTInspired()\n",
    "# representation_model = MaximalMarginalRelevance(diversity=0.3)\n",
    "\n",
    "topic_model = BERTopic(\n",
    "    verbose=True,\n",
    "    nr_topics=50,\n",
    "    calculate_probabilities=True,\n",
    "    embedding_model=sentence_model,\n",
    "    # vectorizer_model=vectorizer_model,\n",
    "    representation_model=representation_model\n",
    ")\n",
    "topics, probs = topic_model.fit_transform(data, embeddings)"
   ]
  },
  {
   "cell_type": "code",
   "execution_count": null,
   "id": "605bf44eaca2f032",
   "metadata": {
    "ExecuteTime": {
     "start_time": "2024-03-11T10:07:58.283170Z"
    },
    "collapsed": false
   },
   "outputs": [],
   "source": [
    "# from bertopic import BERTopic\n",
    "# from ctransformers import AutoModelForCausalLM\n",
    "# from transformers import AutoTokenizer, pipeline\n",
    "# \n",
    "# # Set gpu_layers to the number of layers to offload to GPU. Set to 0 if no GPU acceleration is available on your system.\n",
    "# mistral_model = AutoModelForCausalLM.from_pretrained(\n",
    "#     \"TheBloke/zephyr-7B-alpha-GGUF\",\n",
    "#     model_file=\"zephyr-7b-alpha.Q4_K_M.gguf\",\n",
    "#     model_type=\"mistral\",\n",
    "#     gpu_layers=50,\n",
    "#     hf=True\n",
    "# )\n",
    "# tokenizer = AutoTokenizer.from_pretrained(\"HuggingFaceH4/zephyr-7b-alpha\")\n",
    "# \n",
    "# # Pipeline\n",
    "# generator = pipeline(\n",
    "#     model=mistral_model, tokenizer=tokenizer,\n",
    "#     task='text-generation',\n",
    "#     max_new_tokens=50,\n",
    "#     repetition_penalty=1.1\n",
    "# )\n",
    "# \n",
    "# prompt = \"\"\"<|system|>You are a helpful, respectful and honest assistant for labeling topics..</s>\n",
    "# <|user|>\n",
    "# I have a topic that contains the following documents:\n",
    "# [DOCUMENTS]\n",
    "# \n",
    "# The topic is described by the following keywords: '[KEYWORDS]'.\n",
    "# \n",
    "# Based on the information about the topic above, please create a short label of this topic. Make sure you to only return the label and nothing more.</s>\n",
    "# <|assistant|>\"\"\"\n",
    "# \n",
    "# from bertopic.representation import TextGeneration\n",
    "# \n",
    "# # Text generation with Zephyr\n",
    "# zephyr = TextGeneration(generator, prompt=prompt)\n",
    "# representation_model = {\"Zephyr\": zephyr}\n",
    "# \n",
    "# # Topic Modeling\n",
    "# model = BERTopic(representation_model=representation_model, verbose=True)\n",
    "# topics, probs = model.fit_transform(dataset_descriptions, embeddings)"
   ]
  },
  {
   "cell_type": "code",
   "execution_count": null,
   "id": "53ae6dd7cfdc6a4f",
   "metadata": {
    "ExecuteTime": {
     "start_time": "2024-03-11T10:07:58.284588Z"
    },
    "collapsed": false
   },
   "outputs": [],
   "source": [
    "# from transformers import pipeline\n",
    "# from bertopic.representation import TextGeneration\n",
    "# \n",
    "# prompt = \"I have a topic described by the following keywords: [KEYWORDS]. Based on the previous keywords, what is this topic about?\"\n",
    "# \n",
    "# # Create your representation model\n",
    "# generator = pipeline('text2text-generation', model='google/flan-t5-base')\n",
    "# representation_model = TextGeneration(generator)\n",
    "# model = BERTopic(representation_model=representation_model, verbose=True)\n",
    "# topics, probs = model.fit_transform(dataset_descriptions, embeddings)\n"
   ]
  },
  {
   "cell_type": "code",
   "execution_count": null,
   "id": "d9532c4e881014d1",
   "metadata": {
    "ExecuteTime": {
     "start_time": "2024-03-11T10:07:58.285861Z"
    },
    "collapsed": false
   },
   "outputs": [],
   "source": [
    "for i in range(5):\n",
    "    print(f\"{topics[i]}: {len(data[i])}\")"
   ]
  },
  {
   "cell_type": "code",
   "execution_count": null,
   "id": "a7d591e37dc59f30",
   "metadata": {
    "ExecuteTime": {
     "start_time": "2024-03-11T10:07:58.287089Z"
    },
    "collapsed": false
   },
   "outputs": [],
   "source": [
    "topic_model.get_document_info(data)"
   ]
  },
  {
   "cell_type": "code",
   "execution_count": null,
   "id": "69f3fe30378a7869",
   "metadata": {
    "ExecuteTime": {
     "end_time": "2024-03-11T10:07:58.289684Z",
     "start_time": "2024-03-11T10:07:58.288328Z"
    },
    "collapsed": false
   },
   "outputs": [],
   "source": [
    "topic_model.generate_topic_labels()"
   ]
  },
  {
   "cell_type": "code",
   "execution_count": null,
   "id": "605b91f1d69b409c",
   "metadata": {
    "ExecuteTime": {
     "end_time": "2024-03-11T10:07:58.298095Z",
     "start_time": "2024-03-11T10:07:58.289754Z"
    },
    "collapsed": false
   },
   "outputs": [],
   "source": [
    "topic_model.get_topic_info()"
   ]
  },
  {
   "cell_type": "code",
   "execution_count": null,
   "id": "95bc40292bd67bfb",
   "metadata": {
    "ExecuteTime": {
     "start_time": "2024-03-11T10:07:58.291155Z"
    },
    "collapsed": false
   },
   "outputs": [],
   "source": [
    "topic_model.topic_sizes_"
   ]
  },
  {
   "cell_type": "code",
   "execution_count": null,
   "id": "f2c6866b801cfaf2",
   "metadata": {
    "ExecuteTime": {
     "start_time": "2024-03-11T10:07:58.292097Z"
    },
    "collapsed": false
   },
   "outputs": [],
   "source": [
    "topic_model.visualize_documents(data)"
   ]
  },
  {
   "cell_type": "code",
   "execution_count": null,
   "id": "a92e50cc977344e4",
   "metadata": {
    "ExecuteTime": {
     "start_time": "2024-03-11T10:07:58.292823Z"
    },
    "collapsed": false
   },
   "outputs": [],
   "source": [
    "topic_model.visualize_heatmap()"
   ]
  },
  {
   "cell_type": "code",
   "execution_count": null,
   "id": "7c2da95c2d24bc8e",
   "metadata": {
    "ExecuteTime": {
     "start_time": "2024-03-11T10:07:58.293538Z"
    },
    "collapsed": false
   },
   "outputs": [],
   "source": [
    "topic_model.visualize_topics()"
   ]
  },
  {
   "cell_type": "code",
   "execution_count": null,
   "id": "f6a3c41dbe657eda",
   "metadata": {
    "ExecuteTime": {
     "start_time": "2024-03-11T10:07:58.294127Z"
    },
    "collapsed": false
   },
   "outputs": [],
   "source": [
    "topic_model.visualize_hierarchy()"
   ]
  },
  {
   "cell_type": "code",
   "execution_count": null,
   "id": "c6d182e5f1d519c8",
   "metadata": {
    "ExecuteTime": {
     "start_time": "2024-03-11T10:07:58.295469Z"
    },
    "collapsed": false
   },
   "outputs": [],
   "source": [
    "topic_model.visualize_barchart(top_n_topics = 16, n_words=10)"
   ]
  },
  {
   "cell_type": "code",
   "execution_count": 1,
   "id": "266f1fdc3983f62f",
   "metadata": {
    "ExecuteTime": {
     "end_time": "2024-03-11T10:18:00.516689Z",
     "start_time": "2024-03-11T10:18:00.423879Z"
    },
    "collapsed": false
   },
   "outputs": [],
   "source": [
    "# plotly = topic_model.visualize_barchart(top_n_topics = 16, n_words=10)\n",
    "# now visualize only topic 0\n",
    "topic_model.set_topic_labels({2: \"Topic 1\", 3: \"Topic 2\", 4: \"Topic 3\", 7: \"Topic 4\", 9: \"Topic 5\", 11: \"Topic 6\", 12: \"Topic 7\", 13: \"Topic 8\", 14: \"Topic 9\", 15: \"Topic 10\", 0: \"Topic 11\", 1: \"Topic 12\"})\n",
    "plotly = topic_model.visualize_barchart(topics=[2, 3, 4, 7, 9, 11, 12, 13, 14, 15, 0, 1], n_words=10, title=\"\", custom_labels=True, height=270)\n",
    "plotly.show()\n",
    "plotly.write_image(\"topics_barchart.pdf\")"
   ]
  },
  {
   "cell_type": "code",
   "execution_count": null,
   "id": "b477ebcdd6ce67ce",
   "metadata": {
    "ExecuteTime": {
     "end_time": "2024-03-11T10:07:58.303865Z",
     "start_time": "2024-03-11T10:07:58.299132Z"
    },
    "collapsed": false
   },
   "outputs": [],
   "source": [
    "topic_model.get_topic(2)"
   ]
  },
  {
   "cell_type": "code",
   "execution_count": null,
   "id": "d13b2e470e9b85fb",
   "metadata": {
    "ExecuteTime": {
     "start_time": "2024-03-11T10:07:58.300206Z"
    },
    "collapsed": false
   },
   "outputs": [],
   "source": [
    "print(topic_model.get_representative_docs(12)[0])"
   ]
  },
  {
   "cell_type": "code",
   "execution_count": null,
   "id": "b515ab1318d1c50e",
   "metadata": {
    "ExecuteTime": {
     "start_time": "2024-03-11T10:07:58.300992Z"
    },
    "collapsed": false
   },
   "outputs": [],
   "source": [
    "# get the pandas dataframe\n",
    "# topic_model.get_document_info(data)\n",
    "# print only where column Topic is -1\n",
    "topic_model.get_document_info(data)[topic_model.get_document_info(data)[\"Topic\"] == 12]"
   ]
  }
 ],
 "metadata": {
  "kernelspec": {
   "display_name": "Python 3",
   "language": "python",
   "name": "python3"
  },
  "language_info": {
   "codemirror_mode": {
    "name": "ipython",
    "version": 2
   },
   "file_extension": ".py",
   "mimetype": "text/x-python",
   "name": "python",
   "nbconvert_exporter": "python",
   "pygments_lexer": "ipython2",
   "version": "3.10.14"
  }
 },
 "nbformat": 4,
 "nbformat_minor": 5
}
