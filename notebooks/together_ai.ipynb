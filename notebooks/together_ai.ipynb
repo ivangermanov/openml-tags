{
 "cells": [
  {
   "metadata": {
    "ExecuteTime": {
     "end_time": "2024-04-22T20:41:43.477251Z",
     "start_time": "2024-04-22T20:41:43.336825Z"
    }
   },
   "cell_type": "code",
   "source": [
    "import re\n",
    "\n",
    "import pandas as pd\n",
    "from together import Together\n",
    "from tqdm import tqdm\n",
    "\n",
    "\n",
    "def preprocess_text(text):\n",
    "    # Replace underscores and dashes with spaces\n",
    "    # text = text.replace('_', ' ').replace('-', ' ')\n",
    "    # Insert a space before all caps (but not at the start of the string)\n",
    "    # text = re.sub(r'(?<=[a-z])(?=[A-Z])|(?<=[A-Z])(?=[A-Z][a-z])', ' ', text)\n",
    "    # Remove many whitespaces\n",
    "    text = re.sub(r'\\s+', ' ', text)\n",
    "\n",
    "    return text\n",
    "\n",
    "\n",
    "augmented_df = pd.read_csv(\"./data/augmented_datasets.csv\")\n",
    "data = augmented_df['augmented_description'].tolist()\n",
    "\n",
    "print(preprocess_text(data[0]))"
   ],
   "id": "2920d243b625ae03",
   "execution_count": 21,
   "outputs": []
  },
  {
   "metadata": {
    "ExecuteTime": {
     "end_time": "2024-04-22T19:41:11.413925Z",
     "start_time": "2024-04-22T19:41:11.411968Z"
    }
   },
   "cell_type": "code",
   "source": "client = Together(api_key='d4668a226ce70586e35ae91a3a38db6f36bb09c4f5ee54a079551abacf3c1ea8')",
   "id": "c9aa5c751fa3af89",
   "execution_count": 4,
   "outputs": []
  },
  {
   "metadata": {
    "ExecuteTime": {
     "end_time": "2024-04-22T20:04:01.917237Z",
     "start_time": "2024-04-22T20:04:01.912617Z"
    }
   },
   "cell_type": "code",
   "source": "preprocess_text(data[213])",
   "id": "549a13f183a6db54",
   "execution_count": 14,
   "outputs": []
  },
  {
   "metadata": {
    "ExecuteTime": {
     "end_time": "2024-04-22T23:30:47.794244Z",
     "start_time": "2024-04-22T22:16:48.506773Z"
    }
   },
   "cell_type": "code",
   "source": [
    "\n",
    "for i in tqdm(range(len(data))):\n",
    "# for i in tqdm(range(4000, len(data)):\n",
    "    # if i = 417, continue to next iteration\n",
    "    # if i != 417 and i != 1522 and i != 1566 and i != 2138 and i != 2279:\n",
    "    stream = client.chat.completions.create(model=\"meta-llama/Llama-3-70b-chat-hf\",\n",
    "                                            messages=[{\"role\": \"user\", \"content\": f\"\"\"{preprocess_text(data[i])}\n",
    "    Rewrite the text above fixing formatting errors, such as dashes, underscores, etc. in words (instead make the words human readable). If the features are human unreadable and you can't fix that, skip the features that are unreadable. Remove author names and names of people, but keep dataset name and tags. Remove numbers. Stick to the same content that's already provided in the text, and just give the text, no additional text before or after. Be as thorough and verbose as possible in reproducing the original text. If the text is too short, try to expand it by making the sentences longer with the main themes. Also, extract a few (3-10) keywords from the text at the end. Don't say \"Here is the rewritten text\" or anything like that, don't explain yourself, show don't tell, just give the final result!!!\"\"\"}],\n",
    "                                            stream=True, temperature=0.7,\n",
    "                                            top_p=0.95, top_k=40, repetition_penalty=1.1, max_tokens=None)\n",
    "    output_text = ''\n",
    "    for chunk in stream:\n",
    "        output_text += chunk.choices[0].delta.content or \"\"\n",
    "\n",
    "    with open(f'./data/dataset_{i}.txt', 'w') as f:\n",
    "        f.write(str(output_text))"
   ],
   "id": "90b2fe2488f7ae67",
   "execution_count": 23,
   "outputs": []
  }
 ],
 "metadata": {
  "kernelspec": {
   "display_name": "Python 3",
   "language": "python",
   "name": "python3"
  },
  "language_info": {
   "codemirror_mode": {
    "name": "ipython",
    "version": 2
   },
   "file_extension": ".py",
   "mimetype": "text/x-python",
   "name": "python",
   "nbconvert_exporter": "python",
   "pygments_lexer": "ipython2",
   "version": "2.7.6"
  }
 },
 "nbformat": 4,
 "nbformat_minor": 5
}
